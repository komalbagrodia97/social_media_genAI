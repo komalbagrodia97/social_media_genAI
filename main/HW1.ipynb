{
  "cells": [
    {
      "cell_type": "markdown",
      "metadata": {
        "id": "m6o80visLdWB"
      },
      "source": [
        "# Homework 1\n",
        "\n",
        "This notebook provides some skeleton code to get you started on the homework.  Add in your own code and markdown cells  to answer the homework questions.  You will submit this notebook as an .ipynb file.  \n",
        "\n",
        "Before starting, select \"Runtime->Factory reset runtime\" to start with your directories and environment in the base state.\n",
        "\n",
        "If you want to save changes to the notebook, select \"File->Save a copy in Drive\" from the top menu in Colab.  This will save the notebook in your Google Drive.\n"
      ]
    },
    {
      "cell_type": "markdown",
      "metadata": {
        "id": "Q2wua69hLdWF"
      },
      "source": [
        "# Clone GitHub Repository\n",
        "This will clone the repository to your machine.  This includes the code and data files.  Then change into the directory of the repository."
      ]
    },
    {
      "cell_type": "code",
      "execution_count": null,
      "metadata": {
        "colab": {
          "base_uri": "https://localhost:8080/"
        },
        "id": "x2hwc2pFLdWH",
        "outputId": "d38c7e89-3741-4ad0-c98e-61a5700e5eeb"
      },
      "outputs": [
        {
          "output_type": "stream",
          "name": "stdout",
          "text": [
            "Cloning into 'social_media_genAI'...\n",
            "remote: Enumerating objects: 1706, done.\u001b[K\n",
            "remote: Counting objects: 100% (51/51), done.\u001b[K\n",
            "remote: Compressing objects: 100% (43/43), done.\u001b[K\n",
            "remote: Total 1706 (delta 10), reused 45 (delta 8), pack-reused 1655 (from 2)\u001b[K\n",
            "Receiving objects: 100% (1706/1706), 172.25 MiB | 10.12 MiB/s, done.\n",
            "Resolving deltas: 100% (81/81), done.\n",
            "Updating files: 100% (1476/1476), done.\n"
          ]
        }
      ],
      "source": [
        "!git clone https://github.com/zlisto/social_media_genAI\n",
        "\n",
        "import os\n",
        "os.chdir(\"social_media_genAI/main\")"
      ]
    },
    {
      "cell_type": "code",
      "execution_count": null,
      "metadata": {
        "id": "qrJI4tB4LdWE",
        "colab": {
          "base_uri": "https://localhost:8080/"
        },
        "outputId": "e473b723-d8ee-4034-d855-46ab8e264fa5"
      },
      "outputs": [
        {
          "output_type": "stream",
          "name": "stdout",
          "text": [
            "\u001b[2K   \u001b[90m━━━━━━━━━━━━━━━━━━━━━━━━━━━━━━━━━━━━━━━━\u001b[0m \u001b[32m2.0/2.0 MB\u001b[0m \u001b[31m17.6 MB/s\u001b[0m eta \u001b[36m0:00:00\u001b[0m\n",
            "\u001b[2K   \u001b[90m━━━━━━━━━━━━━━━━━━━━━━━━━━━━━━━━━━━━━━━━\u001b[0m \u001b[32m548.3/548.3 kB\u001b[0m \u001b[31m26.5 MB/s\u001b[0m eta \u001b[36m0:00:00\u001b[0m\n",
            "\u001b[?25h"
          ]
        }
      ],
      "source": [
        "pip install -q -r requirements.txt"
      ]
    },
    {
      "cell_type": "code",
      "execution_count": null,
      "metadata": {
        "id": "XgDkg0YALdWF"
      },
      "outputs": [],
      "source": [
        "import pandas as pd\n",
        "import seaborn as sns\n",
        "import matplotlib.pyplot as plt\n",
        "\n",
        "#this option makes it so tweets display nicely in a dataframe\n",
        "pd.set_option(\"display.max_colwidth\", None)\n",
        "\n",
        "#this code sets the font sizes for plots\n",
        "plt.rcParams.update({'axes.labelsize': 18,\n",
        "                     'xtick.labelsize': 14,\n",
        "                     'ytick.labelsize': 14})\n",
        "\n",
        "\n"
      ]
    },
    {
      "cell_type": "markdown",
      "metadata": {
        "id": "RBbN-z8NLdWH"
      },
      "source": [
        "# Problem 1 (30 points) User Tweets\n",
        "\n",
        "We will look at a particular Twitter user's tweets in this problem."
      ]
    },
    {
      "cell_type": "markdown",
      "metadata": {
        "id": "KCz6d8VHLdWI"
      },
      "source": [
        "#### 1. (5 points) Load tweets\n",
        "\n",
        "Load the tweets into a dataframe and call it `df`. The tweets are in the file `\"data/TwExportly/TwExportly_kingjames_tweets_2024_02_20.csv\"`. Display the  created_at and text columns of the **last** two rows of `df` with the `display` function."
      ]
    },
    {
      "cell_type": "code",
      "source": [],
      "metadata": {
        "id": "aH0RHUD3LTkw"
      },
      "execution_count": null,
      "outputs": []
    },
    {
      "cell_type": "markdown",
      "metadata": {
        "id": "YopOUMMbLdWJ"
      },
      "source": [
        "#### 2. (3 points) Random sample\n",
        "\n",
        "Display a random sample of five tweets.  Only show the text column of the tweets."
      ]
    },
    {
      "cell_type": "code",
      "source": [],
      "metadata": {
        "id": "2AGGg0fQLVQ7"
      },
      "execution_count": null,
      "outputs": []
    },
    {
      "cell_type": "markdown",
      "metadata": {
        "id": "UyGkH78WLdWK"
      },
      "source": [
        "#### 3. (10 points) Searching the tweets\n",
        "\n",
        "Find all tweets that contain the keyword \"beautiful\". Display the **text and retweet count** of the five tweets that contain the keyword with the highest retweet_count.\n",
        "\n"
      ]
    },
    {
      "cell_type": "code",
      "source": [],
      "metadata": {
        "id": "WzOVc4iZLZ6l"
      },
      "execution_count": null,
      "outputs": []
    },
    {
      "cell_type": "markdown",
      "metadata": {
        "id": "fIISvH1cLdWL"
      },
      "source": [
        "#### 4.  (4 points) Count tweets\n",
        "\n",
        "How many tweets contain the word \"beautiful\"?  Display your answer.\n",
        "\n"
      ]
    },
    {
      "cell_type": "code",
      "source": [],
      "metadata": {
        "id": "bjJmgAy4LbC8"
      },
      "execution_count": null,
      "outputs": []
    },
    {
      "cell_type": "markdown",
      "metadata": {
        "id": "mcPTlvcBLdWM"
      },
      "source": [
        "#### 6.  (8 points) Retweet count barplot\n",
        "\n",
        "Make a bar plot of the retweet count of tweets with and without the word beautiful.  Give the plot a title and make the bars pink.\n",
        "\n",
        "\n"
      ]
    },
    {
      "cell_type": "code",
      "source": [],
      "metadata": {
        "id": "adGWLDUbLb70"
      },
      "execution_count": null,
      "outputs": []
    },
    {
      "cell_type": "markdown",
      "metadata": {
        "id": "bb8kI1wXLdWN"
      },
      "source": [
        "# Problem 2 (30 points) Multipler User Tweets\n",
        "\n",
        "Now we will look at the tweets of multiple users."
      ]
    },
    {
      "cell_type": "markdown",
      "metadata": {
        "id": "XPhw_JWeLdWN"
      },
      "source": [
        "#### 1. (5 points) Load tweets\n",
        "\n",
        "Load the tweets for the users with `\"screen_name\"` kamalaharris, joebiden, and kingjames\n",
        "into a single dataframe and call it `df`. The tweets are in the files `\"data/TwExportly/TwExportly_<screen_name>_tweets_2024_02_20.csv\"`, where <screen_name> is the users screen name.  Add a column to `df` called `\"screen_name\"` that is the screen name for each user. Display the number of tweets for each screen name in `df`."
      ]
    },
    {
      "cell_type": "code",
      "source": [],
      "metadata": {
        "id": "wpHTzPLbLdLd"
      },
      "execution_count": null,
      "outputs": []
    },
    {
      "cell_type": "markdown",
      "metadata": {
        "id": "DyrwvR1HLdWN"
      },
      "source": [
        "#### 2. ( 5 points) Mean like count\n",
        "\n",
        "Calculate the mean retweet count of each user in the user tweets dataset.  \n"
      ]
    },
    {
      "cell_type": "code",
      "source": [],
      "metadata": {
        "id": "kCOdCCFTLeQe"
      },
      "execution_count": null,
      "outputs": []
    },
    {
      "cell_type": "markdown",
      "metadata": {
        "id": "yLH30G1YLdWO"
      },
      "source": [
        "#### 3. ( 5 points) Barplot of engagement\n",
        "\n",
        "Let's define the engagement of a tweet with the following equation:\n",
        "\n",
        "$$\\text{engagement} = \\frac{\\text{favorite_count}}{\\text{view_count}}. $$\n",
        "\n",
        "Make a bar plot of the mean engagement vs screen name.  Make the bars red.  Title the plot with the screen name with the highest mean engagement.\n"
      ]
    },
    {
      "cell_type": "code",
      "source": [],
      "metadata": {
        "id": "RxZ5kbWpLgAp"
      },
      "execution_count": null,
      "outputs": []
    },
    {
      "cell_type": "markdown",
      "metadata": {
        "id": "WQvNwJvILdWO"
      },
      "source": [
        "#### 4. (5 points) Ratioed\n",
        "\n",
        "A tweet is said to be \"ratioed\" when it has more replies than likes.  Add a column to `df` called `\"ratio\"` that is equal to the reply_count divided by the favorite_count.\n",
        "Use the `describe` function to print out the summary statistics of the `\"ratio\"` column.\n",
        "\n"
      ]
    },
    {
      "cell_type": "code",
      "source": [],
      "metadata": {
        "id": "jipHRE3xLhQg"
      },
      "execution_count": null,
      "outputs": []
    },
    {
      "cell_type": "markdown",
      "metadata": {
        "id": "WhsGnHBdLdWO"
      },
      "source": [
        "#### 5. (5 points) Ratio Boxplot\n",
        "\n",
        "A boxplot shows the quartile values of data. Make a boxplot of the `\"ratio\"` column versus `\"screen_name\"` using the `boxplot` function in Seaborn.  Add a descriptive title to the plot.  \n",
        "\n"
      ]
    },
    {
      "cell_type": "code",
      "source": [],
      "metadata": {
        "id": "4IJYHLE4LiZI"
      },
      "execution_count": null,
      "outputs": []
    },
    {
      "cell_type": "markdown",
      "metadata": {
        "id": "n5aOlNNQLdWO"
      },
      "source": [
        "#### 6. (5 points) Most Ratioed Tweet\n",
        "\n",
        "Display the screen name, ratio,  and text of the tweet with the highest value of the ratio.\n"
      ]
    },
    {
      "cell_type": "code",
      "source": [],
      "metadata": {
        "id": "DJafiHspLj2b"
      },
      "execution_count": null,
      "outputs": []
    },
    {
      "cell_type": "markdown",
      "source": [
        "# Problem 3 (40 points) Challenge Problem\n",
        "\n",
        "In this problem we will challenge your analysis abilties and try some things that were not taught in class.  **Tip**: You may find it helpful to reload the data again for each problem from the csv file into a dataframe `df`.  This will help you avoid some annoying issues."
      ],
      "metadata": {
        "id": "-ce1crUg9vog"
      }
    },
    {
      "cell_type": "markdown",
      "source": [
        "## 1. (10 points) Word Usage Evolution\n",
        "\n",
        "Load the tweets into a dataframe and call it `df`. The tweets are in the file `\"data/TwExportly/TwExportly_kamalaharris_tweets_2024_02_20.csv\"`. Display the  number of tweets in `df`. Then\n",
        "plot the fraction of tweets in `df` that use the keyword abortion (case insensitive) before and after the date January 1st, 2024.  Make the y-axis tight so the figure is easier to read."
      ],
      "metadata": {
        "id": "yx07r-JE-LSw"
      }
    },
    {
      "cell_type": "code",
      "source": [],
      "metadata": {
        "id": "tAl313xhLled"
      },
      "execution_count": null,
      "outputs": []
    },
    {
      "cell_type": "markdown",
      "source": [
        "## 3. (6 points) Day of the Week\n",
        "Reload the tweets into a dataframe and call it `df`. The tweets are in the file `\"data/TwExportly/TwExportly_kamalaharris_tweets_2024_02_20.csv\"`. Make a histogram of the day of the week the tweets are posted."
      ],
      "metadata": {
        "id": "_6WvekFf-06A"
      }
    },
    {
      "cell_type": "code",
      "source": [],
      "metadata": {
        "id": "4OB1ts-vLpxN"
      },
      "execution_count": null,
      "outputs": []
    },
    {
      "cell_type": "markdown",
      "source": [
        "## 3. (12 points) Days of Best Tweets\n",
        "Reload the tweets into a dataframe and call it `df`. The tweets are in the file `\"data/TwExportly/TwExportly_kamalaharris_tweets_2024_02_20.csv\"`.\n",
        "Make a histogram of the day of the week for the tweets in the **upper** 50th quantile of retweet_count and give it a good title."
      ],
      "metadata": {
        "id": "4-PUWZkpJHTT"
      }
    },
    {
      "cell_type": "code",
      "source": [],
      "metadata": {
        "id": "Agsgsks6Lqz-"
      },
      "execution_count": null,
      "outputs": []
    },
    {
      "cell_type": "markdown",
      "source": [
        "## 4. (12 points) Days of Worst Tweets\n",
        "Reload the tweets into a dataframe and call it `df`. The tweets are in the file `\"data/TwExportly/TwExportly_kamalaharris_tweets_2024_02_20.csv\"`.  Make a histogram of the day of the week for the tweets in the **lower** 50th quantile of retweet_count and give it a good title."
      ],
      "metadata": {
        "id": "qs-9Xur_ci-t"
      }
    },
    {
      "cell_type": "code",
      "source": [],
      "metadata": {
        "id": "asJLrC2TLsA2"
      },
      "execution_count": null,
      "outputs": []
    }
  ],
  "metadata": {
    "colab": {
      "provenance": [],
      "toc_visible": true
    },
    "kernelspec": {
      "display_name": "Python 3 (ipykernel)",
      "language": "python",
      "name": "python3"
    },
    "language_info": {
      "codemirror_mode": {
        "name": "ipython",
        "version": 3
      },
      "file_extension": ".py",
      "mimetype": "text/x-python",
      "name": "python",
      "nbconvert_exporter": "python",
      "pygments_lexer": "ipython3",
      "version": "3.9.13"
    }
  },
  "nbformat": 4,
  "nbformat_minor": 0
}