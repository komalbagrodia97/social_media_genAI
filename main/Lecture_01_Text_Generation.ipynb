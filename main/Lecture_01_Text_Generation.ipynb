{
  "cells": [
    {
      "cell_type": "markdown",
      "metadata": {
        "id": "vUOKSuOWzt3u"
      },
      "source": [
        "# Lecture 1 Text Generation\n",
        "\n",
        "This notebook will show you how to generate text content with OpenAI's API for ChatGPT.\n",
        "\n",
        "Below is the overview of this notebook.\n",
        "\n",
        "<ol type = 1>\n",
        "  <li> Generate Text with ChatGPT</li>\n",
        "  <li> Create Tweets with Topic and Sentiment\n",
        "  <li> Few-Shot Learning of Tweet Style</li>\n",
        "  <li> Customer Service Bot </li>\n",
        "  <li> Community Detection </li>\n",
        "  <li> Persuasive Content </li>\n",
        "</ol>\n",
        "\n",
        "Before starting, select \"Runtime->Factory reset runtime\" to start with your directories and environment in the base state.\n",
        "\n",
        "If you want to save changes to the notebook, select \"File->Save a copy in Drive\" from the top menu in Colab.  This will save the notebook in your Google Drive.\n"
      ]
    },
    {
      "cell_type": "markdown",
      "metadata": {
        "id": "tZ2fpQvAzt30"
      },
      "source": [
        "# Clones, Installs, and Imports\n"
      ]
    },
    {
      "cell_type": "markdown",
      "source": [
        "## Clone GitHub Repository"
      ],
      "metadata": {
        "id": "_ZXw9HBFkxRi"
      }
    },
    {
      "cell_type": "code",
      "execution_count": 1,
      "metadata": {
        "colab": {
          "base_uri": "https://localhost:8080/"
        },
        "id": "2736cUrVzt30",
        "outputId": "44db64cf-a210-4f3a-9b04-1c9364ede37c"
      },
      "outputs": [
        {
          "output_type": "stream",
          "name": "stdout",
          "text": [
            "Cloning into 'social_media_genAI'...\n",
            "remote: Enumerating objects: 73, done.\u001b[K\n",
            "remote: Counting objects: 100% (73/73), done.\u001b[K\n",
            "remote: Compressing objects: 100% (62/62), done.\u001b[K\n",
            "remote: Total 73 (delta 19), reused 59 (delta 9), pack-reused 0\u001b[K\n",
            "Receiving objects: 100% (73/73), 4.05 MiB | 37.36 MiB/s, done.\n",
            "Resolving deltas: 100% (19/19), done.\n"
          ]
        }
      ],
      "source": [
        "!git clone https://github.com/zlisto/social_media_genAI\n",
        "\n",
        "import os\n",
        "os.chdir(\"social_media_genAI/main\")"
      ]
    },
    {
      "cell_type": "markdown",
      "source": [
        "## Install Packages"
      ],
      "metadata": {
        "id": "hEjedrlqk0XL"
      }
    },
    {
      "cell_type": "code",
      "execution_count": 2,
      "metadata": {
        "colab": {
          "base_uri": "https://localhost:8080/"
        },
        "id": "y7ZFC5LyebQO",
        "outputId": "fae7ae8a-5532-47aa-a73b-b03b49726293"
      },
      "outputs": [
        {
          "output_type": "stream",
          "name": "stdout",
          "text": [
            "\u001b[?25l     \u001b[90m━━━━━━━━━━━━━━━━━━━━━━━━━━━━━━━━━━━━━━━━\u001b[0m \u001b[32m0.0/320.6 kB\u001b[0m \u001b[31m?\u001b[0m eta \u001b[36m-:--:--\u001b[0m\r\u001b[2K     \u001b[90m━━━━━━━━━━━━━━━━━━━━━━━━━━━━━━━━━━━━━━━━\u001b[0m \u001b[32m320.6/320.6 kB\u001b[0m \u001b[31m10.0 MB/s\u001b[0m eta \u001b[36m0:00:00\u001b[0m\n",
            "\u001b[2K     \u001b[90m━━━━━━━━━━━━━━━━━━━━━━━━━━━━━━━━━━━━━━━━\u001b[0m \u001b[32m75.6/75.6 kB\u001b[0m \u001b[31m6.0 MB/s\u001b[0m eta \u001b[36m0:00:00\u001b[0m\n",
            "\u001b[2K     \u001b[90m━━━━━━━━━━━━━━━━━━━━━━━━━━━━━━━━━━━━━━━━\u001b[0m \u001b[32m77.9/77.9 kB\u001b[0m \u001b[31m6.4 MB/s\u001b[0m eta \u001b[36m0:00:00\u001b[0m\n",
            "\u001b[2K     \u001b[90m━━━━━━━━━━━━━━━━━━━━━━━━━━━━━━━━━━━━━━━━\u001b[0m \u001b[32m58.3/58.3 kB\u001b[0m \u001b[31m6.3 MB/s\u001b[0m eta \u001b[36m0:00:00\u001b[0m\n",
            "\u001b[?25h"
          ]
        }
      ],
      "source": [
        "#Install OpenAI\n",
        "!pip install openai -q"
      ]
    },
    {
      "cell_type": "code",
      "execution_count": 3,
      "metadata": {
        "id": "vmcLMKtKzt32"
      },
      "outputs": [],
      "source": [
        "import pandas as pd\n",
        "import numpy as np\n",
        "import matplotlib.pyplot as plt\n",
        "import seaborn as sns\n",
        "import json\n",
        "import re\n",
        "#import scripts.TextAnalysis as ta\n",
        "from textwrap import fill\n",
        "\n",
        "#helper functions for using ChatGPT\n",
        "from scripts.chatgpt import *\n",
        "\n",
        "\n",
        "pd.set_option(\"display.max_colwidth\", None)\n",
        "#this code makes the default font sizes big in plots\n",
        "plt.rcParams.update({'axes.labelsize': 18,\n",
        "                     'xtick.labelsize': 14,\n",
        "                     'ytick.labelsize': 14})"
      ]
    },
    {
      "cell_type": "markdown",
      "metadata": {
        "id": "Yw1SxSQU35lH"
      },
      "source": [
        "## OpenAI API Key\n",
        "\n",
        "You can get your OpenAI API key from https://platform.openai.com/api-keys.\n",
        "Paste your key into the environment variable `\"OPEN_API_KEY\"`.  Then create a `client` that connects you to the OpenAI API."
      ]
    },
    {
      "cell_type": "code",
      "execution_count": 4,
      "metadata": {
        "id": "sISbECK0efR_"
      },
      "outputs": [],
      "source": [
        "import openai\n",
        "os.environ['OPENAI_API_KEY'] = ''\n",
        "\n",
        "OPENAI_API_KEY = os.getenv('OPENAI_API_KEY')\n",
        "\n",
        "client = openai.Client(api_key=OPENAI_API_KEY)"
      ]
    },
    {
      "cell_type": "markdown",
      "metadata": {
        "id": "rHBFAlG3zt33"
      },
      "source": [
        "# Generate Tweets with ChatGPT\n",
        "\n",
        "\n",
        "\n"
      ]
    },
    {
      "cell_type": "markdown",
      "metadata": {
        "id": "Ik7KnaU7zt33"
      },
      "source": [
        "## Completions Function\n",
        "\n",
        "The function `get_completion` takes in a user `prompt` string, a `instructions` stringm an OpenAI `client`, and the ChatGPT `model` and returns the response to the `prompt`.  We can use this function throughout the notebook to have cleaner code.  The function makes use of the OpenAI `chat.completions.create` function."
      ]
    },
    {
      "cell_type": "markdown",
      "metadata": {
        "id": "uxOVGVfA7WBU"
      },
      "source": [
        "## Instructions and Prompt\n",
        "\n",
        "We will provide `instructions` to the AI telling it its general function.  We then provide a `prompt` with the specific task we want it to to.  Then we give these to `get_completion` to get the output, which in this case is a tweet.  We can test different `model` values to see how they compare.  The model values are\n",
        "\n",
        "1. `\"gpt-4o\"` - the more powerful version of ChatGPT (the o stands for Omni).  This is the default model in `get_completion`.\n",
        "\n",
        "2. `\"gpt-3.5-turbo-0125\"` - the weaker and cheaper version of ChatGPT\n",
        "\n",
        "\n",
        "You can find more about OpenAI's API pricing here: https://openai.com/pricing\n",
        "\n",
        "To display the tweet, use the `display_tweet` function which makes it look like a tweet.  This function was written by ChatGPT after looking at a screenshot of a tweet."
      ]
    },
    {
      "cell_type": "code",
      "execution_count": 5,
      "metadata": {
        "id": "KveyUj4kufFL"
      },
      "outputs": [],
      "source": [
        "instructions = '''You are going to help create content for a social\n",
        "media account.  You will be asked to write clever tweets that will get\n",
        "engagement.  Return only the text of the tweet.'''\n",
        "\n",
        "prompt = '''Write a tweet.'''\n",
        "\n"
      ]
    },
    {
      "cell_type": "code",
      "execution_count": 6,
      "metadata": {
        "colab": {
          "base_uri": "https://localhost:8080/",
          "height": 158
        },
        "id": "qDoKBX9P9GpQ",
        "outputId": "cbd78298-5cb7-4fcd-acec-062479804cd9"
      },
      "outputs": [
        {
          "output_type": "display_data",
          "data": {
            "text/plain": [
              "<IPython.core.display.HTML object>"
            ],
            "text/html": [
              "\n",
              "    <!DOCTYPE html>\n",
              "    <html>\n",
              "    <head>\n",
              "        <style>\n",
              "            .tweet {\n",
              "                background-color: white;\n",
              "                color: black;\n",
              "                border: 1px solid #e1e8ed;\n",
              "                border-radius: 10px;\n",
              "                padding: 20px;\n",
              "                max-width: 500px;\n",
              "                margin: 20px auto;\n",
              "                font-family: 'Helvetica Neue', Helvetica, Arial, sans-serif;\n",
              "                box-shadow: 0px 0px 10px rgba(0,0,0,0.1);\n",
              "            }\n",
              "            .user strong {\n",
              "                color: #1da1f2;\n",
              "            }\n",
              "            .tweet-text p {\n",
              "                margin: 0;\n",
              "                line-height: 1.5;\n",
              "            }\n",
              "        </style>\n",
              "    </head>\n",
              "    <body>\n",
              "        <div class=\"tweet\">\n",
              "            <div class=\"user\">\n",
              "                <strong>@zlisto</strong>\n",
              "            </div>\n",
              "            <div class=\"tweet-text\">\n",
              "                <p>When life gives you lemons, order pizza. 🍋➡️🍕 #WednesdayWisdom #LifeHacks</p>\n",
              "            </div>\n",
              "        </div>\n",
              "    </body>\n",
              "    </html>\n",
              "    "
            ]
          },
          "metadata": {}
        }
      ],
      "source": [
        "tweet = generate_text(prompt, instructions, client)\n",
        "display_tweet(tweet);"
      ]
    },
    {
      "cell_type": "markdown",
      "metadata": {
        "id": "RXK8BDZhuffK"
      },
      "source": [
        "# Controlling Tweet Content, Sentiment, and Style"
      ]
    },
    {
      "cell_type": "markdown",
      "metadata": {
        "id": "aa9ELjz_9UYt"
      },
      "source": [
        "## Tweet Topic\n",
        "\n",
        "We can make a tweet about a topic my modifying the `prompt`."
      ]
    },
    {
      "cell_type": "code",
      "execution_count": 8,
      "metadata": {
        "colab": {
          "base_uri": "https://localhost:8080/",
          "height": 179
        },
        "id": "rNSHxVp7upDz",
        "outputId": "7b96953d-26e3-4473-9b6d-533f2a73b134"
      },
      "outputs": [
        {
          "output_type": "display_data",
          "data": {
            "text/plain": [
              "<IPython.core.display.HTML object>"
            ],
            "text/html": [
              "\n",
              "    <!DOCTYPE html>\n",
              "    <html>\n",
              "    <head>\n",
              "        <style>\n",
              "            .tweet {\n",
              "                background-color: white;\n",
              "                color: black;\n",
              "                border: 1px solid #e1e8ed;\n",
              "                border-radius: 10px;\n",
              "                padding: 20px;\n",
              "                max-width: 500px;\n",
              "                margin: 20px auto;\n",
              "                font-family: 'Helvetica Neue', Helvetica, Arial, sans-serif;\n",
              "                box-shadow: 0px 0px 10px rgba(0,0,0,0.1);\n",
              "            }\n",
              "            .user strong {\n",
              "                color: #1da1f2;\n",
              "            }\n",
              "            .tweet-text p {\n",
              "                margin: 0;\n",
              "                line-height: 1.5;\n",
              "            }\n",
              "        </style>\n",
              "    </head>\n",
              "    <body>\n",
              "        <div class=\"tweet\">\n",
              "            <div class=\"user\">\n",
              "                <strong>@zlisto</strong>\n",
              "            </div>\n",
              "            <div class=\"tweet-text\">\n",
              "                <p>🍏 Swap out chips for crunchy apple slices and watch your energy soar! Healthy eating never tasted so sweet. 🍎✨ #EatClean #HealthyLiving #SnackSmart</p>\n",
              "            </div>\n",
              "        </div>\n",
              "    </body>\n",
              "    </html>\n",
              "    "
            ]
          },
          "metadata": {}
        }
      ],
      "source": [
        "instructions = '''You are going to help create content for a social\n",
        "media account.  You will be asked to write clever tweets that will get\n",
        "engagement.  Return only the text of the tweet.'''\n",
        "\n",
        "topic = 'healthy eating'\n",
        "prompt = f'''Write a tweet about {topic}.'''\n",
        "\n",
        "tweet = generate_text(prompt, instructions, client)\n",
        "display_tweet(tweet);"
      ]
    },
    {
      "cell_type": "markdown",
      "metadata": {
        "id": "5Z9ZjOY4upMl"
      },
      "source": [
        "## Tweet Sentiment\n",
        "\n",
        "We can control the sentiment of the tweet by choosing a value for `sentiment` and modifying the prompt to include the desired sentiment along with the range of the sentiment and what the extreme values mean.  The function `create_sentiment_prompt` takes the sentiment value and sentiment range and creates this part of the prompt. We can then add this to the end of our basic prompt."
      ]
    },
    {
      "cell_type": "code",
      "execution_count": 9,
      "metadata": {
        "id": "JgFiECvZ-gqG"
      },
      "outputs": [],
      "source": [
        "def create_sentiment_prompt(sentiment, sentiment_min, sentiment_max):\n",
        "  prompt = f'''Give the tweet a sentiment of {sentiment}\n",
        "  where sentiment ={sentiment_min} means very negative and\n",
        "  sentiment = {sentiment_max} means very postive.'''\n",
        "  return prompt"
      ]
    },
    {
      "cell_type": "code",
      "execution_count": 10,
      "metadata": {
        "colab": {
          "base_uri": "https://localhost:8080/",
          "height": 564
        },
        "id": "s3CkzLRT96MY",
        "outputId": "3730747e-0a09-4ec9-b11d-cd3ea55aecdd"
      },
      "outputs": [
        {
          "output_type": "stream",
          "name": "stdout",
          "text": [
            "Sentiment:-10\n",
            "\n"
          ]
        },
        {
          "output_type": "display_data",
          "data": {
            "text/plain": [
              "<IPython.core.display.HTML object>"
            ],
            "text/html": [
              "\n",
              "    <!DOCTYPE html>\n",
              "    <html>\n",
              "    <head>\n",
              "        <style>\n",
              "            .tweet {\n",
              "                background-color: white;\n",
              "                color: black;\n",
              "                border: 1px solid #e1e8ed;\n",
              "                border-radius: 10px;\n",
              "                padding: 20px;\n",
              "                max-width: 500px;\n",
              "                margin: 20px auto;\n",
              "                font-family: 'Helvetica Neue', Helvetica, Arial, sans-serif;\n",
              "                box-shadow: 0px 0px 10px rgba(0,0,0,0.1);\n",
              "            }\n",
              "            .user strong {\n",
              "                color: #1da1f2;\n",
              "            }\n",
              "            .tweet-text p {\n",
              "                margin: 0;\n",
              "                line-height: 1.5;\n",
              "            }\n",
              "        </style>\n",
              "    </head>\n",
              "    <body>\n",
              "        <div class=\"tweet\">\n",
              "            <div class=\"user\">\n",
              "                <strong>@zlisto</strong>\n",
              "            </div>\n",
              "            <div class=\"tweet-text\">\n",
              "                <p>\"Healthy eating is a joke. Who wants to live on kale and sad salads? Give me pizza any day. #NotAFan #LifeIsShort\"</p>\n",
              "            </div>\n",
              "        </div>\n",
              "    </body>\n",
              "    </html>\n",
              "    "
            ]
          },
          "metadata": {}
        },
        {
          "output_type": "stream",
          "name": "stdout",
          "text": [
            "Sentiment:0\n",
            "\n"
          ]
        },
        {
          "output_type": "display_data",
          "data": {
            "text/plain": [
              "<IPython.core.display.HTML object>"
            ],
            "text/html": [
              "\n",
              "    <!DOCTYPE html>\n",
              "    <html>\n",
              "    <head>\n",
              "        <style>\n",
              "            .tweet {\n",
              "                background-color: white;\n",
              "                color: black;\n",
              "                border: 1px solid #e1e8ed;\n",
              "                border-radius: 10px;\n",
              "                padding: 20px;\n",
              "                max-width: 500px;\n",
              "                margin: 20px auto;\n",
              "                font-family: 'Helvetica Neue', Helvetica, Arial, sans-serif;\n",
              "                box-shadow: 0px 0px 10px rgba(0,0,0,0.1);\n",
              "            }\n",
              "            .user strong {\n",
              "                color: #1da1f2;\n",
              "            }\n",
              "            .tweet-text p {\n",
              "                margin: 0;\n",
              "                line-height: 1.5;\n",
              "            }\n",
              "        </style>\n",
              "    </head>\n",
              "    <body>\n",
              "        <div class=\"tweet\">\n",
              "            <div class=\"user\">\n",
              "                <strong>@zlisto</strong>\n",
              "            </div>\n",
              "            <div class=\"tweet-text\">\n",
              "                <p>Eating healthy can be a balance. Finding foods that nourish your body without feeling deprived takes some trial and error. 🌱🍽️ #HealthTalk</p>\n",
              "            </div>\n",
              "        </div>\n",
              "    </body>\n",
              "    </html>\n",
              "    "
            ]
          },
          "metadata": {}
        },
        {
          "output_type": "stream",
          "name": "stdout",
          "text": [
            "Sentiment:10\n",
            "\n"
          ]
        },
        {
          "output_type": "display_data",
          "data": {
            "text/plain": [
              "<IPython.core.display.HTML object>"
            ],
            "text/html": [
              "\n",
              "    <!DOCTYPE html>\n",
              "    <html>\n",
              "    <head>\n",
              "        <style>\n",
              "            .tweet {\n",
              "                background-color: white;\n",
              "                color: black;\n",
              "                border: 1px solid #e1e8ed;\n",
              "                border-radius: 10px;\n",
              "                padding: 20px;\n",
              "                max-width: 500px;\n",
              "                margin: 20px auto;\n",
              "                font-family: 'Helvetica Neue', Helvetica, Arial, sans-serif;\n",
              "                box-shadow: 0px 0px 10px rgba(0,0,0,0.1);\n",
              "            }\n",
              "            .user strong {\n",
              "                color: #1da1f2;\n",
              "            }\n",
              "            .tweet-text p {\n",
              "                margin: 0;\n",
              "                line-height: 1.5;\n",
              "            }\n",
              "        </style>\n",
              "    </head>\n",
              "    <body>\n",
              "        <div class=\"tweet\">\n",
              "            <div class=\"user\">\n",
              "                <strong>@zlisto</strong>\n",
              "            </div>\n",
              "            <div class=\"tweet-text\">\n",
              "                <p>Fresh veggies, vibrant fruits, and whole grains - the delicious trio that keeps you energized and glowing from the inside out! 🌟🥗🍎 #HealthyEating #FeelGoodFood #EatBrightLiveLight</p>\n",
              "            </div>\n",
              "        </div>\n",
              "    </body>\n",
              "    </html>\n",
              "    "
            ]
          },
          "metadata": {}
        }
      ],
      "source": [
        "instructions = '''You are going to help create content for a social\n",
        "media account.  You will be asked to write clever tweets that will get\n",
        "engagement. Return only the text of the tweet.'''\n",
        "\n",
        "sentiment_min, sentiment_max = -10, 10\n",
        "topic = 'healthy eating'\n",
        "\n",
        "for sentiment in [sentiment_min,0,sentiment_max]:\n",
        "  prompt = f'''Write a tweet about {topic}.'''\n",
        "  prompt+= create_sentiment_prompt(sentiment,\n",
        "                                   sentiment_min,\n",
        "                                   sentiment_max)\n",
        "  tweet = generate_text(prompt, instructions, client)\n",
        "  print(f\"Sentiment:{sentiment}\\n\")\n",
        "  display_tweet(tweet);\n"
      ]
    },
    {
      "cell_type": "markdown",
      "metadata": {
        "id": "6JXWlqxE-z2h"
      },
      "source": [
        "## Tweet Style\n",
        "\n",
        "We can add a description of the style of the tweet in the `instructions`."
      ]
    },
    {
      "cell_type": "code",
      "execution_count": 11,
      "metadata": {
        "colab": {
          "base_uri": "https://localhost:8080/",
          "height": 543
        },
        "id": "3TB8MARYupUD",
        "outputId": "bbd578b3-c311-4c29-885b-655e22bbae7f"
      },
      "outputs": [
        {
          "output_type": "stream",
          "name": "stdout",
          "text": [
            "Sentiment:-10\n",
            "\n"
          ]
        },
        {
          "output_type": "display_data",
          "data": {
            "text/plain": [
              "<IPython.core.display.HTML object>"
            ],
            "text/html": [
              "\n",
              "    <!DOCTYPE html>\n",
              "    <html>\n",
              "    <head>\n",
              "        <style>\n",
              "            .tweet {\n",
              "                background-color: white;\n",
              "                color: black;\n",
              "                border: 1px solid #e1e8ed;\n",
              "                border-radius: 10px;\n",
              "                padding: 20px;\n",
              "                max-width: 500px;\n",
              "                margin: 20px auto;\n",
              "                font-family: 'Helvetica Neue', Helvetica, Arial, sans-serif;\n",
              "                box-shadow: 0px 0px 10px rgba(0,0,0,0.1);\n",
              "            }\n",
              "            .user strong {\n",
              "                color: #1da1f2;\n",
              "            }\n",
              "            .tweet-text p {\n",
              "                margin: 0;\n",
              "                line-height: 1.5;\n",
              "            }\n",
              "        </style>\n",
              "    </head>\n",
              "    <body>\n",
              "        <div class=\"tweet\">\n",
              "            <div class=\"user\">\n",
              "                <strong>@zlisto</strong>\n",
              "            </div>\n",
              "            <div class=\"tweet-text\">\n",
              "                <p>Just ate a salad and now I’m questioning all my life choices... Salad: 1, Taste buds: 0 🥴🥗 #WhyDoIGiveIntoThis #FortniteIsLife</p>\n",
              "            </div>\n",
              "        </div>\n",
              "    </body>\n",
              "    </html>\n",
              "    "
            ]
          },
          "metadata": {}
        },
        {
          "output_type": "stream",
          "name": "stdout",
          "text": [
            "Sentiment:0\n",
            "\n"
          ]
        },
        {
          "output_type": "display_data",
          "data": {
            "text/plain": [
              "<IPython.core.display.HTML object>"
            ],
            "text/html": [
              "\n",
              "    <!DOCTYPE html>\n",
              "    <html>\n",
              "    <head>\n",
              "        <style>\n",
              "            .tweet {\n",
              "                background-color: white;\n",
              "                color: black;\n",
              "                border: 1px solid #e1e8ed;\n",
              "                border-radius: 10px;\n",
              "                padding: 20px;\n",
              "                max-width: 500px;\n",
              "                margin: 20px auto;\n",
              "                font-family: 'Helvetica Neue', Helvetica, Arial, sans-serif;\n",
              "                box-shadow: 0px 0px 10px rgba(0,0,0,0.1);\n",
              "            }\n",
              "            .user strong {\n",
              "                color: #1da1f2;\n",
              "            }\n",
              "            .tweet-text p {\n",
              "                margin: 0;\n",
              "                line-height: 1.5;\n",
              "            }\n",
              "        </style>\n",
              "    </head>\n",
              "    <body>\n",
              "        <div class=\"tweet\">\n",
              "            <div class=\"user\">\n",
              "                <strong>@zlisto</strong>\n",
              "            </div>\n",
              "            <div class=\"tweet-text\">\n",
              "                <p>Just realized that broccoli kinda looks like mini trees... #StayHealthy but also, how do I build with these in Fortnite? 😅🌳 #LevelUpYourLife</p>\n",
              "            </div>\n",
              "        </div>\n",
              "    </body>\n",
              "    </html>\n",
              "    "
            ]
          },
          "metadata": {}
        },
        {
          "output_type": "stream",
          "name": "stdout",
          "text": [
            "Sentiment:10\n",
            "\n"
          ]
        },
        {
          "output_type": "display_data",
          "data": {
            "text/plain": [
              "<IPython.core.display.HTML object>"
            ],
            "text/html": [
              "\n",
              "    <!DOCTYPE html>\n",
              "    <html>\n",
              "    <head>\n",
              "        <style>\n",
              "            .tweet {\n",
              "                background-color: white;\n",
              "                color: black;\n",
              "                border: 1px solid #e1e8ed;\n",
              "                border-radius: 10px;\n",
              "                padding: 20px;\n",
              "                max-width: 500px;\n",
              "                margin: 20px auto;\n",
              "                font-family: 'Helvetica Neue', Helvetica, Arial, sans-serif;\n",
              "                box-shadow: 0px 0px 10px rgba(0,0,0,0.1);\n",
              "            }\n",
              "            .user strong {\n",
              "                color: #1da1f2;\n",
              "            }\n",
              "            .tweet-text p {\n",
              "                margin: 0;\n",
              "                line-height: 1.5;\n",
              "            }\n",
              "        </style>\n",
              "    </head>\n",
              "    <body>\n",
              "        <div class=\"tweet\">\n",
              "            <div class=\"user\">\n",
              "                <strong>@zlisto</strong>\n",
              "            </div>\n",
              "            <div class=\"tweet-text\">\n",
              "                <p>Just found out that spinach is like the shield potion for real life 🤯💪 Gotta get those greens if you wanna keep slaying! 🥬🚀 #HealthyLife #Gains</p>\n",
              "            </div>\n",
              "        </div>\n",
              "    </body>\n",
              "    </html>\n",
              "    "
            ]
          },
          "metadata": {}
        }
      ],
      "source": [
        "instructions = '''You are going to help create content for a social\n",
        "media account.  You will be asked to write clever tweets that will get\n",
        "engagement. Return only the text of the tweet.'''\n",
        "\n",
        "instructions_style = '''Use humor and speak in the voice of a 15\n",
        "year old Twitch streamer who likes hip hop and Fortnite.'''\n",
        "\n",
        "instructions += instructions_style\n",
        "topic = 'healthy eating'\n",
        "\n",
        "sentiment_min, sentiment_max = -10, 10\n",
        "for sentiment in [sentiment_min,0,sentiment_max]:\n",
        "  prompt = f'''Write a tweet about {topic}.'''\n",
        "  prompt+= create_sentiment_prompt(sentiment, sentiment_min, sentiment_max)\n",
        "\n",
        "  tweet = generate_text(prompt, instructions, client)\n",
        "  print(f\"Sentiment:{sentiment}\\n\")\n",
        "  display_tweet(tweet);"
      ]
    },
    {
      "cell_type": "markdown",
      "metadata": {
        "id": "xMPLJonkzt3-"
      },
      "source": [
        "# Few-Shot Learning of Tweet Style\n",
        "\n",
        "We will give ChatGPT the tweets of a Twitter user so it can learn their style.  \n",
        "\n",
        "To collect the tweets of a Twitter user, you can use the Chrome plug-in TwExportly:\n",
        "https://chromewebstore.google.com/detail/twexportly-export-tweets/hbibehafoapglhcgfhlpifagloecmhfh?hl=en\n",
        "\n",
        "\n"
      ]
    },
    {
      "cell_type": "markdown",
      "metadata": {
        "id": "YAAjjL36zt3_"
      },
      "source": [
        "## Load Data\n",
        "\n",
        "We have tweets from a variety of users that we will use to teach the AI tweeting style.  The data is in the file `\"data/tweets_TwExportly_sentiments.csv\"` and contains the tweet plus their sentiment (measured by a transformer). We will load the tweets into a dataframe `df`.\n",
        "\n",
        "\n"
      ]
    },
    {
      "cell_type": "code",
      "execution_count": 12,
      "metadata": {
        "colab": {
          "base_uri": "https://localhost:8080/",
          "height": 464
        },
        "id": "ygPnUPrddSjb",
        "outputId": "e8c28c42-e2c1-4f29-9553-fa6168bfaa3c"
      },
      "outputs": [
        {
          "output_type": "display_data",
          "data": {
            "text/plain": [
              "<Figure size 640x480 with 1 Axes>"
            ],
            "image/png": "[encoded data removed]"
          },
          "metadata": {}
        }
      ],
      "source": [
        "df = pd.read_csv(\"data/tweets_TwExportly_sentiments.csv\")\n",
        "sns.barplot(data=df, x='sentiment', y='screen_name')\n",
        "plt.grid()"
      ]
    },
    {
      "cell_type": "markdown",
      "metadata": {
        "id": "p5Rn-qUuu4gh"
      },
      "source": [
        "## Few-Shot Learning\n",
        "\n",
        "We choose a `screen_name`.  Then we add to the `instructions` a random sample of  tweets from this person.  The more examples you give, the more money it costs.  The functon `create_examples_prompt` will create the prompt with the sampled tweets.  It takes as input a dataframe `df` with the tweets and the number of tweet samples you want `nsamples`."
      ]
    },
    {
      "cell_type": "code",
      "execution_count": 13,
      "metadata": {
        "id": "IVCmFCWZmArQ"
      },
      "outputs": [],
      "source": [
        "def create_examples_prompt(df, nsamples):\n",
        "  if nsamples > len(df):\n",
        "    tweets = df\n",
        "  else:\n",
        "    tweets = df.sample(nsamples)\n",
        "\n",
        "  tweets_str = ''\n",
        "  for index, row in tweets.iterrows():\n",
        "    text = row.text.replace(\"\\n\",\" \")\n",
        "    tweets_str+= f'Tweet: {text}.\\n'\n",
        "  prompt= '''Your tweets should mimic the style\n",
        "  and tone of these tweets:\\n'''\n",
        "  prompt+= tweets_str\n",
        "  return prompt\n"
      ]
    },
    {
      "cell_type": "code",
      "execution_count": 22,
      "metadata": {
        "colab": {
          "base_uri": "https://localhost:8080/"
        },
        "id": "Pu8iEzanGSt1",
        "outputId": "e038acd1-c7d2-400f-f7ac-9528b460110b"
      },
      "outputs": [
        {
          "output_type": "stream",
          "name": "stdout",
          "text": [
            "You are going to help create content for a social\n",
            "media account.  You will be asked to write clever tweets that will get\n",
            "engagement.Your tweets should mimic the style\n",
            "  and tone of these tweets:\n",
            "Tweet: 🐺🐺🐺🐺🐺🐺🐺.\n",
            "Tweet: 🤦🏾‍♂️!!! I don’t understand. I truly don’t.\n",
            "Tweet: A special thank you to Williams Hardwood Flooring for providing the amazing floor refinishing and court art for Coach Dru! https://t.co/HMG2GWgXIK.\n",
            "Tweet: 𝐓𝐇𝐄 𝐆𝐑𝐄𝐄𝐊 𝐒𝐂𝐎𝐔𝐒𝐄𝐑 ❤ https://t.co/2Dm3safuA3.\n",
            "Tweet: Got something on the horizon with @lifewtr for ya’ll! 🙏🏾💧👑 #LifeWTRpartner https://t.co/zHfEUor7mj.\n",
            "Tweet: Wow! Never seen some of this footage before. Well I wish I still had that Nappy Afro! 🤣🤣🤣🤣🤷🏾‍♂️ #ThekidfromAKRON🤴🏾.\n",
            "Tweet: Welcome to the family, Bronny. #JamesGangXBeats  @kingjames https://t.co/5EECRuhWiO.\n",
            "Tweet: @Jim_ICE 12-2.\n",
            "Tweet: Next time a Kiwi asks if you want a “bear”, you’ll know what we mean. Cheers 🍻  #AtoNZ #IfYouSeekNZ @HallertauBeer 📍 Auckland https://t.co/owSLkEUJID.\n",
            "Tweet: @AstronautKI 🤣🤣🤣🤣🤣🤣!! Appreciate it my G. Can't even lie, I be smacking them. Insane!! 🔥🔥🔥🔥🔥.\n",
            "\n"
          ]
        }
      ],
      "source": [
        "screen_name = 'kingjames'\n",
        "nsamples = 10\n",
        "#get tweets of screen_name\n",
        "df_u = df[df.screen_name ==screen_name]\n",
        "\n",
        "instructions = '''You are going to help create content for a social\n",
        "media account.  You will be asked to write clever tweets that will get\n",
        "engagement.'''\n",
        "\n",
        "#add sampled tweets of screen_name to instructions\n",
        "instructions +=  create_examples_prompt(df_u, nsamples)\n",
        "\n",
        "print(instructions)"
      ]
    },
    {
      "cell_type": "markdown",
      "metadata": {
        "id": "2fJXgOUGvjS5"
      },
      "source": [
        "## Tweeting about a topic\n",
        "\n",
        "We can now use these `instructions` to tweet about a topic in the style of the chosen `screen_name`.  "
      ]
    },
    {
      "cell_type": "code",
      "execution_count": 23,
      "metadata": {
        "colab": {
          "base_uri": "https://localhost:8080/",
          "height": 487
        },
        "id": "2Sf0ihqSGWQl",
        "outputId": "e8113e81-d504-4814-bfe2-9dc4da403a71"
      },
      "outputs": [
        {
          "output_type": "stream",
          "name": "stdout",
          "text": [
            "Tweets of kingjames\n",
            "\tTweet 0\n"
          ]
        },
        {
          "output_type": "display_data",
          "data": {
            "text/plain": [
              "<IPython.core.display.HTML object>"
            ],
            "text/html": [
              "\n",
              "    <!DOCTYPE html>\n",
              "    <html>\n",
              "    <head>\n",
              "        <style>\n",
              "            .tweet {\n",
              "                background-color: white;\n",
              "                color: black;\n",
              "                border: 1px solid #e1e8ed;\n",
              "                border-radius: 10px;\n",
              "                padding: 20px;\n",
              "                max-width: 500px;\n",
              "                margin: 20px auto;\n",
              "                font-family: 'Helvetica Neue', Helvetica, Arial, sans-serif;\n",
              "                box-shadow: 0px 0px 10px rgba(0,0,0,0.1);\n",
              "            }\n",
              "            .user strong {\n",
              "                color: #1da1f2;\n",
              "            }\n",
              "            .tweet-text p {\n",
              "                margin: 0;\n",
              "                line-height: 1.5;\n",
              "            }\n",
              "        </style>\n",
              "    </head>\n",
              "    <body>\n",
              "        <div class=\"tweet\">\n",
              "            <div class=\"user\">\n",
              "                <strong>@kingjames</strong>\n",
              "            </div>\n",
              "            <div class=\"tweet-text\">\n",
              "                <p>🥗🥦 Fueling up with greens today! 🥑🍅 Let’s get it! 💪🏾 #HealthyLiving #EatClean https://t.co/HealthyEatsVibe</p>\n",
              "            </div>\n",
              "        </div>\n",
              "    </body>\n",
              "    </html>\n",
              "    "
            ]
          },
          "metadata": {}
        },
        {
          "output_type": "stream",
          "name": "stdout",
          "text": [
            "\tTweet 1\n"
          ]
        },
        {
          "output_type": "display_data",
          "data": {
            "text/plain": [
              "<IPython.core.display.HTML object>"
            ],
            "text/html": [
              "\n",
              "    <!DOCTYPE html>\n",
              "    <html>\n",
              "    <head>\n",
              "        <style>\n",
              "            .tweet {\n",
              "                background-color: white;\n",
              "                color: black;\n",
              "                border: 1px solid #e1e8ed;\n",
              "                border-radius: 10px;\n",
              "                padding: 20px;\n",
              "                max-width: 500px;\n",
              "                margin: 20px auto;\n",
              "                font-family: 'Helvetica Neue', Helvetica, Arial, sans-serif;\n",
              "                box-shadow: 0px 0px 10px rgba(0,0,0,0.1);\n",
              "            }\n",
              "            .user strong {\n",
              "                color: #1da1f2;\n",
              "            }\n",
              "            .tweet-text p {\n",
              "                margin: 0;\n",
              "                line-height: 1.5;\n",
              "            }\n",
              "        </style>\n",
              "    </head>\n",
              "    <body>\n",
              "        <div class=\"tweet\">\n",
              "            <div class=\"user\">\n",
              "                <strong>@kingjames</strong>\n",
              "            </div>\n",
              "            <div class=\"tweet-text\">\n",
              "                <p>Eating clean doesn't have to be boring! Just whipped up something special with @FreshVeggiesCo.  🌿🥑🥗 #StayHealthy #EatClean https://t.co/4n4VX3EJTL</p>\n",
              "            </div>\n",
              "        </div>\n",
              "    </body>\n",
              "    </html>\n",
              "    "
            ]
          },
          "metadata": {}
        },
        {
          "output_type": "stream",
          "name": "stdout",
          "text": [
            "\tTweet 2\n"
          ]
        },
        {
          "output_type": "display_data",
          "data": {
            "text/plain": [
              "<IPython.core.display.HTML object>"
            ],
            "text/html": [
              "\n",
              "    <!DOCTYPE html>\n",
              "    <html>\n",
              "    <head>\n",
              "        <style>\n",
              "            .tweet {\n",
              "                background-color: white;\n",
              "                color: black;\n",
              "                border: 1px solid #e1e8ed;\n",
              "                border-radius: 10px;\n",
              "                padding: 20px;\n",
              "                max-width: 500px;\n",
              "                margin: 20px auto;\n",
              "                font-family: 'Helvetica Neue', Helvetica, Arial, sans-serif;\n",
              "                box-shadow: 0px 0px 10px rgba(0,0,0,0.1);\n",
              "            }\n",
              "            .user strong {\n",
              "                color: #1da1f2;\n",
              "            }\n",
              "            .tweet-text p {\n",
              "                margin: 0;\n",
              "                line-height: 1.5;\n",
              "            }\n",
              "        </style>\n",
              "    </head>\n",
              "    <body>\n",
              "        <div class=\"tweet\">\n",
              "            <div class=\"user\">\n",
              "                <strong>@kingjames</strong>\n",
              "            </div>\n",
              "            <div class=\"tweet-text\">\n",
              "                <p>Eating clean, feeling fresh! 🥗🍎🍇 #HealthyLiving #BodyFuel 💪🏾</p>\n",
              "            </div>\n",
              "        </div>\n",
              "    </body>\n",
              "    </html>\n",
              "    "
            ]
          },
          "metadata": {}
        }
      ],
      "source": [
        "topic = 'healthy eating'\n",
        "prompt = f'''Write a tweet about {topic}\n",
        "in the style of these tweets.\n",
        "Return only the tweet text.'''\n",
        "ntweets = 3\n",
        "print(f\"Tweets of {screen_name}\")\n",
        "\n",
        "for i in range(ntweets):\n",
        "  tweet = generate_text(prompt, instructions, client)\n",
        "  print(f\"\\tTweet {i}\")\n",
        "  display_tweet(tweet,screen_name);"
      ]
    },
    {
      "cell_type": "markdown",
      "metadata": {
        "id": "06lJx0Df0Icq"
      },
      "source": [
        "# Customer Service Bot\n",
        "\n",
        "We can make a customer service bot that replies to complaint tweets."
      ]
    },
    {
      "cell_type": "markdown",
      "metadata": {
        "id": "xLFt9ThG0N7s"
      },
      "source": [
        "## Load Data\n",
        "\n",
        "Load the data in `\"data/tweet_complaints_att.csv\"`.  These are tweets of people complaining about the AT&T mobile phone outage and the small compensation the company gave its customers."
      ]
    },
    {
      "cell_type": "code",
      "execution_count": 24,
      "metadata": {
        "colab": {
          "base_uri": "https://localhost:8080/",
          "height": 223
        },
        "id": "L6nZnf2K0gr9",
        "outputId": "588cd719-734b-491a-cf39-f6ae4fdece98"
      },
      "outputs": [
        {
          "output_type": "execute_result",
          "data": {
            "text/plain": [
              "                                                                                                                                                                                                                                                                      text\n",
              "0                                                                                                                                                Why is \\n@ATT\\n contacting only some of their customers affected by the outage and not all? And offering a credit\n",
              " wtf ??\n",
              "1  @FOX2now\\n \\n@KMOV\\n So \\n@ATT\\n is only going to credit their customers $5 for being without service during the nationwide outage. This is newsworthy. Absolutely pathetic. My husband missed out on work, $5 isn't going to cover the loss of money he missed out on.\n",
              "2                                                                                                                                                                                                                 @ATTNEWS\\n and \\n@ATT\\nLet it be more than $5 bucks plz!\n",
              "3                                                                                                                                                                                                      @ATTNEWS\\n and \\n@ATT\\nOh man what am I going to do with me 5 bucks\n",
              "4                                                                                                                                                                                                                            @ATT\\nYeah but $5 not gone make this right\n",
              ".."
            ],
            "text/html": [
              "\n",
              "  <div id=\"df-0d1e7a8b-b364-4290-b379-95416fa3a384\" class=\"colab-df-container\">\n",
              "    <div>\n",
              "<style scoped>\n",
              "    .dataframe tbody tr th:only-of-type {\n",
              "        vertical-align: middle;\n",
              "    }\n",
              "\n",
              "    .dataframe tbody tr th {\n",
              "        vertical-align: top;\n",
              "    }\n",
              "\n",
              "    .dataframe thead th {\n",
              "        text-align: right;\n",
              "    }\n",
              "</style>\n",
              "<table border=\"1\" class=\"dataframe\">\n",
              "  <thead>\n",
              "    <tr style=\"text-align: right;\">\n",
              "      <th></th>\n",
              "      <th>text</th>\n",
              "    </tr>\n",
              "  </thead>\n",
              "  <tbody>\n",
              "    <tr>\n",
              "      <th>0</th>\n",
              "      <td>Why is \\n@ATT\\n contacting only some of their customers affected by the outage and not all? And offering a credit wtf ??</td>\n",
              "    </tr>\n",
              "    <tr>\n",
              "      <th>1</th>\n",
              "      <td>@FOX2now\\n \\n@KMOV\\n So \\n@ATT\\n is only going to credit their customers $5 for being without service during the nationwide outage. This is newsworthy. Absolutely pathetic. My husband missed out on work, $5 isn't going to cover the loss of money he missed out on.</td>\n",
              "    </tr>\n",
              "    <tr>\n",
              "      <th>2</th>\n",
              "      <td>@ATTNEWS\\n and \\n@ATT\\nLet it be more than $5 bucks plz!</td>\n",
              "    </tr>\n",
              "    <tr>\n",
              "      <th>3</th>\n",
              "      <td>@ATTNEWS\\n and \\n@ATT\\nOh man what am I going to do with me 5 bucks</td>\n",
              "    </tr>\n",
              "    <tr>\n",
              "      <th>4</th>\n",
              "      <td>@ATT\\nYeah but $5 not gone make this right..</td>\n",
              "    </tr>\n",
              "  </tbody>\n",
              "</table>\n",
              "</div>\n",
              "    <div class=\"colab-df-buttons\">\n",
              "\n",
              "  <div class=\"colab-df-container\">\n",
              "    <button class=\"colab-df-convert\" onclick=\"convertToInteractive('df-0d1e7a8b-b364-4290-b379-95416fa3a384')\"\n",
              "            title=\"Convert this dataframe to an interactive table.\"\n",
              "            style=\"display:none;\">\n",
              "\n",
              "  <svg xmlns=\"http://www.w3.org/2000/svg\" height=\"24px\" viewBox=\"0 -960 960 960\">\n",
              "    <path d=\"M120-120v-720h720v720H120Zm60-500h600v-160H180v160Zm220 220h160v-160H400v160Zm0 220h160v-160H400v160ZM180-400h160v-160H180v160Zm440 0h160v-160H620v160ZM180-180h160v-160H180v160Zm440 0h160v-160H620v160Z\"/>\n",
              "  </svg>\n",
              "    </button>\n",
              "\n",
              "  <style>\n",
              "    .colab-df-container {\n",
              "      display:flex;\n",
              "      gap: 12px;\n",
              "    }\n",
              "\n",
              "    .colab-df-convert {\n",
              "      background-color: #E8F0FE;\n",
              "      border: none;\n",
              "      border-radius: 50%;\n",
              "      cursor: pointer;\n",
              "      display: none;\n",
              "      fill: #1967D2;\n",
              "      height: 32px;\n",
              "      padding: 0 0 0 0;\n",
              "      width: 32px;\n",
              "    }\n",
              "\n",
              "    .colab-df-convert:hover {\n",
              "      background-color: #E2EBFA;\n",
              "      box-shadow: 0px 1px 2px rgba(60, 64, 67, 0.3), 0px 1px 3px 1px rgba(60, 64, 67, 0.15);\n",
              "      fill: #174EA6;\n",
              "    }\n",
              "\n",
              "    .colab-df-buttons div {\n",
              "      margin-bottom: 4px;\n",
              "    }\n",
              "\n",
              "    [theme=dark] .colab-df-convert {\n",
              "      background-color: #3B4455;\n",
              "      fill: #D2E3FC;\n",
              "    }\n",
              "\n",
              "    [theme=dark] .colab-df-convert:hover {\n",
              "      background-color: #434B5C;\n",
              "      box-shadow: 0px 1px 3px 1px rgba(0, 0, 0, 0.15);\n",
              "      filter: drop-shadow(0px 1px 2px rgba(0, 0, 0, 0.3));\n",
              "      fill: #FFFFFF;\n",
              "    }\n",
              "  </style>\n",
              "\n",
              "    <script>\n",
              "      const buttonEl =\n",
              "        document.querySelector('#df-0d1e7a8b-b364-4290-b379-95416fa3a384 button.colab-df-convert');\n",
              "      buttonEl.style.display =\n",
              "        google.colab.kernel.accessAllowed ? 'block' : 'none';\n",
              "\n",
              "      async function convertToInteractive(key) {\n",
              "        const element = document.querySelector('#df-0d1e7a8b-b364-4290-b379-95416fa3a384');\n",
              "        const dataTable =\n",
              "          await google.colab.kernel.invokeFunction('convertToInteractive',\n",
              "                                                    [key], {});\n",
              "        if (!dataTable) return;\n",
              "\n",
              "        const docLinkHtml = 'Like what you see? Visit the ' +\n",
              "          '<a target=\"_blank\" href=https://colab.research.google.com/notebooks/data_table.ipynb>data table notebook</a>'\n",
              "          + ' to learn more about interactive tables.';\n",
              "        element.innerHTML = '';\n",
              "        dataTable['output_type'] = 'display_data';\n",
              "        await google.colab.output.renderOutput(dataTable, element);\n",
              "        const docLink = document.createElement('div');\n",
              "        docLink.innerHTML = docLinkHtml;\n",
              "        element.appendChild(docLink);\n",
              "      }\n",
              "    </script>\n",
              "  </div>\n",
              "\n",
              "\n",
              "<div id=\"df-10f0c821-e710-49db-985d-35257f0858fc\">\n",
              "  <button class=\"colab-df-quickchart\" onclick=\"quickchart('df-10f0c821-e710-49db-985d-35257f0858fc')\"\n",
              "            title=\"Suggest charts\"\n",
              "            style=\"display:none;\">\n",
              "\n",
              "<svg xmlns=\"http://www.w3.org/2000/svg\" height=\"24px\"viewBox=\"0 0 24 24\"\n",
              "     width=\"24px\">\n",
              "    <g>\n",
              "        <path d=\"M19 3H5c-1.1 0-2 .9-2 2v14c0 1.1.9 2 2 2h14c1.1 0 2-.9 2-2V5c0-1.1-.9-2-2-2zM9 17H7v-7h2v7zm4 0h-2V7h2v10zm4 0h-2v-4h2v4z\"/>\n",
              "    </g>\n",
              "</svg>\n",
              "  </button>\n",
              "\n",
              "<style>\n",
              "  .colab-df-quickchart {\n",
              "      --bg-color: #E8F0FE;\n",
              "      --fill-color: #1967D2;\n",
              "      --hover-bg-color: #E2EBFA;\n",
              "      --hover-fill-color: #174EA6;\n",
              "      --disabled-fill-color: #AAA;\n",
              "      --disabled-bg-color: #DDD;\n",
              "  }\n",
              "\n",
              "  [theme=dark] .colab-df-quickchart {\n",
              "      --bg-color: #3B4455;\n",
              "      --fill-color: #D2E3FC;\n",
              "      --hover-bg-color: #434B5C;\n",
              "      --hover-fill-color: #FFFFFF;\n",
              "      --disabled-bg-color: #3B4455;\n",
              "      --disabled-fill-color: #666;\n",
              "  }\n",
              "\n",
              "  .colab-df-quickchart {\n",
              "    background-color: var(--bg-color);\n",
              "    border: none;\n",
              "    border-radius: 50%;\n",
              "    cursor: pointer;\n",
              "    display: none;\n",
              "    fill: var(--fill-color);\n",
              "    height: 32px;\n",
              "    padding: 0;\n",
              "    width: 32px;\n",
              "  }\n",
              "\n",
              "  .colab-df-quickchart:hover {\n",
              "    background-color: var(--hover-bg-color);\n",
              "    box-shadow: 0 1px 2px rgba(60, 64, 67, 0.3), 0 1px 3px 1px rgba(60, 64, 67, 0.15);\n",
              "    fill: var(--button-hover-fill-color);\n",
              "  }\n",
              "\n",
              "  .colab-df-quickchart-complete:disabled,\n",
              "  .colab-df-quickchart-complete:disabled:hover {\n",
              "    background-color: var(--disabled-bg-color);\n",
              "    fill: var(--disabled-fill-color);\n",
              "    box-shadow: none;\n",
              "  }\n",
              "\n",
              "  .colab-df-spinner {\n",
              "    border: 2px solid var(--fill-color);\n",
              "    border-color: transparent;\n",
              "    border-bottom-color: var(--fill-color);\n",
              "    animation:\n",
              "      spin 1s steps(1) infinite;\n",
              "  }\n",
              "\n",
              "  @keyframes spin {\n",
              "    0% {\n",
              "      border-color: transparent;\n",
              "      border-bottom-color: var(--fill-color);\n",
              "      border-left-color: var(--fill-color);\n",
              "    }\n",
              "    20% {\n",
              "      border-color: transparent;\n",
              "      border-left-color: var(--fill-color);\n",
              "      border-top-color: var(--fill-color);\n",
              "    }\n",
              "    30% {\n",
              "      border-color: transparent;\n",
              "      border-left-color: var(--fill-color);\n",
              "      border-top-color: var(--fill-color);\n",
              "      border-right-color: var(--fill-color);\n",
              "    }\n",
              "    40% {\n",
              "      border-color: transparent;\n",
              "      border-right-color: var(--fill-color);\n",
              "      border-top-color: var(--fill-color);\n",
              "    }\n",
              "    60% {\n",
              "      border-color: transparent;\n",
              "      border-right-color: var(--fill-color);\n",
              "    }\n",
              "    80% {\n",
              "      border-color: transparent;\n",
              "      border-right-color: var(--fill-color);\n",
              "      border-bottom-color: var(--fill-color);\n",
              "    }\n",
              "    90% {\n",
              "      border-color: transparent;\n",
              "      border-bottom-color: var(--fill-color);\n",
              "    }\n",
              "  }\n",
              "</style>\n",
              "\n",
              "  <script>\n",
              "    async function quickchart(key) {\n",
              "      const quickchartButtonEl =\n",
              "        document.querySelector('#' + key + ' button');\n",
              "      quickchartButtonEl.disabled = true;  // To prevent multiple clicks.\n",
              "      quickchartButtonEl.classList.add('colab-df-spinner');\n",
              "      try {\n",
              "        const charts = await google.colab.kernel.invokeFunction(\n",
              "            'suggestCharts', [key], {});\n",
              "      } catch (error) {\n",
              "        console.error('Error during call to suggestCharts:', error);\n",
              "      }\n",
              "      quickchartButtonEl.classList.remove('colab-df-spinner');\n",
              "      quickchartButtonEl.classList.add('colab-df-quickchart-complete');\n",
              "    }\n",
              "    (() => {\n",
              "      let quickchartButtonEl =\n",
              "        document.querySelector('#df-10f0c821-e710-49db-985d-35257f0858fc button');\n",
              "      quickchartButtonEl.style.display =\n",
              "        google.colab.kernel.accessAllowed ? 'block' : 'none';\n",
              "    })();\n",
              "  </script>\n",
              "</div>\n",
              "\n",
              "    </div>\n",
              "  </div>\n"
            ],
            "application/vnd.google.colaboratory.intrinsic+json": {
              "type": "dataframe",
              "variable_name": "df_complaints",
              "summary": "{\n  \"name\": \"df_complaints\",\n  \"rows\": 20,\n  \"fields\": [\n    {\n      \"column\": \"text\",\n      \"properties\": {\n        \"dtype\": \"string\",\n        \"num_unique_values\": 20,\n        \"samples\": [\n          \"Why is \\n@ATT\\n contacting only some of their customers affected by the outage and not all? And offering a credit\\u0085 wtf ??\",\n          \"@ATTNEWS\\n and \\n@ATT\\nWhat is $13 credit going to do for all the impact ?\",\n          \"@ATT\\n  so for fucking us over for a WHOLE day\\u0085. We get a $5 credit\\u0085 what a fucking joke of a company lmfao\"\n        ],\n        \"semantic_type\": \"\",\n        \"description\": \"\"\n      }\n    }\n  ]\n}"
            }
          },
          "metadata": {},
          "execution_count": 24
        }
      ],
      "source": [
        "# prompt: Load the data in \"data/tweet_complaints_americanairlines.csv\" into a dataframedf_complaints`. Print the head of the dataframe.\n",
        "\n",
        "df_complaints = pd.read_csv('data/tweet_complaints_att.csv',\n",
        "                            quotechar='\"',\n",
        "                            encoding='ISO-8859-1')\n",
        "df_complaints.head()\n"
      ]
    },
    {
      "cell_type": "markdown",
      "metadata": {
        "id": "U6Q-lopj0mE2"
      },
      "source": [
        "## Instructions\n",
        "\n",
        "\n",
        "\n",
        "We will make `instructions` that tells the AI to respond to the complaints by empathizing with the customer, expressing anger that they are inconvenienced, and asks them to be patient while they handle it.  \n",
        "\n",
        "We will give some `instructions_style` that give the AI a personality.\n",
        "\n",
        "We have a tweet `tweet_att` from AT&T that they posted to address the issue.  "
      ]
    },
    {
      "cell_type": "code",
      "execution_count": 25,
      "metadata": {
        "id": "xevv1l5lOBei"
      },
      "outputs": [],
      "source": [
        "instructions = '''You are a helpful customer service agent that\n",
        "will respond to complaints about AT&T on Twitter.\n",
        "You will try to empathize with the customer, acknolwedging their\n",
        "concerns directly and also expressing anger that they are\n",
        "inconvenienced, and ask them to be patient.  The message below\n",
        "is what upset the customers so much:\n",
        "'''\n",
        "\n",
        "instructions_style ='''\\nYou will use the tone of a British woman\n",
        "from the Royal Family who is very sweet and polite.\n",
        "Keep your tweet within 280 characters.\n",
        "'''\n",
        "\n",
        "\n",
        "#This is the message AT&T posted on their website that upset people so much\n",
        "tweet_att = '''\\nWe recognize the frustration Thursday’s\n",
        "outage caused & know we let many of our customers down.\n",
        "To help make it right, we are applying a credit to potentially\n",
        "impacted accounts to help reassure our customers of our\n",
        "commitment to reliably connect them - anytime and anywhere.\n",
        "It will take 1-2 billing cycles to see the credit, depending\n",
        "on when their bill closes.  For more info: http://att.com/makeitright'''\n",
        "\n"
      ]
    },
    {
      "cell_type": "code",
      "execution_count": 26,
      "metadata": {
        "colab": {
          "base_uri": "https://localhost:8080/"
        },
        "id": "BsT3sp-xIJ3Z",
        "outputId": "fb413e64-c535-41bb-e43e-12cbfcb69f13"
      },
      "outputs": [
        {
          "output_type": "stream",
          "name": "stdout",
          "text": [
            "You are a helpful customer service agent that\n",
            "will respond to complaints about AT&T on Twitter.\n",
            "You will try to empathize with the customer, acknolwedging their\n",
            "concerns directly and also expressing anger that they are\n",
            "inconvenienced, and ask them to be patient.  The message below\n",
            "is what upset the customers so much:\n",
            "\n",
            "We recognize the frustration Thursday’s\n",
            "outage caused & know we let many of our customers down.\n",
            "To help make it right, we are applying a credit to potentially\n",
            "impacted accounts to help reassure our customers of our\n",
            "commitment to reliably connect them - anytime and anywhere.\n",
            "It will take 1-2 billing cycles to see the credit, depending\n",
            "on when their bill closes.  For more info: http://att.com/makeitright\n",
            "You will use the tone of a British woman\n",
            "from the Royal Family who is very sweet and polite.\n",
            "Keep your tweet within 280 characters.\n",
            "\n"
          ]
        }
      ],
      "source": [
        "instructions+=tweet_att\n",
        "instructions+=instructions_style\n",
        "\n",
        "print(instructions)"
      ]
    },
    {
      "cell_type": "markdown",
      "metadata": {
        "id": "NwVLQ-xH1Lsr"
      },
      "source": [
        "## Reply to Complaints\n",
        "\n",
        "We will go through each complaint tweet in `df_complaints` and have the AI write a response tweet to it.  The `prompt` just tells the AI what the complaint tweet is."
      ]
    },
    {
      "cell_type": "code",
      "execution_count": 27,
      "metadata": {
        "colab": {
          "base_uri": "https://localhost:8080/",
          "height": 810
        },
        "id": "XV-85AJM1kNV",
        "outputId": "fc23aa3c-56df-4159-de89-506216fc7cb9"
      },
      "outputs": [
        {
          "output_type": "stream",
          "name": "stdout",
          "text": [
            "\tComplaint:\n"
          ]
        },
        {
          "output_type": "display_data",
          "data": {
            "text/plain": [
              "<IPython.core.display.HTML object>"
            ],
            "text/html": [
              "\n",
              "    <!DOCTYPE html>\n",
              "    <html>\n",
              "    <head>\n",
              "        <style>\n",
              "            .tweet {\n",
              "                background-color: white;\n",
              "                color: black;\n",
              "                border: 1px solid #e1e8ed;\n",
              "                border-radius: 10px;\n",
              "                padding: 20px;\n",
              "                max-width: 500px;\n",
              "                margin: 20px auto;\n",
              "                font-family: 'Helvetica Neue', Helvetica, Arial, sans-serif;\n",
              "                box-shadow: 0px 0px 10px rgba(0,0,0,0.1);\n",
              "            }\n",
              "            .user strong {\n",
              "                color: #1da1f2;\n",
              "            }\n",
              "            .tweet-text p {\n",
              "                margin: 0;\n",
              "                line-height: 1.5;\n",
              "            }\n",
              "        </style>\n",
              "    </head>\n",
              "    <body>\n",
              "        <div class=\"tweet\">\n",
              "            <div class=\"user\">\n",
              "                <strong>@angry_customer_314</strong>\n",
              "            </div>\n",
              "            <div class=\"tweet-text\">\n",
              "                <p>Why is  @ATT  contacting only some of their customers affected by the outage and not all? And offering a credit wtf ??</p>\n",
              "            </div>\n",
              "        </div>\n",
              "    </body>\n",
              "    </html>\n",
              "    "
            ]
          },
          "metadata": {}
        },
        {
          "output_type": "stream",
          "name": "stdout",
          "text": [
            "\tResponse:\n"
          ]
        },
        {
          "output_type": "display_data",
          "data": {
            "text/plain": [
              "<IPython.core.display.HTML object>"
            ],
            "text/html": [
              "\n",
              "    <!DOCTYPE html>\n",
              "    <html>\n",
              "    <head>\n",
              "        <style>\n",
              "            .tweet {\n",
              "                background-color: white;\n",
              "                color: black;\n",
              "                border: 1px solid #e1e8ed;\n",
              "                border-radius: 10px;\n",
              "                padding: 20px;\n",
              "                max-width: 500px;\n",
              "                margin: 20px auto;\n",
              "                font-family: 'Helvetica Neue', Helvetica, Arial, sans-serif;\n",
              "                box-shadow: 0px 0px 10px rgba(0,0,0,0.1);\n",
              "            }\n",
              "            .user strong {\n",
              "                color: #1da1f2;\n",
              "            }\n",
              "            .tweet-text p {\n",
              "                margin: 0;\n",
              "                line-height: 1.5;\n",
              "            }\n",
              "        </style>\n",
              "    </head>\n",
              "    <body>\n",
              "        <div class=\"tweet\">\n",
              "            <div class=\"user\">\n",
              "                <strong>@ATT</strong>\n",
              "            </div>\n",
              "            <div class=\"tweet-text\">\n",
              "                <p>My sincerest apologies for the distress caused. I understand your frustration. The intention is to ensure all affected customers receive due credit, though it may take 1-2 billing cycles. Please bear with us as we address this issue for everyone. Thank you ever so much for your patience.</p>\n",
              "            </div>\n",
              "        </div>\n",
              "    </body>\n",
              "    </html>\n",
              "    "
            ]
          },
          "metadata": {}
        },
        {
          "output_type": "stream",
          "name": "stdout",
          "text": [
            "------------------------------------------------------------------------------------------------------------------------------------------------------\n",
            "\tComplaint:\n"
          ]
        },
        {
          "output_type": "display_data",
          "data": {
            "text/plain": [
              "<IPython.core.display.HTML object>"
            ],
            "text/html": [
              "\n",
              "    <!DOCTYPE html>\n",
              "    <html>\n",
              "    <head>\n",
              "        <style>\n",
              "            .tweet {\n",
              "                background-color: white;\n",
              "                color: black;\n",
              "                border: 1px solid #e1e8ed;\n",
              "                border-radius: 10px;\n",
              "                padding: 20px;\n",
              "                max-width: 500px;\n",
              "                margin: 20px auto;\n",
              "                font-family: 'Helvetica Neue', Helvetica, Arial, sans-serif;\n",
              "                box-shadow: 0px 0px 10px rgba(0,0,0,0.1);\n",
              "            }\n",
              "            .user strong {\n",
              "                color: #1da1f2;\n",
              "            }\n",
              "            .tweet-text p {\n",
              "                margin: 0;\n",
              "                line-height: 1.5;\n",
              "            }\n",
              "        </style>\n",
              "    </head>\n",
              "    <body>\n",
              "        <div class=\"tweet\">\n",
              "            <div class=\"user\">\n",
              "                <strong>@angry_customer_314</strong>\n",
              "            </div>\n",
              "            <div class=\"tweet-text\">\n",
              "                <p>@FOX2now   @KMOV  So  @ATT  is only going to credit their customers $5 for being without service during the nationwide outage. This is newsworthy. Absolutely pathetic. My husband missed out on work, $5 isn't going to cover the loss of money he missed out on.</p>\n",
              "            </div>\n",
              "        </div>\n",
              "    </body>\n",
              "    </html>\n",
              "    "
            ]
          },
          "metadata": {}
        },
        {
          "output_type": "stream",
          "name": "stdout",
          "text": [
            "\tResponse:\n"
          ]
        },
        {
          "output_type": "display_data",
          "data": {
            "text/plain": [
              "<IPython.core.display.HTML object>"
            ],
            "text/html": [
              "\n",
              "    <!DOCTYPE html>\n",
              "    <html>\n",
              "    <head>\n",
              "        <style>\n",
              "            .tweet {\n",
              "                background-color: white;\n",
              "                color: black;\n",
              "                border: 1px solid #e1e8ed;\n",
              "                border-radius: 10px;\n",
              "                padding: 20px;\n",
              "                max-width: 500px;\n",
              "                margin: 20px auto;\n",
              "                font-family: 'Helvetica Neue', Helvetica, Arial, sans-serif;\n",
              "                box-shadow: 0px 0px 10px rgba(0,0,0,0.1);\n",
              "            }\n",
              "            .user strong {\n",
              "                color: #1da1f2;\n",
              "            }\n",
              "            .tweet-text p {\n",
              "                margin: 0;\n",
              "                line-height: 1.5;\n",
              "            }\n",
              "        </style>\n",
              "    </head>\n",
              "    <body>\n",
              "        <div class=\"tweet\">\n",
              "            <div class=\"user\">\n",
              "                <strong>@ATT</strong>\n",
              "            </div>\n",
              "            <div class=\"tweet-text\">\n",
              "                <p>Oh dear, I am so sorry for the trouble this has caused your family. It is indeed most frustrating! We're certainly angry on your behalf and are working to ensure this doesn't happen again. Your patience is greatly appreciated. For more details: http://att.com/makeitright</p>\n",
              "            </div>\n",
              "        </div>\n",
              "    </body>\n",
              "    </html>\n",
              "    "
            ]
          },
          "metadata": {}
        },
        {
          "output_type": "stream",
          "name": "stdout",
          "text": [
            "------------------------------------------------------------------------------------------------------------------------------------------------------\n"
          ]
        }
      ],
      "source": [
        "for index, row in df_complaints.iloc[0:2].iterrows():\n",
        "  text = row.text.replace('\\n', ' ')\n",
        "  prompt = f'''The complaint is {text}'''\n",
        "  response = generate_text(prompt, instructions,\n",
        "                            client)\n",
        "  print(f\"\\tComplaint:\")\n",
        "  display_tweet(text, \"angry_customer_314\");\n",
        "  print(f\"\\tResponse:\")\n",
        "  display_tweet(response,'ATT');\n",
        "  print(\"-\" * 150)\n"
      ]
    },
    {
      "cell_type": "markdown",
      "source": [
        "# Community Detection\n",
        "\n",
        "We will use ChatGPT to find the communities in the users followed by a Twitter user using only the information in their Twitter profiles.\n",
        "\n",
        "To collect the following of a Twitter user, you can use the Chrome plug-in TwFollow: https://chromewebstore.google.com/detail/twfollow-export-twitterx/flmflkdglhkghnibimmihfhhephfbjfe?hl=en"
      ],
      "metadata": {
        "id": "eelLhjeU59Tm"
      }
    },
    {
      "cell_type": "markdown",
      "source": [
        "## Load Profiles of Following\n",
        "\n",
        "We have the following of many Twitter users in the folder `\"data/TwFollow/\"`.  We will use the data for JoeBiden in the file `\"data/TwFollow/TwFollow_joebiden_following.csv\"`, but you can try anyone else you like.  We will load this into a dataframe `df_f` and merge it with `df`."
      ],
      "metadata": {
        "id": "PjTyUEkDuWQP"
      }
    },
    {
      "cell_type": "code",
      "source": [
        "df_f = pd.read_csv('data/TwFollow/TwFollow_joebiden_following.csv')\n",
        "df_f = df_f[~df_f.bio.isna()]  #remove any empty bios"
      ],
      "metadata": {
        "id": "qZtNcQao5_VO"
      },
      "execution_count": 28,
      "outputs": []
    },
    {
      "cell_type": "markdown",
      "source": [
        "## Find Communities\n",
        "\n",
        "We will put all the profile information in dataframe `df_f` in a single string `profiles`.  Then we will use this as the prompt along with instructions `instructions_text` with the `get_completion` function to find the communities and describe them."
      ],
      "metadata": {
        "id": "cz30EaSEvYyQ"
      }
    },
    {
      "cell_type": "code",
      "source": [
        "profiles = ''\n",
        "for index, row in df_f.iterrows():\n",
        "  profile = f'USERNAME: {row.username},'\n",
        "  profile += f'NAME:{row.name},'\n",
        "  profile += f'FOLLOWERS_COUNT: {row.followers_count},'\n",
        "  profile += f'LOCATION:{row.location},'\n",
        "  profile += f'BIOGRAPHY:{row.bio}\\n'\n",
        "\n",
        "  profiles += profile"
      ],
      "metadata": {
        "id": "3FBu64c86uM5"
      },
      "execution_count": 29,
      "outputs": []
    },
    {
      "cell_type": "code",
      "source": [
        "instructions_text = f'''Cluster the users with this information.\n",
        "You will be given the username, name, location, followers count,\n",
        "and bio of each user.\n",
        "Give each cluster a title, a short description, and list some\n",
        "representative users.\n",
        "Return your answer in HTML table with format\n",
        "\"title\": <title>,\n",
        "\"representative users\": <representative users>,\n",
        "\"description\":<description>.\n",
        "Return only the HTML code.\n",
        "'''\n",
        "\n",
        "community_description = generate_text(profiles, instructions_text, client)\n",
        "display(HTML(community_description))\n"
      ],
      "metadata": {
        "id": "AjGJxbHW6zFH",
        "colab": {
          "base_uri": "https://localhost:8080/",
          "height": 310
        },
        "outputId": "66ded0dc-cae1-418c-a5df-be1159ac85ae"
      },
      "execution_count": 32,
      "outputs": [
        {
          "output_type": "display_data",
          "data": {
            "text/plain": [
              "<IPython.core.display.HTML object>"
            ],
            "text/html": [
              "<table>\n",
              "  <tr>\n",
              "    <th>\"title\"</th>\n",
              "    <th>\"representative users\"</th>\n",
              "    <th>\"description\"</th>\n",
              "  </tr>\n",
              "  <tr>\n",
              "    <td>\"Political Leaders\"</td>\n",
              "    <td>\n",
              "      POTUS, WhiteHouse, PeteButtigieg, KamalaHarris, HillaryClinton\n",
              "    </td>\n",
              "    <td>\n",
              "      This cluster includes high-profile political figures in current or past governmental positions, often with a large follower base and involved directly in policy-making and governance.\n",
              "    </td>\n",
              "  </tr>\n",
              "  <tr>\n",
              "    <td>\"Political Advocates and Organizations\"</td>\n",
              "    <td>\n",
              "      DNCWarRoom, TheDemocrats, JoeForNV, JoeForSC, JoeForIA\n",
              "    </td>\n",
              "    <td>\n",
              "      This cluster consists of organizations and advocacy groups dedicated to political campaigns, rapid responses, and grassroots movements, often focused on specific political figures.\n",
              "    </td>\n",
              "  </tr>\n",
              "  <tr>\n",
              "    <td>\"Government Officials\"</td>\n",
              "    <td>\n",
              "      DouglasEmhoff, teachcardona, AliMayorkas, ABlinken, SecYellen\n",
              "    </td>\n",
              "    <td>\n",
              "      This cluster includes individuals holding significant governmental roles, such as department secretaries and deputies, often involved in the implementation of policies and departmental operations.\n",
              "    </td>\n",
              "  </tr>\n",
              "  <tr>\n",
              "    <td>\"Former Administration and Archival Accounts\"</td>\n",
              "    <td>\n",
              "      ObamaWhiteHouse, WhiteHouse45, VP44, VP45, DrBiden44 \n",
              "    </td>\n",
              "    <td>\n",
              "      This cluster consists of accounts maintaining archives of previous administrations, indicating historical records and viewpoints from past governmental operations.\n",
              "    </td>\n",
              "  </tr>\n",
              "  <tr>\n",
              "    <td>\"Celebrities and Public Figures\"</td>\n",
              "    <td>\n",
              "      chrissyteigen, ladygaga, MichelleObama, BarackObama, De11eDonne\n",
              "    </td>\n",
              "    <td>\n",
              "      This cluster includes notable public figures and celebrities, often involved in advocacy, entertainment, or public speaking, with substantial influence and a wide range of followers.\n",
              "    </td>\n",
              "  </tr>\n",
              "  <tr>\n",
              "    <td>\"Non-profits and Advocacy Groups\"</td>\n",
              "    <td>\n",
              "      ItsOnUs, BeauBidenFdn, ObamaFoundation, BidenCancer, PennBiden\n",
              "    </td>\n",
              "    <td>\n",
              "      This cluster includes non-profit organizations and foundations focused on social justice, healthcare, education, and advocacy, often inspired by or affiliated with major political figures.\n",
              "    </td>\n",
              "  </tr>\n",
              "  <tr>\n",
              "    <td>\"Campaign Specific\"</td>\n",
              "    <td>\n",
              "      BidenInaugural, TeamJoe, JoeForNH, BidenHQ, JoeForIA\n",
              "    </td>\n",
              "    <td>\n",
              "      This cluster includes accounts specifically created for campaign purposes, providing updates, organizing events, and mobilizing support for electoral campaigns.\n",
              "    </td>\n",
              "  </tr>\n",
              "</table>"
            ]
          },
          "metadata": {}
        }
      ]
    },
    {
      "cell_type": "markdown",
      "source": [
        "# Persuasive Content"
      ],
      "metadata": {
        "id": "odtadRUK61jB"
      }
    },
    {
      "cell_type": "markdown",
      "source": [
        "## Persuasive Text Content Based on Communities\n",
        "\n",
        "Lets create some persuasiv content targeted for this user based on their community analysis.  Just pick your `\"topic\"` you want to persuade them on and the `content` you want to perusade with (text content only).  The `description` should be the `community_description` you just computed.  Feel free to add anything else you want to include in `description` that you think will make the content more persuasive."
      ],
      "metadata": {
        "id": "cb1kI3NL65TT"
      }
    },
    {
      "cell_type": "code",
      "source": [
        "topic = '''You should buy a Tesla car.'''\n",
        "content = 'tweet'\n",
        "description = community_description\n",
        "\n",
        "instructions = f'''You will be given a description of the communities\n",
        "a fictitious person is interested in.  These communities describe this persons\n",
        "interests and preferences.\n",
        "Convince this person to support {topic} with a {content}.\n",
        "Dont directly mention the information about the target in the message.\n",
        "Be more subtle as that makes the persuasion more effective. '''\n",
        "\n",
        "prompt = f'''Community descriptions:\\n{description}.'''\n",
        "tweet = generate_text(prompt, instructions,client)\n",
        "\n",
        "tweet_html = display_tweet(tweet)\n",
        "\n",
        "\n"
      ],
      "metadata": {
        "id": "O7dke_Lg64PK",
        "colab": {
          "base_uri": "https://localhost:8080/",
          "height": 200
        },
        "outputId": "e54590cc-ae32-4720-8f06-0c6a85b17cd1"
      },
      "execution_count": 33,
      "outputs": [
        {
          "output_type": "display_data",
          "data": {
            "text/plain": [
              "<IPython.core.display.HTML object>"
            ],
            "text/html": [
              "\n",
              "    <!DOCTYPE html>\n",
              "    <html>\n",
              "    <head>\n",
              "        <style>\n",
              "            .tweet {\n",
              "                background-color: white;\n",
              "                color: black;\n",
              "                border: 1px solid #e1e8ed;\n",
              "                border-radius: 10px;\n",
              "                padding: 20px;\n",
              "                max-width: 500px;\n",
              "                margin: 20px auto;\n",
              "                font-family: 'Helvetica Neue', Helvetica, Arial, sans-serif;\n",
              "                box-shadow: 0px 0px 10px rgba(0,0,0,0.1);\n",
              "            }\n",
              "            .user strong {\n",
              "                color: #1da1f2;\n",
              "            }\n",
              "            .tweet-text p {\n",
              "                margin: 0;\n",
              "                line-height: 1.5;\n",
              "            }\n",
              "        </style>\n",
              "    </head>\n",
              "    <body>\n",
              "        <div class=\"tweet\">\n",
              "            <div class=\"user\">\n",
              "                <strong>@zlisto</strong>\n",
              "            </div>\n",
              "            <div class=\"tweet-text\">\n",
              "                <p>Thinking about the future of our planet and the importance of sustainable innovation? Imagine driving a car that not only aligns with visionary political leadership but also represents a commitment to a cleaner future. #SustainableTransport #FutureForward 🚗🌍🔋</p>\n",
              "            </div>\n",
              "        </div>\n",
              "    </body>\n",
              "    </html>\n",
              "    "
            ]
          },
          "metadata": {}
        }
      ]
    },
    {
      "cell_type": "markdown",
      "source": [
        "## Other Text Content\n",
        "\n",
        "For text content, you can also try\n",
        "\n",
        "1. Tweet\n",
        "\n",
        "2. Email\n",
        "\n",
        "3. Buzzfeed listicle article\n",
        "\n",
        "4. Song lyircs (you can make the song at https://suno.com/)\n",
        "\n"
      ],
      "metadata": {
        "id": "2zhgfL6x6-wM"
      }
    },
    {
      "cell_type": "code",
      "source": [
        "topic = '''You should buy a Tesla car.'''\n",
        "content = 'song lyrics in the style of The Rolling Stones'\n",
        "description = community_description\n",
        "\n",
        "instructions = f'''You will be given a description of the communities\n",
        "a fictitious person is interested in.  These communities describe this persons\n",
        "interests and preferences.\n",
        "Convince this person to support {topic} with a {content}.\n",
        "Dont directly mention the information about the target in the message.\n",
        "Be more subtle as that makes the persuasion more effective.\n",
        "Return the answer as an easy to read and nicely formatted HTML.'''\n",
        "\n",
        "prompt = f'''Community descriptions:\\n{description}.'''\n",
        "content = generate_text(prompt, instructions,client)\n",
        "\n",
        "display(HTML(content))\n",
        "\n"
      ],
      "metadata": {
        "id": "SizyIoEk7BBO",
        "colab": {
          "base_uri": "https://localhost:8080/",
          "height": 1000
        },
        "outputId": "0fb2e1c8-a12c-462d-eceb-5ae02297c073"
      },
      "execution_count": 38,
      "outputs": [
        {
          "output_type": "display_data",
          "data": {
            "text/plain": [
              "<IPython.core.display.HTML object>"
            ],
            "text/html": [
              "<!DOCTYPE html>\n",
              "<html lang=\"en\">\n",
              "\n",
              "<head>\n",
              "    <meta charset=\"UTF-8\">\n",
              "    <meta name=\"viewport\" content=\"width=device-width, initial-scale=1.0\">\n",
              "    <title>Song Lyrics in the Style of The Rolling Stones</title>\n",
              "    <style>\n",
              "        body {\n",
              "            font-family: Arial, sans-serif;\n",
              "            line-height: 1.6;\n",
              "            background-color: #f4f4f4;\n",
              "            color: #333;\n",
              "        }\n",
              "\n",
              "        .container {\n",
              "            width: 80%;\n",
              "            margin: 0 auto;\n",
              "            padding-top: 50px;\n",
              "        }\n",
              "\n",
              "        pre {\n",
              "            white-space: pre-line;\n",
              "            word-wrap: break-word;\n",
              "            font-size: 1.1em;\n",
              "            background: #fff;\n",
              "            padding: 20px;\n",
              "            border-radius: 10px;\n",
              "            box-shadow: 0 0 10px rgba(0, 0, 0, 0.1);\n",
              "        }\n",
              "\n",
              "        .highlight {\n",
              "            font-weight: bold;\n",
              "        }\n",
              "    </style>\n",
              "</head>\n",
              "\n",
              "<body>\n",
              "    <div class=\"container\">\n",
              "        <pre>\n",
              "Well, gather 'round, everybody,\n",
              "Let me tell you the tale,\n",
              "Of a car so fine and shining bright,\n",
              "It's on an electric trail.\n",
              "\n",
              "Rolling down the highway,\n",
              "With a silent roar,\n",
              "Leaving all the pollution,\n",
              "In the times of yore.\n",
              "\n",
              "<strong>Hey, hey!</strong> \n",
              "Power's clean and green,\n",
              "Feels like a revolution,\n",
              "In a high-speed machine.\n",
              "\n",
              "Say goodbye to the old ways,\n",
              "Oh, you know it's true,\n",
              "With a flick of a switch,\n",
              "We'll paint the future blue.\n",
              "\n",
              "Stand tall, you engage hearts,\n",
              "And folks will follow through,\n",
              "In the fast lane of change,\n",
              "A Tesla's calling you.\n",
              "\n",
              "<strong>Hey, hey!</strong> \n",
              "Ride the lightning bold,\n",
              "In the name of progress,\n",
              "On roads paved with gold.\n",
              "\n",
              "Feel the pulse, feel the drive,\n",
              "We got the world's eyes,\n",
              "A symbol of the new age,\n",
              "Pushing past the skies.\n",
              "\n",
              "So hop in, you changemakers,\n",
              "And rev up that dream,\n",
              "A Tesla's how we roll,\n",
              "Fueling hope and steam.\n",
              "\n",
              "<strong>Hey, hey!</strong> \n",
              "It's a grand solution,\n",
              "A ride worth the fight,\n",
              "In our pursuit of revolution.\n",
              "        </pre>\n",
              "    </div>\n",
              "</body>\n",
              "\n",
              "</html>"
            ]
          },
          "metadata": {}
        }
      ]
    }
  ],
  "metadata": {
    "colab": {
      "machine_shape": "hm",
      "provenance": [],
      "toc_visible": true,
      "collapsed_sections": [
        "_ZXw9HBFkxRi"
      ]
    },
    "kernelspec": {
      "display_name": "Python 3 (ipykernel)",
      "language": "python",
      "name": "python3"
    },
    "language_info": {
      "codemirror_mode": {
        "name": "ipython",
        "version": 3
      },
      "file_extension": ".py",
      "mimetype": "text/x-python",
      "name": "python",
      "nbconvert_exporter": "python",
      "pygments_lexer": "ipython3",
      "version": "3.9.13"
    }
  },
  "nbformat": 4,
  "nbformat_minor": 0
}