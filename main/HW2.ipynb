{
  "nbformat": 4,
  "nbformat_minor": 0,
  "metadata": {
    "colab": {
      "provenance": [],
      "toc_visible": true
    },
    "kernelspec": {
      "name": "python3",
      "display_name": "Python 3"
    },
    "language_info": {
      "name": "python"
    }
  },
  "cells": [
    {
      "cell_type": "markdown",
      "source": [
        "# Homework 2\n",
        "\n",
        "This notebook provides some skeleton code to get you started on the homework.  Add in your own code and markdown cells  to answer the homework questions.  You will submit this notebook as an .ipynb file.  \n",
        "\n",
        "Before starting, select \"Runtime->Factory reset runtime\" to start with your directories and environment in the base state.\n",
        "\n",
        "If you want to save changes to the notebook, select \"File->Save a copy in Drive\" from the top menu in Colab.  This will save the notebook in your Google Drive."
      ],
      "metadata": {
        "id": "vZcOmmvLdZCf"
      }
    },
    {
      "cell_type": "markdown",
      "source": [
        "# Clone, Install, Import"
      ],
      "metadata": {
        "id": "xB5kK0YIdfoS"
      }
    },
    {
      "cell_type": "code",
      "source": [
        "!git clone https://github.com/zlisto/social_media_genAI\n",
        "\n",
        "import os\n",
        "os.chdir(\"social_media_genAI/main\")"
      ],
      "metadata": {
        "id": "5naKmAgWdm9U"
      },
      "execution_count": null,
      "outputs": []
    },
    {
      "cell_type": "code",
      "source": [
        "pip install -q -r requirements.txt"
      ],
      "metadata": {
        "id": "ZmXUOZsqdb8v",
        "collapsed": true
      },
      "execution_count": null,
      "outputs": []
    },
    {
      "cell_type": "code",
      "source": [
        "import pandas as pd\n",
        "import matplotlib.pyplot as plt\n",
        "import seaborn as sns\n",
        "import numpy as np\n",
        "import codecs  #this let's us display tweets properly (emojis, etc.)\n",
        "import textwrap as tr\n",
        "from tqdm import tqdm  #progress bar for for loops\n",
        "from IPython.display import HTML\n",
        "import json\n",
        "import textwrap\n",
        "import plotly.express as px\n",
        "from sklearn.decomposition import PCA\n",
        "\n",
        "from scripts.genai import GenAI\n",
        "\n",
        "#this option makes it so tweets display nicely in a dataframe\n",
        "pd.set_option(\"display.max_colwidth\", None)\n",
        "\n",
        "#this code sets the font sizes for plots\n",
        "plt.rcParams.update({'axes.labelsize': 18,\n",
        "                     'xtick.labelsize': 14,\n",
        "                     'ytick.labelsize': 14,\n",
        "                     'figure.figsize':(8,6),\n",
        "                     'axes.grid':True})\n",
        "\n"
      ],
      "metadata": {
        "id": "K8a9kY4idotl"
      },
      "execution_count": null,
      "outputs": []
    },
    {
      "cell_type": "markdown",
      "source": [
        "## Connect to ChatGPT"
      ],
      "metadata": {
        "id": "pFLwtwa3efWp"
      }
    },
    {
      "cell_type": "code",
      "source": [
        "OPENAI_API_KEY = \"\""
      ],
      "metadata": {
        "id": "La37OkxcecbH"
      },
      "execution_count": null,
      "outputs": []
    },
    {
      "cell_type": "code",
      "source": [
        "# Initialize GenAI\n",
        "jarvis = GenAI(OPENAI_API_KEY)\n",
        "\n",
        "text = \"Who are you?\"\n",
        "response = jarvis.generate_text(text)\n",
        "print(f\"Human:{text}\\nAI:{response}\")"
      ],
      "metadata": {
        "id": "nTp3BC-uec5f"
      },
      "execution_count": null,
      "outputs": []
    },
    {
      "cell_type": "markdown",
      "source": [
        "# Problem 1 (60 points) User Tweet Sentiment\n",
        "\n",
        "We will analyze the sentiment of the tweets of the DeepSeek Twitter account.\n",
        "\n"
      ],
      "metadata": {
        "id": "rLtOQT5id0cp"
      }
    },
    {
      "cell_type": "markdown",
      "source": [
        "## Problem 1.1 (5 points): Load tweets\n",
        "\n",
        "Load the tweets into a dataframe and call it `df`. The tweets are in the file `\"data/TwExportly/TwExportly_deepseek_ai_tweets_2025_01_30.csv\"`. Print out the number of rows in `df`."
      ],
      "metadata": {
        "id": "rUka0z9Md1yK"
      }
    },
    {
      "cell_type": "code",
      "source": [],
      "metadata": {
        "id": "uu3aLCttTJTa"
      },
      "execution_count": null,
      "outputs": []
    },
    {
      "cell_type": "markdown",
      "source": [
        "## Problem 1.2 (5 points): Sentiment instructions\n",
        "\n",
        "Create a string called `instructions_sentiment` that tells the AI to measure the sentiment of the tweet between -10 and 10, -10 being negative and 10 being positive."
      ],
      "metadata": {
        "id": "dxgPvnSsgq4c"
      }
    },
    {
      "cell_type": "code",
      "source": [],
      "metadata": {
        "id": "4nA096DeTKSq"
      },
      "execution_count": null,
      "outputs": []
    },
    {
      "cell_type": "markdown",
      "source": [
        "## Problem 1.3 (10 points): Measure sentiment\n",
        "\n",
        "Use a `for` loop to measure the sentiment of all tweets in `df`. If you get an error from the AI, make the sentiment zero (a try/except statement will be useful here).\n",
        " Then add these values as a column called `\"sentiment\"` to `df`. Make sure to convert the sentiments to a floating point numbers.  You may want to save `df` to a csv file after this (maybe not, it only takes a minute to run)."
      ],
      "metadata": {
        "id": "G2oVdtFDiw2A"
      }
    },
    {
      "cell_type": "code",
      "source": [],
      "metadata": {
        "id": "XB1uxeDiTLxi"
      },
      "execution_count": null,
      "outputs": []
    },
    {
      "cell_type": "markdown",
      "source": [
        "## Problem 1.4 (5 points): Plot sentiment distribution\n",
        "\n",
        "Make a kde plot of the sentiment of `df`."
      ],
      "metadata": {
        "id": "rID114kKj9nG"
      }
    },
    {
      "cell_type": "code",
      "source": [],
      "metadata": {
        "id": "wbR1EDOoTMp0"
      },
      "execution_count": null,
      "outputs": []
    },
    {
      "cell_type": "markdown",
      "source": [
        "## Problem 1.5 (5 points): Most extreme tweets\n",
        "\n",
        "Print out the top three sentiment tweets of `df`.  Print it with format Sentiment: sentiment value, Text: text value."
      ],
      "metadata": {
        "id": "MoVGiQlGkLzC"
      }
    },
    {
      "cell_type": "code",
      "source": [],
      "metadata": {
        "id": "Jd4OkfSgTNlj"
      },
      "execution_count": null,
      "outputs": []
    },
    {
      "cell_type": "markdown",
      "source": [
        "## Problem 1.6 (5 points): Engagement\n",
        "\n",
        "Create an `\"engagement\"` column in `df` that is the favorite count divided by the view count.  Print out the top three most engaging tweets with format Engagement: engagement value, Text:text value"
      ],
      "metadata": {
        "id": "1ylXcLEak650"
      }
    },
    {
      "cell_type": "code",
      "source": [],
      "metadata": {
        "id": "Jr_JFS7cTOq0"
      },
      "execution_count": null,
      "outputs": []
    },
    {
      "cell_type": "markdown",
      "source": [
        "## Proble 1.7 (5 points): Plot engagement vs rouned sentiment\n",
        "\n",
        "Make a bar plot of `df` with x-axis being the sentiment rounded to the nearest integer and y-axis being engagement."
      ],
      "metadata": {
        "id": "aHvRdf37nV8r"
      }
    },
    {
      "cell_type": "code",
      "source": [],
      "metadata": {
        "id": "dvGTAD7qTPvH"
      },
      "execution_count": null,
      "outputs": []
    },
    {
      "cell_type": "markdown",
      "source": [
        "## Problem 1.8 (5 points) Tweet embeddings\n",
        "\n",
        "Compute the AI embeddings of the tweets using the `get_embedding` function used in class. Save these embedding vectors to a list called `embeddings`."
      ],
      "metadata": {
        "id": "NHo3VM8kpHAB"
      }
    },
    {
      "cell_type": "code",
      "source": [],
      "metadata": {
        "id": "Lh-tesrNTQ6A"
      },
      "execution_count": null,
      "outputs": []
    },
    {
      "cell_type": "markdown",
      "source": [
        "## Problem 1.9 (5 points) PCA embedding\n",
        "\n",
        "Use PCA to create a two dimensional embedding of the high-dimensional AI embedding in the list `embeddings`.  You will first need to convert the list to an array to do this.  Save the two dimensional PCA embedding to columns `pca_x` and `pca_y` in `df`."
      ],
      "metadata": {
        "id": "75dNDLSCEuPB"
      }
    },
    {
      "cell_type": "code",
      "source": [],
      "metadata": {
        "id": "xWOfMoeJTR7m"
      },
      "execution_count": null,
      "outputs": []
    },
    {
      "cell_type": "markdown",
      "source": [
        "## Problem 1.10 (10 points) Scatterplot PCA embeddings\n",
        "\n",
        "Make a scatterplot of the PCA embeddings in `df`. To make the plot easier to read, make the `hue` be the z-scored engagement, and add a `colorbar` to the plot. **The colorbar is a bit tricky**"
      ],
      "metadata": {
        "id": "DEqwx2v-FFZO"
      }
    },
    {
      "cell_type": "code",
      "source": [],
      "metadata": {
        "id": "t1rem7rjTUPM"
      },
      "execution_count": null,
      "outputs": []
    },
    {
      "cell_type": "markdown",
      "source": [
        "# Problem 2 (40 points) User Analysis\n",
        "\n",
        "We will analyze the tweets of Sam Altman, CEO of OpenAI, to build a behavioral profile of him.\n"
      ],
      "metadata": {
        "id": "Mhmpr-TtoK9c"
      }
    },
    {
      "cell_type": "markdown",
      "source": [
        "## Problem 2.1 (5 points): Load tweets\n",
        "\n",
        "Load the tweets into a dataframe and call it `df`. The tweets are in the file `\"data/TwExportly/TwExportly_sama_tweets_2025_02_01.csv\"`. Print out the number of rows in `df`."
      ],
      "metadata": {
        "id": "HVPGH1Whq3Si"
      }
    },
    {
      "cell_type": "code",
      "source": [],
      "metadata": {
        "id": "-wFWMz_DTVmD"
      },
      "execution_count": null,
      "outputs": []
    },
    {
      "cell_type": "markdown",
      "source": [
        "## Problem 2.2 (10 points) Mybers-Brigs Type Indicator of all tweets\n",
        "\n",
        "Convert the text of all the tweets in `df` into a string called `tweets_string` that has format `\"Tweet:text\\n\"`.  Create a string `instructions` that tells the AI to measure the Mybers-Brigs Type Indicator (MBTI) of the user based on the tweets.  The MBTI measures the Extraversion (E), Introversion (I), Sensing (S), Intuition (N), Thinking (T), Feeling (F), Judging (J), and Perceiving (P).  Have the AI measure each of the properties on a scale of 0 to 10.  Return the answer as a JSON with the keys being the single letter of each feature (make sure to tell the AI what the `output_type` should be).  Then convert this JSON to a dataframe called `df_mbti`.  Print out `df_mbti`."
      ],
      "metadata": {
        "id": "sNFfMSWtH_Wu"
      }
    },
    {
      "cell_type": "code",
      "source": [],
      "metadata": {
        "id": "_K1tpbi5TWfi"
      },
      "execution_count": null,
      "outputs": []
    },
    {
      "cell_type": "markdown",
      "source": [
        "## Problem 2.3 (5 points) Radar plot\n",
        "\n",
        "Make a radar plot of the MBTI scores in `df_mbti`.  **Hint**: tell the AI what the columns are and tell it the range of the values."
      ],
      "metadata": {
        "id": "txtqpD2VKi6K"
      }
    },
    {
      "cell_type": "code",
      "source": [],
      "metadata": {
        "id": "M79OQtZJTXm6"
      },
      "execution_count": null,
      "outputs": []
    },
    {
      "cell_type": "markdown",
      "source": [
        "## Problem 2.4 (5 points)  MBTI of user\n",
        "\n",
        "Based on the numbers in `df_mbti`, have the AI tell you the MBTI personality type of the user.  Make your answer a pretty html and display with `HTML` function.  **Hint** conver `df_mbti` into a string with format column name:column value\\n."
      ],
      "metadata": {
        "id": "MBgfqI7KRDgc"
      }
    },
    {
      "cell_type": "code",
      "source": [],
      "metadata": {
        "id": "93UY-kFoTYgK"
      },
      "execution_count": null,
      "outputs": []
    },
    {
      "cell_type": "markdown",
      "source": [
        "## Problem 2.5 (5 points) Topics\n",
        "\n",
        "Feed the tweets in `tweets_str` to the AI and have it make you an HTML table showing the topics discussed and number of tweets per topic.  Display the table with the `HTML` function."
      ],
      "metadata": {
        "id": "dh-djd36PUZP"
      }
    },
    {
      "cell_type": "code",
      "source": [],
      "metadata": {
        "id": "u8XWe2bNTZfi"
      },
      "execution_count": null,
      "outputs": []
    },
    {
      "cell_type": "markdown",
      "source": [
        "## Problem 2.6 (10 points) User summary\n",
        "\n",
        "Feed the `\"text\"` and `\"favorite_count\"` as one giant string to the AI, telling it these are tweets and their metrics for the Sam Altman Twitter account.  Politely ask the AI to write up a social media analysis of this content, hightlighting topics that get high engagement, the general tone of the tweets, and strategies to get more engagement.  Have it give you this report as an HTML string and then display this with the `HTML` function."
      ],
      "metadata": {
        "id": "LVQF0bxqEFYn"
      }
    },
    {
      "cell_type": "code",
      "source": [],
      "metadata": {
        "id": "BCQl8SWcQuVv"
      },
      "execution_count": null,
      "outputs": []
    }
  ]
}