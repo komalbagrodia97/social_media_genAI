{
  "cells": [
    {
      "cell_type": "markdown",
      "id": "CNJF9PVslw5Y",
      "metadata": {
        "id": "CNJF9PVslw5Y"
      },
      "source": [
        "# Homework 4\n",
        "\n",
        "This notebook provides some skeleton code to get you started on the homework.  Add in your own code and markdown cells  to answer the homework questions.  You will submit this notebook as an .ipynb file.  \n",
        "\n",
        "Before starting, select \"Runtime->Factory reset runtime\" to start with your directories and environment in the base state.\n",
        "\n",
        "If you want to save changes to the notebook, select \"File->Save a copy in Drive\" from the top menu in Colab.  This will save the notebook in your Google Drive."
      ]
    },
    {
      "cell_type": "markdown",
      "id": "utVwd-MCuE_d",
      "metadata": {
        "id": "utVwd-MCuE_d"
      },
      "source": [
        "# Clones, Installs, and Imports"
      ]
    },
    {
      "cell_type": "markdown",
      "id": "qxwez1L-j2mS",
      "metadata": {
        "id": "qxwez1L-j2mS"
      },
      "source": [
        "## Clone Repo"
      ]
    },
    {
      "cell_type": "code",
      "execution_count": null,
      "id": "cb0288fd",
      "metadata": {
        "colab": {
          "base_uri": "https://localhost:8080/"
        },
        "id": "cb0288fd",
        "outputId": "b467e62d-cc2c-469c-9773-cb3262bfcc36"
      },
      "outputs": [
        {
          "name": "stdout",
          "output_type": "stream",
          "text": [
            "Cloning into 'social_media_genAI'...\n",
            "remote: Enumerating objects: 2059, done.\u001b[K\n",
            "remote: Counting objects: 100% (10/10), done.\u001b[K\n",
            "remote: Compressing objects: 100% (6/6), done.\u001b[K\n",
            "remote: Total 2059 (delta 4), reused 8 (delta 4), pack-reused 2049 (from 4)\u001b[K\n",
            "Receiving objects: 100% (2059/2059), 279.17 MiB | 29.66 MiB/s, done.\n",
            "Resolving deltas: 100% (188/188), done.\n",
            "Updating files: 100% (1624/1624), done.\n"
          ]
        }
      ],
      "source": [
        "!git clone https://github.com/zlisto/social_media_genAI\n",
        "\n",
        "import os\n",
        "os.chdir(\"social_media_genAI/main\")\n"
      ]
    },
    {
      "cell_type": "markdown",
      "id": "sFPHN9_Jj1IR",
      "metadata": {
        "id": "sFPHN9_Jj1IR"
      },
      "source": [
        "## Installs"
      ]
    },
    {
      "cell_type": "code",
      "execution_count": null,
      "id": "94c55003",
      "metadata": {
        "colab": {
          "base_uri": "https://localhost:8080/"
        },
        "id": "94c55003",
        "outputId": "c35380d5-0c9b-4ab5-9e38-d5a060cc06d1"
      },
      "outputs": [
        {
          "name": "stdout",
          "output_type": "stream",
          "text": [
            "  Preparing metadata (setup.py) ... \u001b[?25l\u001b[?25hdone\n",
            "\u001b[2K   \u001b[90m━━━━━━━━━━━━━━━━━━━━━━━━━━━━━━━━━━━━━━━━\u001b[0m \u001b[32m2.0/2.0 MB\u001b[0m \u001b[31m55.8 MB/s\u001b[0m eta \u001b[36m0:00:00\u001b[0m\n",
            "\u001b[2K   \u001b[90m━━━━━━━━━━━━━━━━━━━━━━━━━━━━━━━━━━━━━━━━\u001b[0m \u001b[32m548.3/548.3 kB\u001b[0m \u001b[31m34.0 MB/s\u001b[0m eta \u001b[36m0:00:00\u001b[0m\n",
            "\u001b[2K   \u001b[90m━━━━━━━━━━━━━━━━━━━━━━━━━━━━━━━━━━━━━━━━\u001b[0m \u001b[32m1.4/1.4 MB\u001b[0m \u001b[31m63.6 MB/s\u001b[0m eta \u001b[36m0:00:00\u001b[0m\n",
            "\u001b[2K   \u001b[90m━━━━━━━━━━━━━━━━━━━━━━━━━━━━━━━━━━━━━━━━\u001b[0m \u001b[32m85.0/85.0 kB\u001b[0m \u001b[31m6.7 MB/s\u001b[0m eta \u001b[36m0:00:00\u001b[0m\n",
            "\u001b[2K   \u001b[90m━━━━━━━━━━━━━━━━━━━━━━━━━━━━━━━━━━━━━━━━\u001b[0m \u001b[32m232.6/232.6 kB\u001b[0m \u001b[31m17.0 MB/s\u001b[0m eta \u001b[36m0:00:00\u001b[0m\n",
            "\u001b[2K   \u001b[90m━━━━━━━━━━━━━━━━━━━━━━━━━━━━━━━━━━━━━━━━\u001b[0m \u001b[32m244.3/244.3 kB\u001b[0m \u001b[31m18.6 MB/s\u001b[0m eta \u001b[36m0:00:00\u001b[0m\n",
            "\u001b[2K   \u001b[90m━━━━━━━━━━━━━━━━━━━━━━━━━━━━━━━━━━━━━━━━\u001b[0m \u001b[32m294.7/294.7 kB\u001b[0m \u001b[31m21.7 MB/s\u001b[0m eta \u001b[36m0:00:00\u001b[0m\n",
            "\u001b[?25h  Building wheel for fpdf (setup.py) ... \u001b[?25l\u001b[?25hdone\n",
            "\u001b[31mERROR: pip's dependency resolver does not currently take into account all the packages that are installed. This behaviour is the source of the following dependency conflicts.\n",
            "nx-cugraph-cu12 24.12.0 requires networkx>=3.2, but you have networkx 3.0 which is incompatible.\n",
            "torch 2.5.1+cu124 requires nvidia-cublas-cu12==12.4.5.8; platform_system == \"Linux\" and platform_machine == \"x86_64\", but you have nvidia-cublas-cu12 12.5.3.2 which is incompatible.\n",
            "torch 2.5.1+cu124 requires nvidia-cuda-cupti-cu12==12.4.127; platform_system == \"Linux\" and platform_machine == \"x86_64\", but you have nvidia-cuda-cupti-cu12 12.5.82 which is incompatible.\n",
            "torch 2.5.1+cu124 requires nvidia-cuda-nvrtc-cu12==12.4.127; platform_system == \"Linux\" and platform_machine == \"x86_64\", but you have nvidia-cuda-nvrtc-cu12 12.5.82 which is incompatible.\n",
            "torch 2.5.1+cu124 requires nvidia-cuda-runtime-cu12==12.4.127; platform_system == \"Linux\" and platform_machine == \"x86_64\", but you have nvidia-cuda-runtime-cu12 12.5.82 which is incompatible.\n",
            "torch 2.5.1+cu124 requires nvidia-cudnn-cu12==9.1.0.70; platform_system == \"Linux\" and platform_machine == \"x86_64\", but you have nvidia-cudnn-cu12 9.3.0.75 which is incompatible.\n",
            "torch 2.5.1+cu124 requires nvidia-cufft-cu12==11.2.1.3; platform_system == \"Linux\" and platform_machine == \"x86_64\", but you have nvidia-cufft-cu12 11.2.3.61 which is incompatible.\n",
            "torch 2.5.1+cu124 requires nvidia-curand-cu12==10.3.5.147; platform_system == \"Linux\" and platform_machine == \"x86_64\", but you have nvidia-curand-cu12 10.3.6.82 which is incompatible.\n",
            "torch 2.5.1+cu124 requires nvidia-cusolver-cu12==11.6.1.9; platform_system == \"Linux\" and platform_machine == \"x86_64\", but you have nvidia-cusolver-cu12 11.6.3.83 which is incompatible.\n",
            "torch 2.5.1+cu124 requires nvidia-cusparse-cu12==12.3.1.170; platform_system == \"Linux\" and platform_machine == \"x86_64\", but you have nvidia-cusparse-cu12 12.5.1.3 which is incompatible.\n",
            "torch 2.5.1+cu124 requires nvidia-nvjitlink-cu12==12.4.127; platform_system == \"Linux\" and platform_machine == \"x86_64\", but you have nvidia-nvjitlink-cu12 12.5.82 which is incompatible.\u001b[0m\u001b[31m\n",
            "\u001b[0m"
          ]
        }
      ],
      "source": [
        "!pip install -q -r requirements.txt"
      ]
    },
    {
      "cell_type": "markdown",
      "id": "Z3Gq-iC8j5Gz",
      "metadata": {
        "id": "Z3Gq-iC8j5Gz"
      },
      "source": [
        "## Imports"
      ]
    },
    {
      "cell_type": "code",
      "execution_count": null,
      "id": "e81d6de4",
      "metadata": {
        "colab": {
          "base_uri": "https://localhost:8080/"
        },
        "id": "e81d6de4",
        "outputId": "acf50018-35a3-4642-ff01-1742eeb91e93"
      },
      "outputs": [
        {
          "name": "stderr",
          "output_type": "stream",
          "text": [
            "WARNING:py.warnings:/usr/local/lib/python3.11/dist-packages/moviepy/video/io/sliders.py:61: SyntaxWarning: \"is\" with a literal. Did you mean \"==\"?\n",
            "  if event.key is 'enter':\n",
            "\n"
          ]
        }
      ],
      "source": [
        "# Standard library imports\n",
        "import os\n",
        "import time\n",
        "import math\n",
        "import random\n",
        "import ast\n",
        "import base64\n",
        "import subprocess\n",
        "import datetime\n",
        "from datetime import datetime, timedelta\n",
        "from io import BytesIO\n",
        "import textwrap\n",
        "\n",
        "# Third-party imports\n",
        "import pandas as pd\n",
        "import numpy as np\n",
        "import requests\n",
        "import matplotlib.pyplot as plt\n",
        "import matplotlib.image as mpimg\n",
        "import cv2  # OpenCV for video processing\n",
        "from tqdm import tqdm\n",
        "from PIL import Image as PILImage\n",
        "from IPython.display import display, Image, HTML, Audio, Video\n",
        "from moviepy.editor import ImageClip, AudioFileClip, concatenate_videoclips\n",
        "import openai\n",
        "\n",
        "# Google Colab-specific imports\n",
        "from google.colab import userdata\n",
        "\n",
        "#helper functions for using ChatGPT\n",
        "from scripts.genai import GenAI\n",
        "\n",
        "#this option makes it so tweets display nicely in a dataframe\n",
        "pd.set_option(\"display.max_colwidth\", None)\n",
        "\n",
        "#this code sets the font sizes for plots\n",
        "plt.rcParams.update({'axes.labelsize': 18,\n",
        "                     'xtick.labelsize': 14,\n",
        "                     'ytick.labelsize': 14,\n",
        "                     'figure.figsize':(8,6),\n",
        "                     'axes.grid':True})\n"
      ]
    },
    {
      "cell_type": "markdown",
      "id": "csuvtF6-ruN_",
      "metadata": {
        "id": "csuvtF6-ruN_"
      },
      "source": [
        "## Connect to ChatGPT"
      ]
    },
    {
      "cell_type": "code",
      "execution_count": null,
      "id": "abc0f2c2",
      "metadata": {
        "id": "abc0f2c2"
      },
      "outputs": [],
      "source": [
        "#set your OpenAI API key as a string\n",
        "OPENAI_API_KEY = \"\"\n"
      ]
    },
    {
      "cell_type": "code",
      "execution_count": null,
      "id": "arA4jCPbrwSf",
      "metadata": {
        "colab": {
          "base_uri": "https://localhost:8080/"
        },
        "id": "arA4jCPbrwSf",
        "outputId": "c7ca8573-aa61-4dfa-bc02-73ac8beaa2eb"
      },
      "outputs": [
        {
          "name": "stdout",
          "output_type": "stream",
          "text": [
            "Human:Who are you?\n",
            "AI:I am Jarvis, an AI designed to assist you with a variety of tasks, answer questions, and provide information based on a vast amount of knowledge I have been trained on. How can I help you today?\n"
          ]
        }
      ],
      "source": [
        "# Initialize GenAI\n",
        "jarvis = GenAI(OPENAI_API_KEY)\n",
        "\n",
        "text = \"Who are you?\"\n",
        "response = jarvis.generate_text(text)\n",
        "print(f\"Human:{text}\\nAI:{response}\")"
      ]
    },
    {
      "cell_type": "markdown",
      "id": "sv6-tXg99Gen",
      "metadata": {
        "id": "sv6-tXg99Gen"
      },
      "source": [
        "# Problem 1 (20 points) Basic Image Analysis"
      ]
    },
    {
      "cell_type": "markdown",
      "id": "2uo6_BQXuddW",
      "metadata": {
        "id": "2uo6_BQXuddW"
      },
      "source": [
        "## Problem 1.1 (5 points) View image\n",
        "\n",
        "Load the image with file name `\"data/image_compressed_taylorswift/1838671987862472764_11830955_small.jpeg\"` and display it with the `Image` function."
      ]
    },
    {
      "cell_type": "code",
      "execution_count": null,
      "id": "CcOEFpCMi9fS",
      "metadata": {
        "id": "CcOEFpCMi9fS"
      },
      "outputs": [],
      "source": []
    },
    {
      "cell_type": "markdown",
      "id": "9_pak_rVvGtk",
      "metadata": {
        "id": "9_pak_rVvGtk"
      },
      "source": [
        "## Problem 1.2 (10 points) Instagram caption recommendations\n",
        "\n",
        "Use the AI to provide 3 captions for this image on Instagram to make the image more engaging for people who are fans of Metallica and explain why the captions are engaging.  Tell the AI to return the result as HTML with big font and modern layout.  Display the captions with the `HTML` function."
      ]
    },
    {
      "cell_type": "code",
      "execution_count": null,
      "id": "d2IE16t6i-U_",
      "metadata": {
        "id": "d2IE16t6i-U_"
      },
      "outputs": [],
      "source": []
    },
    {
      "cell_type": "markdown",
      "id": "XN7QSQRsxJpu",
      "metadata": {
        "id": "XN7QSQRsxJpu"
      },
      "source": [
        "## Problem 1.3 (5 points) Rolling Stone article\n",
        "\n",
        "Put the following images into a list called `image_paths`:\n",
        "1. `\"/content/social_media_genAI/main/data/image_compressed_taylorswift/1661245127015635399_11830955_small.jpeg\"`\n",
        "\n",
        "2.`\"/content/social_media_genAI/main/data/image_compressed_taylorswift/3144002220890559101_11830955_small.jpeg\"`\n",
        "\n",
        "3. `\"/content/social_media_genAI/main/data/image_compressed_taylorswift/3235298520231318519_11830955_small.jpeg\"`\n",
        "\n",
        "Display the images with `display` and  `Image` functions.  \n",
        "\n",
        "Then have the AI analyze these images simulataneously and describe their style evolution.  Return the answer as an article for Rolling Stone with a clever title about Taylor Swift, in nice html.  Display the article with the `HTML` function.\n"
      ]
    },
    {
      "cell_type": "code",
      "source": [],
      "metadata": {
        "id": "QcNl7tYA2n0r"
      },
      "id": "QcNl7tYA2n0r",
      "execution_count": null,
      "outputs": []
    },
    {
      "cell_type": "markdown",
      "id": "b6ECdt2Qk4x5",
      "metadata": {
        "id": "b6ECdt2Qk4x5"
      },
      "source": [
        "# Problem 2 (20 points) Tweeting a Reaction to an Image\n",
        "\n",
        "In this problem you will have the AI tweet a reaction to an image in the style of a specific person.\n"
      ]
    },
    {
      "cell_type": "markdown",
      "id": "8NK2R5MGtSNV",
      "metadata": {
        "id": "8NK2R5MGtSNV"
      },
      "source": [
        "## Problem 2.1 (5 points) Load Image\n",
        "\n",
        "Load the image with file name `\"data/image_compressed_cristiano/1603695572069767264_173560420_small.jpeg\"` and display it with the `Image` function.\n"
      ]
    },
    {
      "cell_type": "code",
      "execution_count": null,
      "id": "qtON4cBi9NXO",
      "metadata": {
        "id": "qtON4cBi9NXO"
      },
      "outputs": [],
      "source": []
    },
    {
      "cell_type": "markdown",
      "id": "YJ_O9jMWtZtS",
      "metadata": {
        "id": "YJ_O9jMWtZtS"
      },
      "source": [
        "## Problem 2.2 (7 points) Describe Twitter user\n",
        "\n",
        "Write a `user_description` of a Twitter user who will see this image and react to it.  Be creative :).  Then give the AI `instructions` that tell it to provide more details about the tweeting style of this user as nice HTML.  Call this output string `tweet_style_html`.  Display the tweet style using `HTML`."
      ]
    },
    {
      "cell_type": "code",
      "execution_count": null,
      "id": "_yjPZ_BJ9N6N",
      "metadata": {
        "id": "_yjPZ_BJ9N6N"
      },
      "outputs": [],
      "source": []
    },
    {
      "cell_type": "markdown",
      "id": "WFzhZjkytev-",
      "metadata": {
        "id": "WFzhZjkytev-"
      },
      "source": [
        "## Problem 2.3 (8 points) Tweet reaction to image\n",
        "\n",
        "Use the AI to write a tweet in the style of the user from the previous part (`tweet_style_html`) to the image from part 1.  Display the image and then display your tweet using the `display_tweet` function.\n"
      ]
    },
    {
      "cell_type": "code",
      "execution_count": null,
      "id": "DUwDiQwOo7Dp",
      "metadata": {
        "id": "DUwDiQwOo7Dp"
      },
      "outputs": [],
      "source": []
    },
    {
      "cell_type": "markdown",
      "id": "xAM0opBOxk2d",
      "metadata": {
        "id": "xAM0opBOxk2d"
      },
      "source": [
        "# Problem 3. (30 points) Generate Text Narration of a Video"
      ]
    },
    {
      "cell_type": "markdown",
      "id": "h0AD-xSD5Vv1",
      "metadata": {
        "id": "h0AD-xSD5Vv1"
      },
      "source": [
        "## Problem 3.1 (5 points) Load video\n",
        "\n",
        "Load the video located at `video_path = \"data/videos/superbon_banchamek - boxing.mp4\"` and display it with the `Video` function.  Make sure the video is visible."
      ]
    },
    {
      "cell_type": "code",
      "execution_count": null,
      "id": "wLDTk6xC9Paw",
      "metadata": {
        "id": "wLDTk6xC9Paw"
      },
      "outputs": [],
      "source": []
    },
    {
      "cell_type": "markdown",
      "id": "jXLKOY-k7H4F",
      "metadata": {
        "id": "jXLKOY-k7H4F"
      },
      "source": [
        "## Problem 3.2 (5 points) Narration length\n",
        "\n",
        "A human speaks 200 words per minute.  Using this, calculate `nwords_max`, the maximum number of words in the narration for the video.   Display the duration of the video in seconds and display `nwords_max`."
      ]
    },
    {
      "cell_type": "code",
      "source": [],
      "metadata": {
        "id": "0k-4sn-Q2tGX"
      },
      "id": "0k-4sn-Q2tGX",
      "execution_count": null,
      "outputs": []
    },
    {
      "cell_type": "markdown",
      "id": "S6p4xkQN5ouL",
      "metadata": {
        "id": "S6p4xkQN5ouL"
      },
      "source": [
        "## Problem 3.3 (10 points) Create text narration for video\n",
        "\n",
        "Write a `narration` for the video in the voice of the fighter, whose name is Superbon (he is the fighter in the video and this is his gym).  Make your narration target Western UFC fans to take a beginners class in his gym.  The gym's name is Superbon Training Camp.\n",
        "\n",
        "  First have the AI give you a short `bio`of Superbon and his gym, formatted as a nice HTML.  Display the `bio` with the `display` and `HTML` functions.  \n",
        "\n",
        "Then give this `bio` as part of you `instructions` for the video `narration`.  Make sure the AI only returns the narration and nothing else.\n",
        "\n",
        " Make sure the `narration` has fewer than `nwords_max` words.  Display the `narration`."
      ]
    },
    {
      "cell_type": "code",
      "source": [],
      "metadata": {
        "id": "8Hs16PFz2uYH"
      },
      "id": "8Hs16PFz2uYH",
      "execution_count": null,
      "outputs": []
    },
    {
      "cell_type": "markdown",
      "id": "dN7q-iQp7c8L",
      "metadata": {
        "id": "dN7q-iQp7c8L"
      },
      "source": [
        "## Problem 3.4 (4 points) Word count of narration\n",
        "\n",
        "Display the number of words in the narration along with `nwords_max`.  Make sure the number of words is less than `nwords_max`. If it does not, generate another narration."
      ]
    },
    {
      "cell_type": "code",
      "execution_count": null,
      "id": "QOpwdWr6o2F6",
      "metadata": {
        "id": "QOpwdWr6o2F6"
      },
      "outputs": [],
      "source": []
    },
    {
      "cell_type": "markdown",
      "id": "NORW3a7g7KJV",
      "metadata": {
        "id": "NORW3a7g7KJV"
      },
      "source": [
        "## Problem 3.5 (6 points) Evaluate narration\n",
        "\n",
        "Have the AI evaluate on a scale of 1 to 10, how effective this narration and this video will be in attracting the Western UFC fan to visit the gym and become a paying customer.  Return the evaluation as an HTML that is easy to read.  Use the `generate_video_description` function, and include the `bio` and `narration` in the `instructions`.  Display the evalutaion with the `HTML` and `display` functions."
      ]
    },
    {
      "cell_type": "code",
      "source": [],
      "metadata": {
        "id": "zoz7wo6t2vmA"
      },
      "id": "zoz7wo6t2vmA",
      "execution_count": null,
      "outputs": []
    },
    {
      "cell_type": "markdown",
      "id": "I15V0h3W9xr4",
      "metadata": {
        "id": "I15V0h3W9xr4"
      },
      "source": [
        "# Problem 4 (30 points) Image Database\n",
        "\n",
        "We will create an indexed image data base and then try to build an Instagram reel from it."
      ]
    },
    {
      "cell_type": "markdown",
      "id": "zv60Zx7cEq34",
      "metadata": {
        "id": "zv60Zx7cEq34"
      },
      "source": [
        "## Problem 4.1 (15 points) Create index\n",
        "\n",
        "The images are in the folder `\"data/officialcaptainamerica\"`.  Have the AI generate a description of 10 images in the folder.  Only do 10 images and no more as it will take 10 minutes to do all the images in the folder.   \n",
        "\n",
        "Make sure your `instructions` to the AI tell it this is an image from the Instagram account of the new movie Captain America: Brave New World starring Anthony Mackey as the new Captain America.\n",
        "\n",
        "Create a dataframe `df` with columns `\"image_path\"` and `\"image_description\"` that has the full image path and an AI generated description for each of the 10 images.  \n",
        "\n",
        "Display the head of `df`.\n",
        "\n",
        "\n"
      ]
    },
    {
      "cell_type": "code",
      "source": [],
      "metadata": {
        "id": "Xw8dDwli21Dk"
      },
      "id": "Xw8dDwli21Dk",
      "execution_count": null,
      "outputs": []
    },
    {
      "cell_type": "markdown",
      "id": "YoI9i2ClGvEK",
      "metadata": {
        "id": "YoI9i2ClGvEK"
      },
      "source": [
        "## Problem 4.2 (10 points) Image slide show\n",
        "\n",
        "Politely ask the AI to generate a 3 scene reel to promote Captain America: Brave New World, with the image path and a narration for each scene, selecting from the images in `df`. The narration should be done by Steve Rogers, the original Captain America, who is talking about the new Captain America played by Anthony Mackey.\n",
        "\n",
        "Have the AI return a JSON object with structure:\n",
        "\n",
        "`{'scene_list':[{'image_path': 'path/to/image', 'narration': 'narration for the scene'}, ...]}`.  \n",
        "\n",
        "Make sure the AI `output_type = \"json_object\"`.  \n",
        "\n",
        "Then use the `ast.literal_eval` and `pd.DataFrame` functions to convert the `'scene_list'` in the JSON object into a dataframe called `df_script`.  \n",
        "\n",
        "Dispay the head of `df_script`."
      ]
    },
    {
      "cell_type": "code",
      "source": [],
      "metadata": {
        "id": "Rk_I6hnA22Sl"
      },
      "id": "Rk_I6hnA22Sl",
      "execution_count": null,
      "outputs": []
    },
    {
      "cell_type": "markdown",
      "id": "qg089cy9IUT6",
      "metadata": {
        "id": "qg089cy9IUT6"
      },
      "source": [
        "## Problem 4.3 (5 points) Display images and narrations\n",
        "\n",
        "Plot the images in `df_script` in a single horizontal row and put the narration below the images. Make sure the text for each scene is contained under its image.  The `textwrap.wrap` function is useful here."
      ]
    },
    {
      "cell_type": "code",
      "source": [],
      "metadata": {
        "id": "RgjMSMQ523Ut"
      },
      "id": "RgjMSMQ523Ut",
      "execution_count": null,
      "outputs": []
    }
  ],
  "metadata": {
    "colab": {
      "provenance": [],
      "toc_visible": true
    },
    "kernelspec": {
      "display_name": "Python 3 (ipykernel)",
      "language": "python",
      "name": "python3"
    },
    "language_info": {
      "codemirror_mode": {
        "name": "ipython",
        "version": 3
      },
      "file_extension": ".py",
      "mimetype": "text/x-python",
      "name": "python",
      "nbconvert_exporter": "python",
      "pygments_lexer": "ipython3",
      "version": "3.9.13"
    }
  },
  "nbformat": 4,
  "nbformat_minor": 5
}