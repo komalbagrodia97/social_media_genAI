{
  "cells": [
    {
      "cell_type": "markdown",
      "id": "CNJF9PVslw5Y",
      "metadata": {
        "id": "CNJF9PVslw5Y"
      },
      "source": [
        "# Homework 5\n",
        "\n",
        "This notebook provides some skeleton code to get you started on the homework.  Add in your own code and markdown cells  to answer the homework questions.  You will submit this notebook as an .ipynb file.  \n",
        "\n",
        "Before starting, select \"Runtime->Factory reset runtime\" to start with your directories and environment in the base state.\n",
        "\n",
        "If you want to save changes to the notebook, select \"File->Save a copy in Drive\" from the top menu in Colab.  This will save the notebook in your Google Drive."
      ]
    },
    {
      "cell_type": "markdown",
      "id": "utVwd-MCuE_d",
      "metadata": {
        "id": "utVwd-MCuE_d"
      },
      "source": [
        "# Clones, Installs, and Imports"
      ]
    },
    {
      "cell_type": "markdown",
      "id": "qxwez1L-j2mS",
      "metadata": {
        "id": "qxwez1L-j2mS"
      },
      "source": [
        "## Clone Repo"
      ]
    },
    {
      "cell_type": "code",
      "execution_count": null,
      "id": "cb0288fd",
      "metadata": {
        "id": "cb0288fd"
      },
      "outputs": [],
      "source": []
    },
    {
      "cell_type": "markdown",
      "id": "sFPHN9_Jj1IR",
      "metadata": {
        "id": "sFPHN9_Jj1IR"
      },
      "source": [
        "## Installs"
      ]
    },
    {
      "cell_type": "code",
      "execution_count": null,
      "id": "94c55003",
      "metadata": {
        "id": "94c55003"
      },
      "outputs": [],
      "source": []
    },
    {
      "cell_type": "markdown",
      "id": "Z3Gq-iC8j5Gz",
      "metadata": {
        "id": "Z3Gq-iC8j5Gz"
      },
      "source": [
        "## Imports"
      ]
    },
    {
      "cell_type": "code",
      "execution_count": null,
      "id": "e81d6de4",
      "metadata": {
        "id": "e81d6de4"
      },
      "outputs": [],
      "source": []
    },
    {
      "cell_type": "markdown",
      "id": "csuvtF6-ruN_",
      "metadata": {
        "id": "csuvtF6-ruN_"
      },
      "source": [
        "## Connect to ChatGPT"
      ]
    },
    {
      "cell_type": "code",
      "execution_count": null,
      "id": "abc0f2c2",
      "metadata": {
        "id": "abc0f2c2"
      },
      "outputs": [],
      "source": []
    },
    {
      "cell_type": "markdown",
      "id": "sv6-tXg99Gen",
      "metadata": {
        "id": "sv6-tXg99Gen"
      },
      "source": [
        "# Problem 1 (45 points) Cluster Tweets\n",
        "\n",
        "You will cluster a Twitter user's tweets using machine learning (embedding, PCA, K-Means clustering) and using AI (feed all tweets to the AI and ask for clusters).  \n",
        "\n"
      ]
    },
    {
      "cell_type": "markdown",
      "id": "2uo6_BQXuddW",
      "metadata": {
        "id": "2uo6_BQXuddW"
      },
      "source": [
        "## Problem 1.1 (3 points) Load data\n",
        "Load the tweets with file name `\"data/TwExportly/TwExportly_RealAlexJones_tweets_2024_01_24.csv\"` into a dataframe `df` and `display` the number of tweets in the dataframe."
      ]
    },
    {
      "cell_type": "code",
      "execution_count": null,
      "id": "CcOEFpCMi9fS",
      "metadata": {
        "id": "CcOEFpCMi9fS"
      },
      "outputs": [],
      "source": []
    },
    {
      "cell_type": "markdown",
      "id": "XN7QSQRsxJpu",
      "metadata": {
        "id": "XN7QSQRsxJpu"
      },
      "source": [
        "## Problem 1.3 (10 points) Optimal number of AI clusters\n",
        "\n",
        "Use the AI to cluster the tweets into 2, 3, 4, and 5 clusters based on their text (don't do any embedding or K-Means here). Provide `instructions` to the AI with the number of clusters and put the tweets' `text` into the `prompt` in a nicely formatted way.\n",
        "  Have the AI return an HTML table in dark mode of the cluster titles, description, and example tweets.  \n",
        "  \n",
        "  Then give the HTML cluster table to the AI in new `instructions` and the original tweets in the `prompt` and ask the AI to score the quality of the clusters on a scale of 0 to 10.  Describe to the AI what makes a set of clusters bad (quality= 0) and good (quality = 10).  Make a plot of the quality score versus the number of clusters.\n"
      ]
    },
    {
      "cell_type": "code",
      "source": [],
      "metadata": {
        "id": "UaTTFeYCPtEp"
      },
      "id": "UaTTFeYCPtEp",
      "execution_count": null,
      "outputs": []
    },
    {
      "cell_type": "markdown",
      "source": [
        "## Problem 1.5 (5 points) PCA embedding\n",
        "\n",
        "Compute the two-dimensional PCA embedding of the tweet transformer `embedding_text` and add them as columns to your tweet dataframe as `pca_x` and `pca_y`."
      ],
      "metadata": {
        "id": "Yc8zgF5xtb_F"
      },
      "id": "Yc8zgF5xtb_F"
    },
    {
      "cell_type": "code",
      "source": [],
      "metadata": {
        "id": "LgZnJgoouGJs"
      },
      "id": "LgZnJgoouGJs",
      "execution_count": null,
      "outputs": []
    },
    {
      "cell_type": "markdown",
      "source": [
        "## Problem 1.6 (10 points) Optimal number of K-Means clusters\n",
        "\n",
        "Use K-Means clustering to cluster the tweets based on `pca_x` and `pca_y`.  Try 2, 3, 4, and 5 clusters.  Compute the silhouette score for each clustering.  Plot the silhouette score versus the number of clusters."
      ],
      "metadata": {
        "id": "XfbNGnIzuS6X"
      },
      "id": "XfbNGnIzuS6X"
    },
    {
      "cell_type": "code",
      "source": [],
      "metadata": {
        "id": "L6dOqd8putMr"
      },
      "id": "L6dOqd8putMr",
      "execution_count": null,
      "outputs": []
    },
    {
      "cell_type": "markdown",
      "source": [
        "## Problem 1.7 (5 points) Cluster tweets with AI\n",
        "\n",
        "Based on the previous problems, you should probably see that three clusters is a good number of clusters to use.  Use the AI to cluster the tweets into three clusters based on their text (don't do any embedding or K-Means here). Provide `instructions` to the AI and put the tweets' `text` into the `prompt` in a nicely formatted way.\n",
        "  Have the AI return an HTML table in dark mode of the cluster titles, description, and example tweets.  Call this HTML string `html_clusters` and display it with the `HTML` function."
      ],
      "metadata": {
        "id": "ROmGUuktu0hI"
      },
      "id": "ROmGUuktu0hI"
    },
    {
      "cell_type": "code",
      "source": [],
      "metadata": {
        "id": "a0mzjEZGu1ee"
      },
      "id": "a0mzjEZGu1ee",
      "execution_count": null,
      "outputs": []
    },
    {
      "cell_type": "markdown",
      "source": [
        "## Problem 1.8 (5 points) Persuasion based on tweet clusters\n",
        "\n",
        "Have the AI produce persuasive `content` for a `topic` for the Twitter user based on their tweet clusters `html_clusters`. Your `prompt` should be `html_clusters` and your `instructions` should incorporate the `topic` and `content`.  The `topic` is \"Buy an electric car\" and the `content` is \"A 12 month ad campaign, with ads placed in this users's Twitter feed\".  \n",
        "Make your `content` be HTML in dark mode.  Call your html strategy string `html_strategy` and display it with the `HTML` function."
      ],
      "metadata": {
        "id": "40dfu8jUDLa4"
      },
      "id": "40dfu8jUDLa4"
    },
    {
      "cell_type": "code",
      "source": [],
      "metadata": {
        "id": "oGfmYlizD7zR"
      },
      "id": "oGfmYlizD7zR",
      "execution_count": null,
      "outputs": []
    },
    {
      "cell_type": "markdown",
      "source": [
        "## Problem 1.9 (5 points) Evaluate strategy\n",
        "\n",
        "Have the AI evaluate your strategy `html_strategy` for the `topic` and target user based on  `html_clusters`.  You should include the `topic` and `html_strategy` in the `instructions` and the `html_clusters` in the `prompt`.  The evaluation should be a score between 0 and 10 and an explanation for the score, returned as HTML.  Display this with the `HTML` function."
      ],
      "metadata": {
        "id": "NEDEVArFFyXy"
      },
      "id": "NEDEVArFFyXy"
    },
    {
      "cell_type": "code",
      "source": [],
      "metadata": {
        "id": "XYSG5kJwEjys"
      },
      "id": "XYSG5kJwEjys",
      "execution_count": null,
      "outputs": []
    },
    {
      "cell_type": "markdown",
      "source": [
        "# Problem 2 (35 points) Cluster images\n",
        "\n",
        "You will cluster the images of an Instagram user."
      ],
      "metadata": {
        "id": "b52UJKGtvahH"
      },
      "id": "b52UJKGtvahH"
    },
    {
      "cell_type": "markdown",
      "source": [
        "## Problem 2.1 (3 points) Image paths\n",
        "\n",
        "The images are in the folder `\"data/officialcaptainamerica\"`.  Put the image paths in this folder (this is the path from the root of your notebook to the image file) in a dataframe `df` with column name `image_path`. Then `display` the length of `df`."
      ],
      "metadata": {
        "id": "Mx3zerbRwuVW"
      },
      "id": "Mx3zerbRwuVW"
    },
    {
      "cell_type": "code",
      "source": [],
      "metadata": {
        "id": "H8rv6OYkxCJ6"
      },
      "id": "H8rv6OYkxCJ6",
      "execution_count": null,
      "outputs": []
    },
    {
      "cell_type": "markdown",
      "source": [
        "## Problem 2.2 (5 points) ResNet embedding\n",
        "\n",
        "Use ResNet50 to embed the images in `df`.  Save this as an array `embedding_images`.  `display` the length of `embedding_images`.  To make your code not print out a line for each image, set `verbose=0` in the `model.predict` function that computes the image embedding."
      ],
      "metadata": {
        "id": "dV5oL03iwcPj"
      },
      "id": "dV5oL03iwcPj"
    },
    {
      "cell_type": "code",
      "source": [],
      "metadata": {
        "id": "TNi_qZnWyQND"
      },
      "id": "TNi_qZnWyQND",
      "execution_count": null,
      "outputs": []
    },
    {
      "cell_type": "markdown",
      "source": [
        "## Problem 2.3 (5 points) PCA embedding\n",
        "\n",
        "Compute the two-dimensional PCA embedding of the image embeddings `embedding_images` and add them as columns to a dataframe as `pca_x` and `pca_y`."
      ],
      "metadata": {
        "id": "YJe-60lkxqe8"
      },
      "id": "YJe-60lkxqe8"
    },
    {
      "cell_type": "code",
      "source": [],
      "metadata": {
        "id": "7ZP6vmokysbe"
      },
      "id": "7ZP6vmokysbe",
      "execution_count": null,
      "outputs": []
    },
    {
      "cell_type": "markdown",
      "source": [
        "## Problem 2.4 (10 points) Optimal number of K-Means clusters\n",
        "\n",
        "\n",
        "Use K-Means clustering to cluster the tweets based on `pca_x` and `pca_y`.  Try 2, 3, 4, and 5 clusters.  Compute the silhouette score for each clustering.  Plot the silhouette score versus the number of clusters."
      ],
      "metadata": {
        "id": "72Ilb_dOyixo"
      },
      "id": "72Ilb_dOyixo"
    },
    {
      "cell_type": "code",
      "source": [],
      "metadata": {
        "id": "sQ-gkDcSyr4t"
      },
      "id": "sQ-gkDcSyr4t",
      "execution_count": null,
      "outputs": []
    },
    {
      "cell_type": "markdown",
      "source": [
        "## Problem 2.5 (5 points) K-means clusters\n",
        "\n",
        "You probably saw that three clusters is a good number to use.  Now apply K-Means clustering to cluster the tweets based on `pca_x` and `pca_y` into three clusters.  Add this as a column `\"cluster\"` in dataframe `df`."
      ],
      "metadata": {
        "id": "vfIt6DT2y0Nh"
      },
      "id": "vfIt6DT2y0Nh"
    },
    {
      "cell_type": "code",
      "source": [],
      "metadata": {
        "id": "TCUupvlK23vq"
      },
      "id": "TCUupvlK23vq",
      "execution_count": null,
      "outputs": []
    },
    {
      "cell_type": "markdown",
      "source": [
        "## Problem 2.6 (5 points) Cluster description\n",
        "\n",
        "Use the AI to provide a description of each of the three K-Means clusters using a sample of 10 pictures from each cluster.  Provide `instructions` telling the AI what to do.  Use the `generate_image_description` function.  Put all three cluster descriptions together in a string `cluster_descriptions` and make sure there is some formatting to separate the descriptions.  `display` the `cluster_descriptions`."
      ],
      "metadata": {
        "id": "k8u98f6b3Q3c"
      },
      "id": "k8u98f6b3Q3c"
    },
    {
      "cell_type": "code",
      "source": [],
      "metadata": {
        "id": "ptDTTBNH27F8"
      },
      "id": "ptDTTBNH27F8",
      "execution_count": null,
      "outputs": []
    },
    {
      "cell_type": "markdown",
      "source": [
        "## Problem 2.7 (2 points) HTML cluster description\n",
        "\n",
        "Use the AI to convert `cluster_descriptions` string into a pretty HTML table with dark mode and easy to read.  Call this `html_cluster_descriptions` and display it with the `HTML` function."
      ],
      "metadata": {
        "id": "FufSgt644JJr"
      },
      "id": "FufSgt644JJr"
    },
    {
      "cell_type": "code",
      "source": [],
      "metadata": {
        "id": "AtfsPXYA27Uy"
      },
      "id": "AtfsPXYA27Uy",
      "execution_count": null,
      "outputs": []
    },
    {
      "cell_type": "markdown",
      "source": [
        "# Problem 3 (20 points) You're Hired\n",
        "\n",
        "We will use tweets to see which candidate for the position of Chief AI Officer to President Donald Trump is the best fit."
      ],
      "metadata": {
        "id": "G0ztLMKp6ep5"
      },
      "id": "G0ztLMKp6ep5"
    },
    {
      "cell_type": "markdown",
      "source": [
        "## Problem 3.1 (5 points)  Clustering fucntion\n",
        "\n",
        "Write a function `cluster_tweets` that takes as input the dataframe `df` that has your tweets in the `\"text\"` column and then gives these as a nicely formatted `prompt` to the AI with the `generate_text` function, along with `instructions` that tell the AI to cluster the tweets, and return the clusters as a nicely formatted dark mode HTML table with columns title, description, and example tweets for each cluster.  Have the function return this HTML string.  Also provide a doc string for the function."
      ],
      "metadata": {
        "id": "F8fs-KAd_OAP"
      },
      "id": "F8fs-KAd_OAP"
    },
    {
      "cell_type": "code",
      "source": [],
      "metadata": {
        "id": "_rveFbFd_444"
      },
      "id": "_rveFbFd_444",
      "execution_count": null,
      "outputs": []
    },
    {
      "cell_type": "markdown",
      "source": [
        "## Problem 3.2 (5 points) Load Trump's tweets\n",
        "\n",
        "Load the tweets in the file `\"data/realDonaldTrump_in_office.csv\"` into a dataframe `df_trump`.  You will need to use the argument `on_bad_lines='skip'` when using `pd.read_csv` because of formatting issues with the file.  Rename the column `\" Tweet Text\"` to `\"text\"` (there is a leading space in `\" Tweet Text\"`).  \n",
        "Then make `df_trump` be the 1000 last rows so we can feed it to the AI. Then print out the length of `df_trump` so we know it is only 1000 tweets and `display` the head of `df_trump`.\n",
        "\n"
      ],
      "metadata": {
        "id": "7lB1xivD64tu"
      },
      "id": "7lB1xivD64tu"
    },
    {
      "cell_type": "code",
      "source": [],
      "metadata": {
        "id": "y2M1Lh4B9Tip"
      },
      "id": "y2M1Lh4B9Tip",
      "execution_count": null,
      "outputs": []
    },
    {
      "cell_type": "markdown",
      "source": [
        "## Problem 3.3 (2 points) Cluster Trump's tweets\n",
        "\n",
        "Cluster Donald Trump's tweet using `cluster_tweets` and save the HTML table to a string `html_trump` and display it with the `HTML` function."
      ],
      "metadata": {
        "id": "J4XPiy708jpp"
      },
      "id": "J4XPiy708jpp"
    },
    {
      "cell_type": "code",
      "source": [],
      "metadata": {
        "id": "8nHdWTvv8sBd"
      },
      "id": "8nHdWTvv8sBd",
      "execution_count": null,
      "outputs": []
    },
    {
      "cell_type": "markdown",
      "source": [
        "## Problem 3.4 (4 points) Cluster job candidates' tweets\n",
        "\n",
        "The two job candidates are Elon Musk and Sam Altman, two leaders in the AI space.  Their tweets are in the files\n",
        "\n",
        "1. Elon Musk: `\"data/TwExportly/TwExportly_elonmusk_tweets_2025_01_23.csv\"`\n",
        "\n",
        "2. Sam Altman: `\"data/TwExportly/TwExportly_sama_tweets_2025_02_01.csv\"`\n",
        "\n",
        "Cluster their tweets using `cluster_tweets` and save the HTML table to two strings `html_musk` and `html_altman` and display them both with the `HTML` function."
      ],
      "metadata": {
        "id": "mekTpJal-lj3"
      },
      "id": "mekTpJal-lj3"
    },
    {
      "cell_type": "code",
      "source": [],
      "metadata": {
        "id": "CQc_XbXe-4KZ"
      },
      "id": "CQc_XbXe-4KZ",
      "execution_count": null,
      "outputs": []
    },
    {
      "cell_type": "markdown",
      "source": [
        "## Problem 3.5 (4 points) Find the best match\n",
        "\n",
        "Using the cluster summaries you have calculated, ask the AI to score the quality of each candidate (from 0 to 10) for the position of Chief AI Advisor for President Donald Trump based on AI expertise and personality match, as this position serves at the pleasure of the president. Include `html_trump` and a single candiate's name in the `instructions` and make the `prompt` the tweet cluster summary for that candidate.  The `instructions` should produce the candidate's name, quality score, and an explanation for the score as a nice HTML.  Display the score and explanation for each candidate using the `HTML` function.  I wonder who the AI will hire...\n",
        "\n"
      ],
      "metadata": {
        "id": "QbB-fm10Amlb"
      },
      "id": "QbB-fm10Amlb"
    },
    {
      "cell_type": "code",
      "source": [],
      "metadata": {
        "id": "-kuMk5AVBrlH"
      },
      "id": "-kuMk5AVBrlH",
      "execution_count": null,
      "outputs": []
    }
  ],
  "metadata": {
    "colab": {
      "provenance": [],
      "toc_visible": true
    },
    "kernelspec": {
      "display_name": "Python 3 (ipykernel)",
      "language": "python",
      "name": "python3"
    },
    "language_info": {
      "codemirror_mode": {
        "name": "ipython",
        "version": 3
      },
      "file_extension": ".py",
      "mimetype": "text/x-python",
      "name": "python",
      "nbconvert_exporter": "python",
      "pygments_lexer": "ipython3",
      "version": "3.9.13"
    }
  },
  "nbformat": 4,
  "nbformat_minor": 5
}