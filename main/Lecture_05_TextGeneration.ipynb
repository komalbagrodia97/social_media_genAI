{
  "cells": [
    {
      "cell_type": "markdown",
      "metadata": {
        "id": "vUOKSuOWzt3u"
      },
      "source": [
        "# Lecture 5 Text Generation\n",
        "\n",
        "This notebook will show you how to generate text content with OpenAI's API for ChatGPT.\n",
        "\n",
        "Below is the overview of this notebook.\n",
        "\n",
        "<ol type = 1>\n",
        "  <li> Generate Text with ChatGPT</li>\n",
        "  <li> Create Tweets with Topic and Sentiment\n",
        "  <li> Few-Shot Learning of Tweet Style</li>\n",
        "  <li> Customer Service Twitter Bot </li>\n",
        "</ol>\n",
        "\n",
        "Before starting, select \"Runtime->Factory reset runtime\" to start with your directories and environment in the base state.\n",
        "\n",
        "If you want to save changes to the notebook, select \"File->Save a copy in Drive\" from the top menu in Colab.  This will save the notebook in your Google Drive.\n"
      ]
    },
    {
      "cell_type": "markdown",
      "metadata": {
        "id": "tZ2fpQvAzt30"
      },
      "source": [
        "# Clones, Installs, and Imports\n"
      ]
    },
    {
      "cell_type": "markdown",
      "source": [
        "## Clone GitHub Repository"
      ],
      "metadata": {
        "id": "_ZXw9HBFkxRi"
      }
    },
    {
      "cell_type": "code",
      "execution_count": 1,
      "metadata": {
        "colab": {
          "base_uri": "https://localhost:8080/"
        },
        "id": "2736cUrVzt30",
        "outputId": "bb8f3cbe-99d3-4e82-ecdd-56f2cd929337"
      },
      "outputs": [
        {
          "output_type": "stream",
          "name": "stdout",
          "text": [
            "Cloning into 'social_media_genAI'...\n",
            "remote: Enumerating objects: 1815, done.\u001b[K\n",
            "remote: Counting objects: 100% (160/160), done.\u001b[K\n",
            "remote: Compressing objects: 100% (113/113), done.\u001b[K\n",
            "remote: Total 1815 (delta 65), reused 140 (delta 47), pack-reused 1655 (from 2)\u001b[K\n",
            "Receiving objects: 100% (1815/1815), 177.06 MiB | 22.51 MiB/s, done.\n",
            "Resolving deltas: 100% (136/136), done.\n"
          ]
        }
      ],
      "source": [
        "!git clone https://github.com/zlisto/social_media_genAI\n",
        "\n",
        "import os\n",
        "os.chdir(\"social_media_genAI/main\")"
      ]
    },
    {
      "cell_type": "markdown",
      "source": [
        "## Install Packages"
      ],
      "metadata": {
        "id": "hEjedrlqk0XL"
      }
    },
    {
      "cell_type": "code",
      "execution_count": 2,
      "metadata": {
        "colab": {
          "base_uri": "https://localhost:8080/"
        },
        "id": "y7ZFC5LyebQO",
        "outputId": "cbd6320f-9b0b-42a9-ad1d-11ce950f81d5"
      },
      "outputs": [
        {
          "output_type": "stream",
          "name": "stdout",
          "text": [
            "  Preparing metadata (setup.py) ... \u001b[?25l\u001b[?25hdone\n",
            "\u001b[2K   \u001b[90m━━━━━━━━━━━━━━━━━━━━━━━━━━━━━━━━━━━━━━━━\u001b[0m \u001b[32m2.0/2.0 MB\u001b[0m \u001b[31m22.1 MB/s\u001b[0m eta \u001b[36m0:00:00\u001b[0m\n",
            "\u001b[2K   \u001b[90m━━━━━━━━━━━━━━━━━━━━━━━━━━━━━━━━━━━━━━━━\u001b[0m \u001b[32m548.3/548.3 kB\u001b[0m \u001b[31m24.5 MB/s\u001b[0m eta \u001b[36m0:00:00\u001b[0m\n",
            "\u001b[2K   \u001b[90m━━━━━━━━━━━━━━━━━━━━━━━━━━━━━━━━━━━━━━━━\u001b[0m \u001b[32m1.4/1.4 MB\u001b[0m \u001b[31m40.6 MB/s\u001b[0m eta \u001b[36m0:00:00\u001b[0m\n",
            "\u001b[2K   \u001b[90m━━━━━━━━━━━━━━━━━━━━━━━━━━━━━━━━━━━━━━━━\u001b[0m \u001b[32m85.0/85.0 kB\u001b[0m \u001b[31m4.2 MB/s\u001b[0m eta \u001b[36m0:00:00\u001b[0m\n",
            "\u001b[2K   \u001b[90m━━━━━━━━━━━━━━━━━━━━━━━━━━━━━━━━━━━━━━━━\u001b[0m \u001b[32m232.6/232.6 kB\u001b[0m \u001b[31m2.8 MB/s\u001b[0m eta \u001b[36m0:00:00\u001b[0m\n",
            "\u001b[2K   \u001b[90m━━━━━━━━━━━━━━━━━━━━━━━━━━━━━━━━━━━━━━━━\u001b[0m \u001b[32m244.3/244.3 kB\u001b[0m \u001b[31m13.5 MB/s\u001b[0m eta \u001b[36m0:00:00\u001b[0m\n",
            "\u001b[2K   \u001b[90m━━━━━━━━━━━━━━━━━━━━━━━━━━━━━━━━━━━━━━━━\u001b[0m \u001b[32m236.2/236.2 kB\u001b[0m \u001b[31m15.0 MB/s\u001b[0m eta \u001b[36m0:00:00\u001b[0m\n",
            "\u001b[2K   \u001b[90m━━━━━━━━━━━━━━━━━━━━━━━━━━━━━━━━━━━━━━━━\u001b[0m \u001b[32m313.6/313.6 kB\u001b[0m \u001b[31m17.4 MB/s\u001b[0m eta \u001b[36m0:00:00\u001b[0m\n",
            "\u001b[?25h  Building wheel for fpdf (setup.py) ... \u001b[?25l\u001b[?25hdone\n",
            "\u001b[31mERROR: pip's dependency resolver does not currently take into account all the packages that are installed. This behaviour is the source of the following dependency conflicts.\n",
            "torch 2.5.1+cu124 requires nvidia-cublas-cu12==12.4.5.8; platform_system == \"Linux\" and platform_machine == \"x86_64\", but you have nvidia-cublas-cu12 12.5.3.2 which is incompatible.\n",
            "torch 2.5.1+cu124 requires nvidia-cuda-cupti-cu12==12.4.127; platform_system == \"Linux\" and platform_machine == \"x86_64\", but you have nvidia-cuda-cupti-cu12 12.5.82 which is incompatible.\n",
            "torch 2.5.1+cu124 requires nvidia-cuda-nvrtc-cu12==12.4.127; platform_system == \"Linux\" and platform_machine == \"x86_64\", but you have nvidia-cuda-nvrtc-cu12 12.5.82 which is incompatible.\n",
            "torch 2.5.1+cu124 requires nvidia-cuda-runtime-cu12==12.4.127; platform_system == \"Linux\" and platform_machine == \"x86_64\", but you have nvidia-cuda-runtime-cu12 12.5.82 which is incompatible.\n",
            "torch 2.5.1+cu124 requires nvidia-cudnn-cu12==9.1.0.70; platform_system == \"Linux\" and platform_machine == \"x86_64\", but you have nvidia-cudnn-cu12 9.3.0.75 which is incompatible.\n",
            "torch 2.5.1+cu124 requires nvidia-cufft-cu12==11.2.1.3; platform_system == \"Linux\" and platform_machine == \"x86_64\", but you have nvidia-cufft-cu12 11.2.3.61 which is incompatible.\n",
            "torch 2.5.1+cu124 requires nvidia-curand-cu12==10.3.5.147; platform_system == \"Linux\" and platform_machine == \"x86_64\", but you have nvidia-curand-cu12 10.3.6.82 which is incompatible.\n",
            "torch 2.5.1+cu124 requires nvidia-cusolver-cu12==11.6.1.9; platform_system == \"Linux\" and platform_machine == \"x86_64\", but you have nvidia-cusolver-cu12 11.6.3.83 which is incompatible.\n",
            "torch 2.5.1+cu124 requires nvidia-cusparse-cu12==12.3.1.170; platform_system == \"Linux\" and platform_machine == \"x86_64\", but you have nvidia-cusparse-cu12 12.5.1.3 which is incompatible.\n",
            "torch 2.5.1+cu124 requires nvidia-nvjitlink-cu12==12.4.127; platform_system == \"Linux\" and platform_machine == \"x86_64\", but you have nvidia-nvjitlink-cu12 12.5.82 which is incompatible.\n",
            "nx-cugraph-cu12 24.12.0 requires networkx>=3.2, but you have networkx 3.0 which is incompatible.\u001b[0m\u001b[31m\n",
            "\u001b[0m"
          ]
        }
      ],
      "source": [
        "pip install -q -r requirements.txt\n"
      ]
    },
    {
      "cell_type": "code",
      "execution_count": 3,
      "metadata": {
        "id": "vmcLMKtKzt32"
      },
      "outputs": [],
      "source": [
        "import pandas as pd\n",
        "import matplotlib.pyplot as plt\n",
        "import seaborn as sns\n",
        "import numpy as np\n",
        "import codecs  #this let's us display tweets properly (emojis, etc.)\n",
        "import textwrap as tr\n",
        "from tqdm import tqdm  #progress bar for for loops\n",
        "from IPython.display import HTML\n",
        "import json\n",
        "import textwrap\n",
        "import plotly.express as px\n",
        "from sklearn.decomposition import PCA\n",
        "import openai\n",
        "\n",
        "from scripts.genai import GenAI\n",
        "\n",
        "#this option makes it so tweets display nicely in a dataframe\n",
        "pd.set_option(\"display.max_colwidth\", None)\n",
        "\n",
        "#this code sets the font sizes for plots\n",
        "plt.rcParams.update({'axes.labelsize': 18,\n",
        "                     'xtick.labelsize': 14,\n",
        "                     'ytick.labelsize': 14,\n",
        "                     'figure.figsize':(8,6),\n",
        "                     'axes.grid':True})\n",
        "\n"
      ]
    },
    {
      "cell_type": "markdown",
      "metadata": {
        "id": "Yw1SxSQU35lH"
      },
      "source": [
        "## OpenAI API Key\n",
        "\n",
        "You will need to input your OpenAI API key.  \n",
        "\n",
        "1.  First you need to create an account with OpenAI here: https://auth0.openai.com/u/signup?state=hKFo2SBWS3JUVEdmQmdzZXo5ckhpY3R5NEFlc2NPWWc3WHhvRqFur3VuaXZlcnNhbC1sb2dpbqN0aWTZIG9kTDB4LV83aEdnN3pRU3VUYnVZemlnZkFURFo2RDhno2NpZNkgRFJpdnNubTJNdTQyVDNLT3BxZHR3QjNOWXZpSFl6d0Q\n",
        "\n",
        "2. Once you have an account, copy your API key from here: https://beta.openai.com/account/api-keys\n",
        "\n",
        "3. Finally, paste your key below:  `OPENAI_API_KEY = \"your OpenAI API key\"`"
      ]
    },
    {
      "cell_type": "code",
      "execution_count": 4,
      "metadata": {
        "id": "sISbECK0efR_"
      },
      "outputs": [],
      "source": [
        "OPENAI_API_KEY = \"\"\n"
      ]
    },
    {
      "cell_type": "code",
      "source": [
        "# Initialize GenAI\n",
        "jarvis = GenAI(OPENAI_API_KEY)\n",
        "\n",
        "text = \"Who are you?\"\n",
        "instructions = \"You are a helpful assistant.\"\n",
        "response = jarvis.generate_text(text, instructions)\n",
        "print(f\"Human:{text}\\nAI:{response}\")"
      ],
      "metadata": {
        "colab": {
          "base_uri": "https://localhost:8080/"
        },
        "id": "srKV0zlgTBYV",
        "outputId": "b6f91746-ceb3-4540-dd47-9a83d3682133"
      },
      "execution_count": 5,
      "outputs": [
        {
          "output_type": "stream",
          "name": "stdout",
          "text": [
            "Human:Who are you?\n",
            "AI:I am an AI language model designed to assist with a variety of tasks, such as answering questions, providing information, and helping with problem-solving. How can I assist you today?\n"
          ]
        }
      ]
    },
    {
      "cell_type": "markdown",
      "metadata": {
        "id": "rHBFAlG3zt33"
      },
      "source": [
        "# Generate Tweets with ChatGPT\n",
        "\n",
        "\n",
        "\n"
      ]
    },
    {
      "cell_type": "markdown",
      "metadata": {
        "id": "uxOVGVfA7WBU"
      },
      "source": [
        "## Instructions and Prompt\n",
        "\n",
        "We will provide `instructions` to the AI telling it its general function.  We then provide a `prompt` with the specific task we want it to to.  \n"
      ]
    },
    {
      "cell_type": "code",
      "execution_count": 6,
      "metadata": {
        "id": "KveyUj4kufFL"
      },
      "outputs": [],
      "source": [
        "instructions = '''You are going to help create content for a social\n",
        "media account.  You will be asked to write clever tweets that will get\n",
        "engagement.  Return only the text of the tweet.'''\n",
        "\n",
        "prompt = '''Write a tweet.'''\n",
        "\n"
      ]
    },
    {
      "cell_type": "markdown",
      "source": [
        "## Display tweet\n",
        "\n",
        "We give the `prompt` and `instructions` to `generate_text` to get the output, which in this case is a tweet.  \n",
        "\n",
        "\n",
        "To display the tweet, use the `display_tweet` function which makes it look like a tweet.  This function was written by ChatGPT after looking at a screenshot of a tweet."
      ],
      "metadata": {
        "id": "QUV1maFftz6O"
      }
    },
    {
      "cell_type": "code",
      "execution_count": 7,
      "metadata": {
        "colab": {
          "base_uri": "https://localhost:8080/",
          "height": 179
        },
        "id": "qDoKBX9P9GpQ",
        "outputId": "3ac0ad15-51a3-4bc4-9bc7-e082aa9d688e"
      },
      "outputs": [
        {
          "output_type": "display_data",
          "data": {
            "text/plain": [
              "<IPython.core.display.HTML object>"
            ],
            "text/html": [
              "\n",
              "        <!DOCTYPE html>\n",
              "        <html>\n",
              "        <head>\n",
              "            <style>\n",
              "                .tweet {\n",
              "                    background-color: white;\n",
              "                    color: black;\n",
              "                    border: 1px solid #e1e8ed;\n",
              "                    border-radius: 10px;\n",
              "                    padding: 20px;\n",
              "                    max-width: 500px;\n",
              "                    margin: 20px auto;\n",
              "                    font-family: 'Helvetica Neue', Helvetica, Arial, sans-serif;\n",
              "                    box-shadow: 0px 0px 10px rgba(0,0,0,0.1);\n",
              "                }\n",
              "                .user strong {\n",
              "                    color: #1da1f2;\n",
              "                }\n",
              "                .tweet-text p {\n",
              "                    margin: 0;\n",
              "                    line-height: 1.5;\n",
              "                }\n",
              "            </style>\n",
              "        </head>\n",
              "        <body>\n",
              "            <div class=\"tweet\">\n",
              "                <div class=\"user\">\n",
              "                    <strong>@AI_zlisto</strong>\n",
              "                </div>\n",
              "                <div class=\"tweet-text\">\n",
              "                    <p>Just finished a book that was so good, I’m convinced the author knows me personally. Plot twist: I might be the villain in my own story. 📚🤔 #PlotTwist #BookLife</p>\n",
              "                </div>\n",
              "            </div>\n",
              "        </body>\n",
              "        </html>\n",
              "        "
            ]
          },
          "metadata": {}
        }
      ],
      "source": [
        "tweet = jarvis.generate_text(prompt, instructions)\n",
        "screen_name = 'AI_zlisto'\n",
        "jarvis.display_tweet(tweet, screen_name);"
      ]
    },
    {
      "cell_type": "markdown",
      "source": [
        "## Getting help\n",
        "\n",
        "Each function in the GenAI class has some help text, which you can access by typing `help(GenAI.function_name)`.  You can also get the information about the whole `GenAI` class by typing `help(GenAI)`.  Try it below.  The things `help` prints are called doc strings and the AI does a nice job of writing them for you."
      ],
      "metadata": {
        "id": "ivQ3z6o5vWIS"
      }
    },
    {
      "cell_type": "code",
      "source": [
        "help(GenAI.generate_text)"
      ],
      "metadata": {
        "colab": {
          "base_uri": "https://localhost:8080/"
        },
        "id": "17dJqCLWvjdG",
        "outputId": "80326138-01fd-4d47-d2ff-2a634e6e40a3"
      },
      "execution_count": 9,
      "outputs": [
        {
          "output_type": "stream",
          "name": "stdout",
          "text": [
            "Help on function generate_text in module scripts.genai:\n",
            "\n",
            "generate_text(self, prompt, instructions='You are a helpful AI named Jarvis', model='gpt-4o-mini', output_type='text')\n",
            "    Generates a text completion using the OpenAI API.\n",
            "    \n",
            "    This function sends a prompt to the OpenAI API with optional instructions to guide the AI's behavior. \n",
            "    It supports specifying the model and output format, and returns the generated text response.\n",
            "    \n",
            "    Parameters:\n",
            "    ----------\n",
            "    prompt : str\n",
            "        The user input or query that you want the AI to respond to.\n",
            "    \n",
            "    instructions : str, optional (default='You are a helpful AI named Jarvis')\n",
            "        System-level instructions to define the AI's behavior, tone, or style in the response.\n",
            "    \n",
            "    model : str, optional (default='gpt-4o-mini')\n",
            "        The OpenAI model to use for generating the response. You can specify different models like 'gpt-4', 'gpt-3.5-turbo', etc.\n",
            "    \n",
            "    output_type : str, optional (default='text')\n",
            "        The format of the output. Typically 'text', but can be customized for models that support different response formats.\n",
            "    \n",
            "    Returns:\n",
            "    -------\n",
            "    str\n",
            "        The AI-generated response as a string based on the provided prompt and instructions.\n",
            "    \n",
            "    Example:\n",
            "    -------\n",
            "    >>> response = generate_text(\"What's the weather like today?\")\n",
            "    >>> print(response)\n",
            "    \"The weather today is sunny with a high of 75°F.\"\n",
            "\n"
          ]
        }
      ]
    },
    {
      "cell_type": "markdown",
      "metadata": {
        "id": "RXK8BDZhuffK"
      },
      "source": [
        "# Controlling Tweet Content, Sentiment, and Style"
      ]
    },
    {
      "cell_type": "markdown",
      "metadata": {
        "id": "aa9ELjz_9UYt"
      },
      "source": [
        "## Tweet Topic\n",
        "\n",
        "We can make a tweet about a topic my modifying the `prompt`."
      ]
    },
    {
      "cell_type": "code",
      "execution_count": 12,
      "metadata": {
        "colab": {
          "base_uri": "https://localhost:8080/",
          "height": 179
        },
        "id": "rNSHxVp7upDz",
        "outputId": "e034182f-b584-4d0d-deb2-d40c52eb0b96"
      },
      "outputs": [
        {
          "output_type": "display_data",
          "data": {
            "text/plain": [
              "<IPython.core.display.HTML object>"
            ],
            "text/html": [
              "\n",
              "        <!DOCTYPE html>\n",
              "        <html>\n",
              "        <head>\n",
              "            <style>\n",
              "                .tweet {\n",
              "                    background-color: white;\n",
              "                    color: black;\n",
              "                    border: 1px solid #e1e8ed;\n",
              "                    border-radius: 10px;\n",
              "                    padding: 20px;\n",
              "                    max-width: 500px;\n",
              "                    margin: 20px auto;\n",
              "                    font-family: 'Helvetica Neue', Helvetica, Arial, sans-serif;\n",
              "                    box-shadow: 0px 0px 10px rgba(0,0,0,0.1);\n",
              "                }\n",
              "                .user strong {\n",
              "                    color: #1da1f2;\n",
              "                }\n",
              "                .tweet-text p {\n",
              "                    margin: 0;\n",
              "                    line-height: 1.5;\n",
              "                }\n",
              "            </style>\n",
              "        </head>\n",
              "        <body>\n",
              "            <div class=\"tweet\">\n",
              "                <div class=\"user\">\n",
              "                    <strong>@RFKJr_Official</strong>\n",
              "                </div>\n",
              "                <div class=\"tweet-text\">\n",
              "                    <p>🌱 Why rely on big pharma when nature has the best prescription? Eating whole, nourishing foods can heal your body and boost your mood! 🥗✨ Let’s start a food revolution—who's in? #HealthyEating #NaturalHealing</p>\n",
              "                </div>\n",
              "            </div>\n",
              "        </body>\n",
              "        </html>\n",
              "        "
            ]
          },
          "metadata": {}
        }
      ],
      "source": [
        "instructions = '''You are going to help create content for a social\n",
        "media account.  You will be asked to write clever tweets that will get\n",
        "engagement.  Return only the text of the tweet.'''\n",
        "\n",
        "topic = 'healthy eating can cure better than big pharma drugs.'\n",
        "prompt = f'''Write a tweet about {topic}.'''\n",
        "screen_name = 'RFKJr_Official'\n",
        "tweet = jarvis.generate_text(prompt, instructions)\n",
        "jarvis.display_tweet(tweet, screen_name);"
      ]
    },
    {
      "cell_type": "markdown",
      "metadata": {
        "id": "5Z9ZjOY4upMl"
      },
      "source": [
        "## Tweet Sentiment\n",
        "\n",
        "We can control the sentiment of the tweet by choosing a value for `sentiment` and modifying the prompt to include the desired sentiment along with the range of the sentiment and what the extreme values mean.  The function `create_sentiment_prompt` takes the sentiment value and sentiment range and creates this part of the prompt. We can then add this to the end of our basic prompt."
      ]
    },
    {
      "cell_type": "code",
      "execution_count": 21,
      "metadata": {
        "id": "JgFiECvZ-gqG"
      },
      "outputs": [],
      "source": [
        "def create_sentiment_prompt(sentiment, sentiment_min, sentiment_max):\n",
        "  prompt = f'''Give the tweet a sentiment of {sentiment}\n",
        "  where sentiment ={sentiment_min} means very negative and\n",
        "  sentiment = {sentiment_max} means very postive.'''\n",
        "  return prompt"
      ]
    },
    {
      "cell_type": "code",
      "execution_count": 22,
      "metadata": {
        "colab": {
          "base_uri": "https://localhost:8080/",
          "height": 214
        },
        "id": "s3CkzLRT96MY",
        "outputId": "05e96ad1-fd2b-44e5-d9b8-0cf91d959334"
      },
      "outputs": [
        {
          "output_type": "stream",
          "name": "stdout",
          "text": [
            "Sentiment:8\n",
            "\n"
          ]
        },
        {
          "output_type": "display_data",
          "data": {
            "text/plain": [
              "<IPython.core.display.HTML object>"
            ],
            "text/html": [
              "\n",
              "        <!DOCTYPE html>\n",
              "        <html>\n",
              "        <head>\n",
              "            <style>\n",
              "                .tweet {\n",
              "                    background-color: white;\n",
              "                    color: black;\n",
              "                    border: 1px solid #e1e8ed;\n",
              "                    border-radius: 10px;\n",
              "                    padding: 20px;\n",
              "                    max-width: 500px;\n",
              "                    margin: 20px auto;\n",
              "                    font-family: 'Helvetica Neue', Helvetica, Arial, sans-serif;\n",
              "                    box-shadow: 0px 0px 10px rgba(0,0,0,0.1);\n",
              "                }\n",
              "                .user strong {\n",
              "                    color: #1da1f2;\n",
              "                }\n",
              "                .tweet-text p {\n",
              "                    margin: 0;\n",
              "                    line-height: 1.5;\n",
              "                }\n",
              "            </style>\n",
              "        </head>\n",
              "        <body>\n",
              "            <div class=\"tweet\">\n",
              "                <div class=\"user\">\n",
              "                    <strong>@RFKJr_Official</strong>\n",
              "                </div>\n",
              "                <div class=\"tweet-text\">\n",
              "                    <p>Eating healthy doesn’t have to be boring! 🥗✨ Discover the joy of vibrant veggies and flavorful fruits – your taste buds will thank you! #HealthyEating #FoodieFun 🌈❤️</p>\n",
              "                </div>\n",
              "            </div>\n",
              "        </body>\n",
              "        </html>\n",
              "        "
            ]
          },
          "metadata": {}
        }
      ],
      "source": [
        "instructions = '''You are going to help create content for a social\n",
        "media account.  You will be asked to write clever tweets that will get\n",
        "engagement. Return only the text of the tweet.'''\n",
        "\n",
        "topic = 'healthy eating'\n",
        "screen_name = 'RFKJr_Official'\n",
        "sentiment_min = -10\n",
        "sentiment_max =  10\n",
        "sentiment = 8\n",
        "\n",
        "prompt = f'''Write a tweet about {topic}.'''\n",
        "prompt+= create_sentiment_prompt(sentiment,\n",
        "                                  sentiment_min,\n",
        "                                  sentiment_max)\n",
        "tweet = jarvis.generate_text(prompt, instructions)\n",
        "print(f\"Sentiment:{sentiment}\\n\")\n",
        "jarvis.display_tweet(tweet, screen_name);\n"
      ]
    },
    {
      "cell_type": "markdown",
      "metadata": {
        "id": "6JXWlqxE-z2h"
      },
      "source": [
        "## Tweet Style\n",
        "\n",
        "We can add a description of the style of the tweet in the `instructions`. To do this, create a string `instructions_style` that tells the AI the style of the content creator, then add this to the base `instructions`."
      ]
    },
    {
      "cell_type": "code",
      "execution_count": 23,
      "metadata": {
        "colab": {
          "base_uri": "https://localhost:8080/",
          "height": 256
        },
        "id": "3TB8MARYupUD",
        "outputId": "367483f1-3b1e-4406-c6a1-d3eb5592022b"
      },
      "outputs": [
        {
          "output_type": "stream",
          "name": "stdout",
          "text": [
            "Sentiment:8\n",
            "\n"
          ]
        },
        {
          "output_type": "display_data",
          "data": {
            "text/plain": [
              "<IPython.core.display.HTML object>"
            ],
            "text/html": [
              "\n",
              "        <!DOCTYPE html>\n",
              "        <html>\n",
              "        <head>\n",
              "            <style>\n",
              "                .tweet {\n",
              "                    background-color: white;\n",
              "                    color: black;\n",
              "                    border: 1px solid #e1e8ed;\n",
              "                    border-radius: 10px;\n",
              "                    padding: 20px;\n",
              "                    max-width: 500px;\n",
              "                    margin: 20px auto;\n",
              "                    font-family: 'Helvetica Neue', Helvetica, Arial, sans-serif;\n",
              "                    box-shadow: 0px 0px 10px rgba(0,0,0,0.1);\n",
              "                }\n",
              "                .user strong {\n",
              "                    color: #1da1f2;\n",
              "                }\n",
              "                .tweet-text p {\n",
              "                    margin: 0;\n",
              "                    line-height: 1.5;\n",
              "                }\n",
              "            </style>\n",
              "        </head>\n",
              "        <body>\n",
              "            <div class=\"tweet\">\n",
              "                <div class=\"user\">\n",
              "                    <strong>@RFKJr_Official</strong>\n",
              "                </div>\n",
              "                <div class=\"tweet-text\">\n",
              "                    <p>Healthy eating isn't just a trend—it's a revolutionary act for personal freedom and community health! Let’s choose whole foods over processed alternatives, protect our bodies from corporate agendas, and cultivate a society that prioritizes well-being. Together, we can make America healthy again! 🌱💪 #HealthOverHarm #FoodRevolution</p>\n",
              "                </div>\n",
              "            </div>\n",
              "        </body>\n",
              "        </html>\n",
              "        "
            ]
          },
          "metadata": {}
        }
      ],
      "source": [
        "instructions = '''You are going to help create content for a social\n",
        "media account.  You will be asked to write clever tweets that will get\n",
        "engagement. Return only the text of the tweet.'''\n",
        "\n",
        "instructions_style = '''\n",
        "Use a serious, persuasive tone with a focus on public health and personal freedom.\n",
        "Speak with conviction, emphasizing the importance of making America healthy again.\n",
        "Incorporate strong, evidence-based arguments, and be critical of corporate influence, especially from big pharma.\n",
        "Use thoughtful, clear language that appeals to both logic and moral responsibility, inspiring trust and a call to action for health and environmental justice.\n",
        "'''\n",
        "\n",
        "instructions += instructions_style\n",
        "\n",
        "topic = 'healthy eating'\n",
        "screen_name = 'RFKJr_Official'\n",
        "\n",
        "sentiment_min = -10\n",
        "sentiment_max =  10\n",
        "sentiment = 8\n",
        "\n",
        "prompt = f'''Write a tweet about {topic}.'''\n",
        "prompt+= create_sentiment_prompt(sentiment,\n",
        "                                  sentiment_min,\n",
        "                                  sentiment_max)\n",
        "tweet = jarvis.generate_text(prompt, instructions)\n",
        "print(f\"Sentiment:{sentiment}\\n\")\n",
        "jarvis.display_tweet(tweet, screen_name);"
      ]
    },
    {
      "cell_type": "markdown",
      "metadata": {
        "id": "xMPLJonkzt3-"
      },
      "source": [
        "# Few-Shot Learning of Tweet Style\n",
        "\n",
        "We will give ChatGPT the tweets of a Twitter user so it can learn their style.  \n",
        "\n",
        "To collect the tweets of a Twitter user, you can use the Chrome plug-in TwExportly:\n",
        "https://chromewebstore.google.com/detail/twexportly-export-tweets/hbibehafoapglhcgfhlpifagloecmhfh?hl=en\n",
        "\n",
        "\n"
      ]
    },
    {
      "cell_type": "markdown",
      "metadata": {
        "id": "YAAjjL36zt3_"
      },
      "source": [
        "## Load Data\n",
        "\n",
        "We have tweets from a variety of users that we will use to teach the AI tweeting style.  The data is in the file `\"data/TwExportly/TwExportly_RobertKennedyJr_tweets_2025_02_02.csv\"`. We will load the tweets into a dataframe `df`.\n",
        "\n",
        "\n"
      ]
    },
    {
      "cell_type": "code",
      "execution_count": 6,
      "metadata": {
        "colab": {
          "base_uri": "https://localhost:8080/",
          "height": 164
        },
        "id": "ygPnUPrddSjb",
        "outputId": "0af9a441-ed35-4c41-b68f-8b7835f26d2b"
      },
      "outputs": [
        {
          "output_type": "execute_result",
          "data": {
            "text/plain": [
              "343                                                                                                                                                                    @SethAbramson Is there any Democrat who still believes in the First Amendment?\n",
              "306    The principal objective of the FDA today is to serve the mercantile interests of pharmaceutical companies. Let's get @realDonaldTrump elected so I can go to Washington and rid our government agencies of corruption. https://t.co/ntNfaHa3Gn\n",
              "Name: text, dtype: object"
            ],
            "text/html": [
              "<div>\n",
              "<style scoped>\n",
              "    .dataframe tbody tr th:only-of-type {\n",
              "        vertical-align: middle;\n",
              "    }\n",
              "\n",
              "    .dataframe tbody tr th {\n",
              "        vertical-align: top;\n",
              "    }\n",
              "\n",
              "    .dataframe thead th {\n",
              "        text-align: right;\n",
              "    }\n",
              "</style>\n",
              "<table border=\"1\" class=\"dataframe\">\n",
              "  <thead>\n",
              "    <tr style=\"text-align: right;\">\n",
              "      <th></th>\n",
              "      <th>text</th>\n",
              "    </tr>\n",
              "  </thead>\n",
              "  <tbody>\n",
              "    <tr>\n",
              "      <th>343</th>\n",
              "      <td>@SethAbramson Is there any Democrat who still believes in the First Amendment?</td>\n",
              "    </tr>\n",
              "    <tr>\n",
              "      <th>306</th>\n",
              "      <td>The principal objective of the FDA today is to serve the mercantile interests of pharmaceutical companies. Let's get @realDonaldTrump elected so I can go to Washington and rid our government agencies of corruption. https://t.co/ntNfaHa3Gn</td>\n",
              "    </tr>\n",
              "  </tbody>\n",
              "</table>\n",
              "</div><br><label><b>dtype:</b> object</label>"
            ]
          },
          "metadata": {},
          "execution_count": 6
        }
      ],
      "source": [
        "filename = \"data/TwExportly/TwExportly_RobertKennedyJr_tweets_2025_02_02.csv\"\n",
        "df = pd.read_csv(filename)\n",
        "df.text.sample(2)"
      ]
    },
    {
      "cell_type": "markdown",
      "metadata": {
        "id": "p5Rn-qUuu4gh"
      },
      "source": [
        "## Few-Shot Learning\n",
        "\n",
        "We add to the `instructions` a random sample of  tweets from this person.  The more examples you give, the more money it costs.  The functon `create_examples_prompt` will create the prompt with the sampled tweets.  It takes as input a dataframe `df` with the tweets and the number of tweet samples you want `nsamples`."
      ]
    },
    {
      "cell_type": "code",
      "execution_count": 16,
      "metadata": {
        "id": "IVCmFCWZmArQ"
      },
      "outputs": [],
      "source": [
        "def create_examples_prompt(df, nsamples=1):\n",
        "    \"\"\"\n",
        "    Generates a prompt to guide AI in mimicking the tweeting style based on example tweets.\n",
        "\n",
        "    Parameters:\n",
        "    ----------\n",
        "    df : DataFrame\n",
        "        A pandas DataFrame containing a 'text' column with tweet content.\n",
        "    nsamples : int, optional\n",
        "        Number of sample tweets to include in the prompt (default is 1).\n",
        "\n",
        "    Returns:\n",
        "    -------\n",
        "    str\n",
        "        A formatted prompt that instructs the AI to generate tweets matching the provided style.\n",
        "    \"\"\"\n",
        "    # Ensure we don't sample more tweets than available\n",
        "    tweets = df if nsamples >= len(df) else df.sample(nsamples)\n",
        "\n",
        "    # Format the sample tweets\n",
        "    tweets_str = \"\"\n",
        "    for _, row in tweets.iterrows():\n",
        "        text = row.text.replace(\"\\n\", \" \").strip()\n",
        "        tweets_str += f'- \"{text}\"\\n'\n",
        "\n",
        "    # Construct the prompt\n",
        "    prompt = f\"\"\"\n",
        "You are an AI trained to write tweets that perfectly mimic the style, tone, and voice of the following examples.\n",
        "\n",
        "**Instructions:**\n",
        "- Pay attention to the word choice, sentence structure, and emotional tone.\n",
        "- Match the use of hashtags, emojis, punctuation, and formatting as shown in the examples.\n",
        "- Capture the rhythm and flow of the tweets, including any humor, sarcasm, or formal tone.\n",
        "- Dont  use hashtags as this is not cool anymore\n",
        "**Example Tweets:**\n",
        "{tweets_str}\n",
        "\n",
        "Now, write new tweets that sound like they were written by the same person.\n",
        "\"\"\"\n",
        "\n",
        "    return prompt.strip()\n",
        "\n"
      ]
    },
    {
      "cell_type": "code",
      "execution_count": 17,
      "metadata": {
        "colab": {
          "base_uri": "https://localhost:8080/"
        },
        "id": "Pu8iEzanGSt1",
        "outputId": "e330a561-1aee-44fc-e265-5ae209e3128b"
      },
      "outputs": [
        {
          "output_type": "stream",
          "name": "stdout",
          "text": [
            "You are going to help create content for a social\n",
            "media account.  You will be asked to write clever tweets that will get\n",
            "engagement.You are an AI trained to write tweets that perfectly mimic the style, tone, and voice of the following examples.\n",
            "\n",
            "**Instructions:**\n",
            "- Pay attention to the word choice, sentence structure, and emotional tone.\n",
            "- Match the use of hashtags, emojis, punctuation, and formatting as shown in the examples.\n",
            "- Capture the rhythm and flow of the tweets, including any humor, sarcasm, or formal tone.\n",
            "- Dont  use hashtags as this is not cool anymore\n",
            "**Example Tweets:**\n",
            "- \"@realDonaldTrump @DonaldJTrumpJr\"\n",
            "- \"Some specifics about how Donald Trump and I intend to Make America Healthy Again! https://t.co/A6rXQwj0qH\"\n",
            "- \"You can be a part of this mosaic capturing the iconic MAHA handshake.  Donate $47 today to secure your tile and upload your image to help put Trump back in the White House and me to D.C. to Make America Healthy Again. 🇺🇸  BUY NOW ➡️ https://t.co/1TpU5zzGYf https://t.co/XBAHW6FrB8\"\n",
            "- \"Yes @CalleyMeans @RCamposDuffy we're going to get @realDonaldTrump back in the White House and me to D.C. to clean out corruption of our government agencies and Make America Healthy Again. #MAHA 🇺🇸 https://t.co/0tFjwkRlUF\"\n",
            "- \"So appreciate this great endorsement from Ryland Engelhart, co-founder of Kiss the Ground and producer of the inspiring Netflix film “Kiss the Ground.”  Thank you for this, Ryland (@lovebeingryland), and for all the important work you’re doing in regenerative agriculture!  #kennedyshanahan24\"\n",
            "- \"Compelling analysis of our present political moment by David Stockman. https://t.co/KBdpBZKtt9\"\n",
            "- \"Dan Mackenzie (@OmegaMaleSays), a singer-songwriter and podcaster in Los Angeles, was inspired by our movement and wrote this incredible song. I love it, and I know you will, too.  As we celebrate Independence Day, I invite you to share this music video and message far and wide, in honor of all that unites us. Let’s build a bridge across the great divide.🎶🎵  P.S. Dan’s song “Build A Bridge” is out today on Spotify! Listen here ➡️ https://t.co/fW0XhbOLqx  #kennedyshanahan24 #rfkjr #kennedy24\"\n",
            "- \"Latest episode of VEEP\"\n",
            "- \"My morning hike https://t.co/CGVlYBeilY\"\n",
            "- \"RT @amaryllisfox: Do Kamala Harris' allies understand that the shell they are signing will murder a human being? Not Putin or any other decision-maker, but a conscript or a civilian or a child.  These men want their own handwritten note to be on the shrapnel that takes a human life, without even knowing in advance which human that will be.   This is profoundly sick.\"\n",
            "- \"Zelensky’s only strategy for victory is to embroil us in World War III. And VP Harris is all for it\"\n",
            "- \"It’s been one year since the devastating wildfire, and the people and communities of Maui continue to suffer.  I visited Lahaina last January and saw the tragic reality up close: the wildfire’s cascading environmental impacts and toxic aftermath will likely last for years. The government’s mismanagement of the poisonous material cleanup wreaked havoc on Lahaina’s residents, farmland, groundwater, and the local reef. Hazardous debris and chemicals continue to plague the town.  It remains an egregious example of government negligence and, ultimately, corruption. The people of Maui deserve so much better.\"\n",
            "- \"RT @sheislaurenlee: “The Deep State no longer fears Donald Trump.   They do, I think, fear Bobby Kennedy.  Not only did he see his relatives killed by the Deep State, he is now back to finish the story.   That story reads like Odysseus at the end of the Odyssey, with string and bow.  Not only is RFK Jr. the guy with the temperament to do it, but the right person to heal that wound that goes back to 1963.”  - Dr. Bret Weinstein just now at Freedom Fest in Las Vegas 🔥\"\n",
            "- \"Let's Make America Healthy Again. Here's how you can help. You can purchase your MAHA hat here ➡️ https://t.co/cQuNvUfu2j #MAHA 🇺🇸 https://t.co/n4D3aizgMD\"\n",
            "- \"Together, we're going to secure our borders, end the forever wars, get corruption out of our government, restore free speech, and Make America Healthy Again. #MAHA 🇺🇸 https://t.co/ebfkrcnU58\"\n",
            "- \"@chiproytx Fantastic Chip!\"\n",
            "- \"Join us today at 4:00PM PST for our \"State of Our Independence\" virtual event.    RSVP ➡️ https://t.co/n6H3kW94o5 https://t.co/DToFr7EmsK\"\n",
            "- \"“There is no inevitability,” wrote Marshall McLuhan, “as long as there is a willingness to contemplate what is happening.”  And what is happening?  What is happening is this: the greatest ailments of our nation are going undiagnosed by its leaders. The most obvious urgencies are the first to be ignored.  And what are those urgencies?  That our economy and politics have become addicted to war…  That war, which has become an abstraction for so many because we are so distanced from it, threatens to escalate out of control…  That fifty-seven percent of Americans cannot put their hands on a thousand dollars in an emergency…  That hateful division is has become the foundation of electoral politics…  That more than half of Americans are sick in body or mind…  That children are growing up without reliable coordinates, without communities that hold them, attending schools where they spend much of their days on screens…  That we are undergoing a crisis of meaning in our time, a progressive disenchantment and loss of spiritual orientation; and this crisis is rendering some of us apathetic, defeated, and addicted and rendering others fundamentalist about certainties that often involve putting other people down…  That our dwindling spiritual powers are not keeping up with our growing technological ones…  That our government increasingly acts as a wet nurse for a tiny group of powerful elites…  That the party of peace and free speech has become the party of war and mounting government control…  That the other party acts as if caring for our miraculous earth is a sign of shameful weakness…  That elections now require the killing of democracy in order to save it…  That our lives—as these urgencies accumulate—are often both frantically busy and prone to distraction upon distraction upon distraction…  “There is no inevitability as long as there is a willingness to contemplate what is happening.”  Let’s really contemplate what’s happening. Let’s be in reality. Only then can we unleash our prodigious creative powers to turn this country around. #Kennedy24 #AmericaStrong\"\n",
            "- \"On Your Issues,  Do you want to... https://t.co/tY8LNjbLwr\"\n",
            "- \"Black mothers, who account for 85% of abortions, often abort out of economic necessity. While Americans fight endlessly over whether to ban or legalize abortion, an obvious governmental solution is being overlooked that could drastically reduce abortions overall, especially in the African American community--and it’s not funding another Planned Parenthood center.\"\n",
            "- \"RT @SebGorka: The reaction to @RobertKennedyJr’s entrance at tonight’s Trump Rally in Milwaukee is insane.   Can’t wait for the main attraction! https://t.co/9E2gp8t8Wv\"\n",
            "- \"RT @theAuntieAngie: To be honest, @RobertKennedyJr and @NicoleShanahan have the most effective policies for police reform. While many candidates and politicians talk about the issue, these two stand out for actively implementing real policies. Vote Wisely 🇺🇸⚔️ https://t.co/q5G38WSDnc\"\n",
            "- \"Let's get President Trump back in the White House and me to DC so we can ban pharmaceutical advertising. https://t.co/Qp7fj9xskU\"\n",
            "- \"RT @calleymeans: The USDA Nutrition Guidelines Committee is secretly planning to declare a war on meat after the election.    PA, WI, GA, + MI are capitals of meat production.   The panel’s members are funded by Coca-Cola, Nestle, Novo Nordisk, and Bill Gates.   It should be abolished.   From the article;  “The recommendations from the Dietary Guidelines Advisory Committee, which are reevaluated every five years, are slated to arrive by the end of the year after the 2024 election. In the meantime, though, the plan to downgrade animal-based proteins could hurt Vice President Kamala Harris’s chances with swing state voters in farming communities.   Although the panel’s final report is not expected until late December, the committee’s preliminary directive on protein was announced earlier this month during a more than five-hour meeting hosted by the National Institutes of Health.”\"\n",
            "- \"More and more in local papers we see photos of young people in the obit section, and more and more the causes of these deaths are unspecified. Often they are unspecified because the cause of death is overdose or suicide. These are the hidden-from-society “deaths of despair.”  Our politics will only be meaningful if it’s faithful to the real and particular challenges of today's Americans. And many Americans, especially young Americans, are feeling cut off and adrift, living “within the context of no context” (a haunting and telling phrase of social thinker George W.S. Trow). Consequently, many young people are depressed or addicted (or both), or seeking refuge in some harmful fundamentalism. Maybe it’s your own child who’s feeling this way. Or your nephew. Or your grandchild. Or your neighbor. Or you.  In my administration we’re going to build healing centers in communities across the nation, places that help empower a generation beset by depression, PTSD, loneliness, addiction, and mental illness, where individual Americans can connect with nature, community, good hard work, and heal.  On these Healing Farms, Americans will eat organic food, unplug from screens, be mentored by peers in recovery, and be of service.  These are not traditional rehab centers. On Healing Farms, struggling Americans will learn new skills such as regenerative farming and ranching, carpentry, furniture-making, plumbing, cooking, electrical work, and other helpful, career-serving skills.  While the two uniparty candidates fixate on their hatred for each other, I'm working to address the actual challenges of today's Americans.\"\n",
            "- \"Great question today from @foxandfriends audience on how we can increase access to healthy food. #MAHA https://t.co/teyiX4bAxq\"\n",
            "- \"@AaronSiriSG Aaron. Thank you for all you did to achieve this victory. Stanley Plotkin is the Dark Deity of  vaccinology. This concession statement is breathtaking.  Everything was a lie.\"\n",
            "- \"That's right @charliekirk11, we must stop poisoning our kids. https://t.co/kmhcq2Om70\"\n",
            "- \"Thank you @glennbeck. I always enjoy our conversations. 🇺🇸\"\n",
            "- \"@DollyD2022 Fake news!\"\n",
            "- \"My deepest condolences to the family and loved ones of Corey Comperatore, a former fire chief who was tragically killed at yesterday's Trump rally in Pennsylvania. This morning, his daughter Allyson shared a deeply moving tribute to her father on Facebook, describing how he died shielding Allyson and her mother from the bullets that came at them. \"We lost a selfless, loving, husband, father, brother, uncle, son, and friend...the best dad a girl could ever ask for,” she wrote. \"He died a real-life superhero.\"  The impact of the rampant vitriol and divisiveness in today's political and media landscape – and, increasingly, political violence – isn’t isolated to presidential candidates or political parties. As this tragedy shows, it also takes an unimaginable toll on our country's citizens: American families with hearts and hopes, like the Comperatore family.  America has fallen off the precipice, but we can still climb back up. As a nation, we can overcome this. But we need to learn how to better understand and empathize with one another, converse with respectful dialogue, and regard differing viewpoints with dignity and respect.  A GoFundMe has been set up to support Allyson and her family: https://t.co/v9dzrnmLBA  My thoughts and prayers are with the Comperatore family.\"\n",
            "- \"@CBSNews asked me why I want to be President. The reason is this: because Americans deserve to have a unifying leader who will fight for THEM. Who prioritizes peace, our health, and our soils.  Who understands the peril and potential of technology. Who has the know-how and the backbone to stand up to the corrupt bureaucrats and big corporations that are destroying the middle class and, with it, the America I know and love.\"\n",
            "- \"John Kerry is correct. The 1st Amendment DOES stand as a major roadblock to them right now.\"\n",
            "- \"US gov't opposed EU effort to reduce lead levels in infant formula. Helped industry push formula around the world at the expense of breastfeeding. https://t.co/hnwxjooxXg It's time we started putting people before politics and profits.\"\n",
            "- \"When politicians use the tried-and-true tactic of stoking rage and hate against the other side, they may win the election, but they intensify the divisions that paralyze the nation. The truth is, the \"other side\" isn't so awful. Just ask a _____ (MAGA guy, BLM guy, pharma exec, anti-vaccine advocate, you name it) about their children. You will find love there. We need to source from that common humanity to heal this country.\"\n",
            "- \"I had the privilege of meeting with a contingent of indigenous tribal leaders last month in Oklahoma City. We discussed important and difficult topics, and I greatly appreciated this opportunity to share my plans to elevate the relationship between Tribal Nations and the United States, especially with regard to consultation and consent around infrastructure projects.   As I told my hosts:   “Federal Indian policy is clearly not working. I want to offer a Native New Deal with the direct leadership of tribal nations guiding investment in Indian country. This hasn’t been done since 1934’s Indian Reorganization Act. It’s time.”  Thank you to the following tribal leaders for this productive gathering:  Chairman Jacob Keyes (Iowa Tribe of Oklahoma) Chairman Forrest Tahdooahnippah (Comanche Nation) Vice Chairman Jacob Tsotigh (Kiowa Tribe of Oklahoma) Chief Joe Bunch (United Keetoowah Band of Cherokee Indians) LaRenda Morgan (Cheyenne and Arapaho Nation Delegate)\"\n",
            "- \"Today’s authoritarianism knows no boundaries. London’s Metropolitan Police Chief just told the world that he will be coming after anyone who violates British social media censorship rules with international extradition requests – to include American citizens. Simultaneously, the EU’s Censorship “Kommisar” Thierry Breton just told Elon Musk he can’t allow EU citizens to witness tonight’s interview with President Trump.  The elites who want to decide what is permissible to read and watch justify their censorship by labeling dissenting opinions as “misinformation,” “hate speech,” “far right,” or “extremist.” During the lockdowns, MI-6 designated me and other health freedom activists as potential “terrorists.” But the label applies more closely to themselves, as they try to scare us into submission again with bird flu hoaxes, debt-fueled financial collapse, and ever more dangerous imperial wars of choice.  This is definitely a wake-up call, America. It’s time to reclaim our government. If not in America, the paragon of freedom, then where?  https://t.co/78BO2PJo9p\"\n",
            "- \"If the Democratic Party calls…sure, I’ll answer 🤙🏼 https://t.co/akynVcOrOO\"\n",
            "- \"CBS News asked me why I want to be President. The reason is this: because Americans deserve to have a unifying leader who will fight for THEM. Who prioritizes peace, our health, and our soils.  Who understands the peril and potential of technology. Who has the know-how and the backbone to stand up to the corrupt bureaucrats and big corporations that are destroying the middle class and, with it, the America I know and love.\"\n",
            "- \"This case is an assault on New York voters who signed in record numbers to place me on their ballot. The DNC has become a party that uses lawfare in place of the democratic election process. We will appeal and we will win. 🇺🇸\"\n",
            "- \"Thank you Senator Hawley for the kind words about my father and the lively conversation.\"\n",
            "- \"A day at the beach 🐟 https://t.co/g2W2Er7t0V\"\n",
            "- \"Thanks @JoeRogan. Yes, we can fix our broken health system and Make America Healthy Again. #MAHA 🇺🇸 https://t.co/hSDrw9s2F2\"\n",
            "- \"RT @hodgetwins: Make America Healthy Again 🇺🇸 @RobertKennedyJr https://t.co/m9vE2MWFb9\"\n",
            "- \"VP Harris: “It’s up to the American people to stop him.” If that’s true, why does the DNC resort to the courts to get opponents off the ballot?\"\n",
            "- \"Thanks @Redfield_Dr. \"To heal our children, a president must lead our nation to act. After more than 40 years in public health, it might surprise some of my colleagues to know I think President Trump chose the right man for the job: Robert Kennedy, Jr.\"  https://t.co/5ROs3Jt9Eq\"\n",
            "- \"RFK Jr. led the triumphant effort to clean up the Hudson River. His success shows that the environmental action in New York can serve as a model for similar initiatives globally. Impactful change is possible anywhere.  #MAHA https://t.co/4UhFxRKtA3\"\n",
            "- \"RT @realDonaldTrump: I am thrilled to announce Robert F. Kennedy Jr. as The United States Secretary of Health and Human Services (HHS). For too long, Americans have been crushed by the industrial food complex and drug companies who have engaged in deception, misinformation, and disinformation when it comes to Public Health. The Safety and Health of all Americans is the most important role of any Administration, and HHS will play a big role in helping ensure that everybody will be protected from harmful chemicals, pollutants, pesticides, pharmaceutical products, and food additives that have contributed to the overwhelming Health Crisis in this Country. Mr. Kennedy will restore these Agencies to the traditions of Gold Standard Scientific Research, and beacons of Transparency, to end the Chronic Disease epidemic, and to Make America Great and Healthy Again!\"\n",
            "- \"This historic collaboration breaks the fundraising stranglehold that the two major parties have on this election. Together, the Kennedy campaign and the Libertarian National Committee are democratizing fundraising to make this independent run viable. 🇺🇸 https://t.co/3balw7vtCy\"\n",
            "- \"Thank you, Colorado! Thank you, volunteers, for getting me and @NicoleShanahan on the ballot in the Rocky Mountain state! 🇺🇸 https://t.co/t7XRPwtvTE\"\n",
            "- \"Former CDC Director Dr. Redfield compares the #MAHA movement with JFK’s Moonshot. Dr. Redfield tells @ChrisCuomo: I believe that making America healthy again is possible, and Kennedy’s passion for this issue combined with a commitment from President Trump is a huge opportunity. 🇺🇸\"\n",
            "- \"Congratulations Dr. Dave Weldon on your nomination as Director of CDC. Dr. Weldon is a 40-year medical doctor, Congressman, and Army veteran. Dave's leadership at CDC will bring the truth and transparency needed to restore the public's confidence in this institution. Welcome aboard.\"\n",
            "- \"After a recent rally, I spent time backstage with Katie, a director on our campaign, and her son Dusty, a 26-year-old non-verbal autistic young adult and incredibly special human being. Members of the autism community like Dusty, who enrich our lives in so many ways, and parents like Katie, who tirelessly advocate and sacrifice so much for their kids, inspire me every day to do what I do.\"\n",
            "- \"Liberals — are you on the side of the Defense Establishment? Or on the side of those who would challenge it?\"\n",
            "- \"Can't wait to speak at PublicSquare Business Summit on Oct. 11. I hope to see you there.   It’s time to shift towards a parallel economy where individuals and smaller enterprises can support and rely on each other to thrive.\"\n",
            "- \"RT @HHSGov: Please join us in welcoming our new HHS leadership: https://t.co/9BcIJEbVX1\"\n",
            "- \"I just found out that the price of wheat right now is about the same as it was in 1972. $4.86 a bushel. A loaf of bread in 1972 cost 25 cents.  Bread has gone up by a factor of ten since then, but the farmer has gotten none of that money. Something is seriously wrong with a system where those who produce our food can barely afford to buy it themselves without going deeper and deeper into debt every year.  A bushel of wheat can make at least 50 loaves of bread, which means the cost of the wheat in a loaf of bread is only about ten cents. In other words, we could pay our farmers double, and the price of bread would barely rise.  As President I am going to transform our system of ag regulations and farm subsidies so that farmers get their fair share and can thrive. #Kennedy24\"\n",
            "- \"Before their lives were tragically cut short, Dr. Martin Luther King Jr. and my father collaborated on “The Poor People’s Campaign,” an effort to combat hunger and poverty in America, even as the Vietnam War dominated the national agenda.  Today, their vision remains unfinished. But I intend to take back up the fight. My administration will implement a revitalized domestic Marshall Plan, inspired by Dr. King, that focuses on rebuilding and investing in the most impoverished urban and rural areas of our nation.  Tens of millions of Americans have been overlooked for far too long. But I promise you, when I’m President, they won’t be forgotten.\"\n",
            "- \"I’m back in Maine eating lobster, reflecting on sailing trips with my family, and whitewater paddling with my brothers. https://t.co/d6aLPym55f\"\n",
            "- \"\"Management-intensive grazing\" is a win-win for farmers and ranchers, and the environment. Whatever your views on climate change, restoring soil carbon has huge benefits for water retention, soil fertility, and animal health. With President Trump's support, we will shift agricultural subsidies to encourage these cutting-edge practices (best implemented by small and mid-sized operators, not corporate megafarms). Let's make America's soils healthy again! https://t.co/38aVQi8rir\"\n",
            "- \"One of my campaign’s biggest hurdles is that the mainstream media won’t let me on. When Ross Perot won 19% of the vote, he was an invited guest on mainstream media almost every night. In the last 18 months, outside of Fox News, I’ve only had a handful of mainstream media interviews, most of them taped rather than live. As I told Roseanne Barr (@therealroseanne), this allows the media to demonize me with pejoratives and tell the public, ‘You don’t need to listen to him; he’s crazy’.\"\n",
            "- \"Bravo to the Natural Products Association for fighting back against FDA’s war on public health.  https://t.co/h5irTr9ttc\"\n",
            "- \"RT @ggreenwald: The difference between the actual reality of JD Vance and his life glaringly visible last night, versus the media demonization of him as a weird perverted freak, could not have been starker.  Each time the media gets caught doing this, their tiny remaining credibility vanishes. https://t.co/sni6VFUdg0\"\n",
            "- \"Thank you, Nevada, for not once, but twice signing petitions to get me on the ballot in your majestic state.   Overcoming yet another DNC challenge is a testament to the strength of our movement. Onward! 🇺🇸 🙏\"\n",
            "- \"@TheFinalBot1 @MegynKellyShow Well said Megyn !\"\n",
            "- \"Kennedy explains why measuring everything by its carbon footprint is a mistake. There are better ways to protect nature that everyone can agree with. https://t.co/9fx7ie2rAj\"\n",
            "- \"@Bitchute Ellison’s statements are terrifying\"\n",
            "- \"Please help make sure every American hears this. #MAHA 🇺🇸\"\n",
            "- \"Thank you for the kind words, @DougAMacgregor and your patriotism. JFK said that moral courage is a rarer commodity than physical courage. You are the exemplar of both.\"\n",
            "- \"RT @Brick_Suit: RFK Jr. speaks about the situation in Ukraine, Russia's motivation for attacking, and how the U.S. &amp; NATO provoked it.  Jessica Kraus' 4th question on the Reclaim America Tour 9/14 tour stop in Glendale AZ. (Apologies as I missed both the actual question and Tulsi's response.) https://t.co/luQDc98r53\"\n",
            "- \"RT @Holden_Culotta: RFK Jr: “JFK spent 1,000 days in office RESISTING his military-industrial complex”  “He refused to send troops to Laos. He refused to get involved in a war in 1962 … in Germany.  He resisted in Cuba. He refused to send combat troops to Vietnam.  He was killed November 22, 1963, one month after signing an order ordering all military advisors out of Vietnam. President Johnson remanded that order, sent 265,000 combat troops in, and it became America’s war.  My father ran against that war in 1968, he also was killed in that enterprise. Then Nixon won the election and sent 560,000 troops to Vietnam.”\"\n",
            "- \"The United States has been involved in too many overseas wars, in countries that pose no threat, just to secure their resources or gain a strategic advantage. Even by that cynical and shortsighted standard, these wars have not worked out well for us.\"\n",
            "- \"Let's Get Out The Vote so we can Make America Healthy Again! #MAHA 🇺🇸 https://t.co/UU9qBasp9j\"\n",
            "- \"RT @RobertKennedyJr: Help me get to Washington so I can Make America Healthy Again. I will drain corruption out of our government agencies and protect the health of our children and the environment. 🇺🇸  DONATE TODAY ➡️ https://t.co/YxxGkb2Ulq https://t.co/7OoCt7t6M0\"\n",
            "- \"Yes, @JoeRogan veterans are the most deserving of benefiting from psychedelic therapy. https://t.co/4TegEYF8Tz\"\n",
            "- \"Kennedy gets a surprise endorsement.   @rustyrockets https://t.co/EgOjHb0b7L\"\n",
            "- \"Here’s more ⬇️ https://t.co/Thq7cDpqXu\"\n",
            "- \"We’re living in a two-tiered system. We have cushy socialism at the top, for the rich, and brutal, rapacious capitalism at the bottom, for the poor. Take a look at how, as your president, I would quickly level the playing field for you and millions of other Americans:  https://t.co/umGrreYm1j  Thank you, Theo Von (@TheoVon), for having me on and for opening minds every day.\"\n",
            "- \"Candid interview with multimedia powerhouse and Jason Lee @theonlyjasonlee just dropped NOW   Watch here: https://t.co/2VcugHdwH1 https://t.co/GrmWXF4tIg\"\n",
            "- \"THIS SATURDAY join me + @TulsiGabbard in Dearborn, MI for our RECLAIM AMERICA TOUR when we discuss how a Trump administration will end the forever wars, get corruption out of government agencies, protect our civil liberties, and create a unity government. 🇺🇸  REGISTER HERE ➡️ https://t.co/Cwvvcmxewa\"\n",
            "- \"Trump talks with @DrPhil  about how RFK Jr.'s endorsement brings a tremendous following with him and how Kennedy can help get the country back on track. https://t.co/bthyZkiIhS\"\n",
            "- \"Thanks, Cheryl, for 10 years of love, laughter, wisdom, and grace. https://t.co/B3oSYLlA6f\"\n",
            "- \"We don't want top-down control. We want democracy. https://t.co/SVxkSyuvTF\"\n",
            "- \"Live now! Please join us.\"\n",
            "- \"https://t.co/2xUe1xTv0V\"\n",
            "- \"RT @busybrands: $MMTLP Thirteen good questions that @FINRA should be answering regarding the #MMTLPfiasco   The relationships of Ari Rubenstein, Robert Cook, Gary Gensler, DTCC & elected officials must be made public.   We must find an honest person among all of these thieves and or make this public to the extent elected officials are forced to answer for the millions of dollars they receive to stonewall their constituents.\"\n",
            "- \"Thank you @SenRonJohnson for hosting this roundtable today. #MAHA 🇺🇸\"\n",
            "- \"RT @Holden_Culotta: Jessica Burbank: “RFK Jr. needs to stay in the race … to be criticizing both parties for being friends with the ruling class, the vampire class”  “We just don’t see establishment Democrats or Donald Trump talk about this”  “He’s right to say BlackRock, which is a financial firm that makes money off of pooling a bunch of money and investing it in America’s biggest corporations, they have a vested interest in corporations doing well, that means wages being low and prices being high.  It also means things like potentially prolonging the war in Ukraine … because that’s something that they will profit off of.  And regular families that can’t make ends meet, a big part of this is rent increases. BlackRock has a ton of real estate investments.  They’ve taken on debt in order to make ends meet, and now part of paying their regular bills is paying off interest.  [RFK] is right to point that out as well.  We just don’t see establishment Democrats or Donald Trump talk about this.  Saying a Trump presidency this time around can’t be again hiring people from this ruling class, this vampire class.”  Robby Soave: “It was just inexcusable to not have him in that debate that will now go down in history as the debate that ended Joe Biden’s quest for a second term.  If they do end up doing another debate … RFK Jr. should be in it.”  From Rising @JessicaLBurbank\"\n",
            "- \"I spoke with Dr. Tom Lankering on @GrassRootsTV about when the chronic disease epidemic – now at an all-time high – began affecting Americans, and why our health authorities refuse to research the real causes. https://t.co/9x0tghjA6I\"\n",
            "- \"Join me + @TulsiGabbard this Saturday in Las Vegas, NV when we discuss how a Trump administration will end the forever wars, get corruption out of government agencies, protect our civil liberties, and create a unity government. 🇺🇸   REGISTER HERE ➡️ https://t.co/Jywl0CVMsp\"\n",
            "- \".@GregGutfeld asked me last night about Ozempic. Here's what I said. https://t.co/ejsTu7q0Vj\"\n",
            "- \"Tulsi Gabbard confronted Kamala Harris in this pivotal debate moment, demanding answers on key issues of accountability. This revealing exchange highlights the importance of transparency and truth in politics. https://t.co/MZ1Eocwb0F\"\n",
            "- \"Putting the mpox scare into perspective:  https://t.co/GKlK9wl7w8\"\n",
            "- \"The mad blind rivalry of the two political parties is snuffing out the soul of our nation.  This rivalry distracts us from our real problems—the $34 trillion dollar debt; the destructive merger of state and corporate power; our declining health; the epidemic of addiction; the growing war machine; widespread soil degradation; the fact that fifty-seven percent of Americans cannot put their hands on a thousand dollars during an emergency.  Instead of focusing on these critical issues, politicians direct our attention toward divisive culture war issues such as abortion, transgender athletes, gun control. We then discharge our anxiety and rage onto these issues, and especially those who hold opposing views on them. Thus distracted, the public offers little resistance to its ongoing robbery at the hands of elite corporate interests.  Step outside the culture war. Step outside the politics of hating the other side. Vote independent in 2024! #Kennedy24\"\n",
            "- \"Big victory in the Kennedy v. Biden censorship case. A live injunction is in place preventing the Biden Administration from coercing or colluding with social media to censor me. You’d think that a President who has sworn to protect the Constitution wouldn’t need a court injunction to respect free speech. But such are the times we live in.\"\n",
            "- \"The capacity for critical thinking has been so overwhelmed and subverted in my generation that they didn't see the possibility of an unprecedented level of control. They went along with COVID, which looked like in many ways a psyops program with orchestrated fear to disable the capacity for critical thought. Now, those same mechanisms are being used for them to support Kamala Harris.\"\n",
            "- \"Lots of rumors going around about my meeting this morning with President Trump. Our main topic was national unity, and I hope to meet with Democratic leaders about that as well. No, I am not dropping out of the race.\"\n",
            "- \"Please listen to and share my new podcast episode: From Chemicals to Regeneration https://t.co/T1RjbvMSTc\"\n",
            "- \"Does it seem to you that prices are rising faster than your income? It isn't your imagination. https://t.co/OMAKW0yTLP\"\n",
            "- \"Robert F. Kennedy Jr. Address to the Nation https://t.co/Wf4xt12GSX\"\n",
            "\n",
            "\n",
            "Now, write new tweets that sound like they were written by the same person.\n"
          ]
        }
      ],
      "source": [
        "nsamples = 100\n",
        "instructions = \"\"\"You are going to help create content for a social\n",
        "media account.  You will be asked to write clever tweets that will get\n",
        "engagement.\"\"\"\n",
        "\n",
        "#add sampled tweets of screen_name to instructions\n",
        "instructions +=  create_examples_prompt(df, nsamples)\n",
        "\n",
        "print(instructions)"
      ]
    },
    {
      "cell_type": "markdown",
      "metadata": {
        "id": "2fJXgOUGvjS5"
      },
      "source": [
        "## Tweeting about a topic\n",
        "\n",
        "We can now use these `instructions` to tweet about a topic in the style of the chosen `screen_name`.  "
      ]
    },
    {
      "cell_type": "code",
      "execution_count": 18,
      "metadata": {
        "colab": {
          "base_uri": "https://localhost:8080/",
          "height": 616
        },
        "id": "2Sf0ihqSGWQl",
        "outputId": "3fa3caee-74a3-4c18-dadf-694a320936a5"
      },
      "outputs": [
        {
          "output_type": "stream",
          "name": "stdout",
          "text": [
            "Tweets of RobertKennedyJr\n",
            "\tTweet 0\n"
          ]
        },
        {
          "output_type": "display_data",
          "data": {
            "text/plain": [
              "<IPython.core.display.HTML object>"
            ],
            "text/html": [
              "\n",
              "        <!DOCTYPE html>\n",
              "        <html>\n",
              "        <head>\n",
              "            <style>\n",
              "                .tweet {\n",
              "                    background-color: white;\n",
              "                    color: black;\n",
              "                    border: 1px solid #e1e8ed;\n",
              "                    border-radius: 10px;\n",
              "                    padding: 20px;\n",
              "                    max-width: 500px;\n",
              "                    margin: 20px auto;\n",
              "                    font-family: 'Helvetica Neue', Helvetica, Arial, sans-serif;\n",
              "                    box-shadow: 0px 0px 10px rgba(0,0,0,0.1);\n",
              "                }\n",
              "                .user strong {\n",
              "                    color: #1da1f2;\n",
              "                }\n",
              "                .tweet-text p {\n",
              "                    margin: 0;\n",
              "                    line-height: 1.5;\n",
              "                }\n",
              "            </style>\n",
              "        </head>\n",
              "        <body>\n",
              "            <div class=\"tweet\">\n",
              "                <div class=\"user\">\n",
              "                    <strong>@RobertKennedyJr</strong>\n",
              "                </div>\n",
              "                <div class=\"tweet-text\">\n",
              "                    <p>Drinking raw milk is a powerful way to reconnect with nature’s bounty! Packed with nutrients and probiotics, it can significantly boost your health. Let’s reclaim our right to wholesome, unprocessed foods. Cheers to better health! 🥛✨</p>\n",
              "                </div>\n",
              "            </div>\n",
              "        </body>\n",
              "        </html>\n",
              "        "
            ]
          },
          "metadata": {}
        },
        {
          "output_type": "stream",
          "name": "stdout",
          "text": [
            "\tTweet 1\n"
          ]
        },
        {
          "output_type": "display_data",
          "data": {
            "text/plain": [
              "<IPython.core.display.HTML object>"
            ],
            "text/html": [
              "\n",
              "        <!DOCTYPE html>\n",
              "        <html>\n",
              "        <head>\n",
              "            <style>\n",
              "                .tweet {\n",
              "                    background-color: white;\n",
              "                    color: black;\n",
              "                    border: 1px solid #e1e8ed;\n",
              "                    border-radius: 10px;\n",
              "                    padding: 20px;\n",
              "                    max-width: 500px;\n",
              "                    margin: 20px auto;\n",
              "                    font-family: 'Helvetica Neue', Helvetica, Arial, sans-serif;\n",
              "                    box-shadow: 0px 0px 10px rgba(0,0,0,0.1);\n",
              "                }\n",
              "                .user strong {\n",
              "                    color: #1da1f2;\n",
              "                }\n",
              "                .tweet-text p {\n",
              "                    margin: 0;\n",
              "                    line-height: 1.5;\n",
              "                }\n",
              "            </style>\n",
              "        </head>\n",
              "        <body>\n",
              "            <div class=\"tweet\">\n",
              "                <div class=\"user\">\n",
              "                    <strong>@RobertKennedyJr</strong>\n",
              "                </div>\n",
              "                <div class=\"tweet-text\">\n",
              "                    <p>Raw milk is a powerhouse of nutrition that our ancestors thrived on! 🥛✨ Packed with beneficial enzymes and probiotics, it's time to embrace the natural goodness and reclaim our health. Let's bring raw milk back to our tables! #HealthFirst</p>\n",
              "                </div>\n",
              "            </div>\n",
              "        </body>\n",
              "        </html>\n",
              "        "
            ]
          },
          "metadata": {}
        },
        {
          "output_type": "stream",
          "name": "stdout",
          "text": [
            "\tTweet 2\n"
          ]
        },
        {
          "output_type": "display_data",
          "data": {
            "text/plain": [
              "<IPython.core.display.HTML object>"
            ],
            "text/html": [
              "\n",
              "        <!DOCTYPE html>\n",
              "        <html>\n",
              "        <head>\n",
              "            <style>\n",
              "                .tweet {\n",
              "                    background-color: white;\n",
              "                    color: black;\n",
              "                    border: 1px solid #e1e8ed;\n",
              "                    border-radius: 10px;\n",
              "                    padding: 20px;\n",
              "                    max-width: 500px;\n",
              "                    margin: 20px auto;\n",
              "                    font-family: 'Helvetica Neue', Helvetica, Arial, sans-serif;\n",
              "                    box-shadow: 0px 0px 10px rgba(0,0,0,0.1);\n",
              "                }\n",
              "                .user strong {\n",
              "                    color: #1da1f2;\n",
              "                }\n",
              "                .tweet-text p {\n",
              "                    margin: 0;\n",
              "                    line-height: 1.5;\n",
              "                }\n",
              "            </style>\n",
              "        </head>\n",
              "        <body>\n",
              "            <div class=\"tweet\">\n",
              "                <div class=\"user\">\n",
              "                    <strong>@RobertKennedyJr</strong>\n",
              "                </div>\n",
              "                <div class=\"tweet-text\">\n",
              "                    <p>Drinking raw milk isn't just regaining popularity—it's a return to the wholesome, nourishing foods that our ancestors thrived on! Packed with essential nutrients and beneficial bacteria, it's time we celebrate real food that supports our health. Let’s Make America Healthy Again, one glass at a time! 🥛💪</p>\n",
              "                </div>\n",
              "            </div>\n",
              "        </body>\n",
              "        </html>\n",
              "        "
            ]
          },
          "metadata": {}
        }
      ],
      "source": [
        "topic = 'drinking raw milk is good for you.'\n",
        "screen_name = 'RobertKennedyJr'\n",
        "ntweets = 3\n",
        "\n",
        "\n",
        "prompt = f'''Write a tweet about {topic}\n",
        "in the style of these tweets.\n",
        "Return only the tweet text.'''\n",
        "\n",
        "\n",
        "print(f\"Tweets of {screen_name}\")\n",
        "\n",
        "for i in range(ntweets):\n",
        "  tweet = jarvis.generate_text(prompt, instructions)\n",
        "  print(f\"\\tTweet {i}\")\n",
        "  jarvis.display_tweet(tweet,screen_name);"
      ]
    },
    {
      "cell_type": "markdown",
      "metadata": {
        "id": "06lJx0Df0Icq"
      },
      "source": [
        "# Customer Service Bot\n",
        "\n",
        "We can make a customer service bot that replies to complaint tweets."
      ]
    },
    {
      "cell_type": "markdown",
      "metadata": {
        "id": "xLFt9ThG0N7s"
      },
      "source": [
        "## Load Data\n",
        "\n",
        "Load the data in `\"data/tweet_complaints_att.csv\"`.  These are tweets of people complaining about the AT&T mobile phone outage and the small compensation the company gave its customers."
      ]
    },
    {
      "cell_type": "code",
      "execution_count": 19,
      "metadata": {
        "colab": {
          "base_uri": "https://localhost:8080/",
          "height": 224
        },
        "id": "L6nZnf2K0gr9",
        "outputId": "6765d6f3-2557-4fde-80f2-bf8c72c25e6d"
      },
      "outputs": [
        {
          "output_type": "execute_result",
          "data": {
            "text/plain": [
              "                                                                                                                                                                                                                                                                      text\n",
              "0                                                                                                                                                Why is \\n@ATT\\n contacting only some of their customers affected by the outage and not all? And offering a credit\n",
              " wtf ??\n",
              "1  @FOX2now\\n \\n@KMOV\\n So \\n@ATT\\n is only going to credit their customers $5 for being without service during the nationwide outage. This is newsworthy. Absolutely pathetic. My husband missed out on work, $5 isn't going to cover the loss of money he missed out on.\n",
              "2                                                                                                                                                                                                                 @ATTNEWS\\n and \\n@ATT\\nLet it be more than $5 bucks plz!\n",
              "3                                                                                                                                                                                                      @ATTNEWS\\n and \\n@ATT\\nOh man what am I going to do with me 5 bucks\n",
              "4                                                                                                                                                                                                                            @ATT\\nYeah but $5 not gone make this right\n",
              ".."
            ],
            "text/html": [
              "\n",
              "  <div id=\"df-7539d7d8-577e-4f82-bdac-e49dd749efad\" class=\"colab-df-container\">\n",
              "    <div>\n",
              "<style scoped>\n",
              "    .dataframe tbody tr th:only-of-type {\n",
              "        vertical-align: middle;\n",
              "    }\n",
              "\n",
              "    .dataframe tbody tr th {\n",
              "        vertical-align: top;\n",
              "    }\n",
              "\n",
              "    .dataframe thead th {\n",
              "        text-align: right;\n",
              "    }\n",
              "</style>\n",
              "<table border=\"1\" class=\"dataframe\">\n",
              "  <thead>\n",
              "    <tr style=\"text-align: right;\">\n",
              "      <th></th>\n",
              "      <th>text</th>\n",
              "    </tr>\n",
              "  </thead>\n",
              "  <tbody>\n",
              "    <tr>\n",
              "      <th>0</th>\n",
              "      <td>Why is \\n@ATT\\n contacting only some of their customers affected by the outage and not all? And offering a credit wtf ??</td>\n",
              "    </tr>\n",
              "    <tr>\n",
              "      <th>1</th>\n",
              "      <td>@FOX2now\\n \\n@KMOV\\n So \\n@ATT\\n is only going to credit their customers $5 for being without service during the nationwide outage. This is newsworthy. Absolutely pathetic. My husband missed out on work, $5 isn't going to cover the loss of money he missed out on.</td>\n",
              "    </tr>\n",
              "    <tr>\n",
              "      <th>2</th>\n",
              "      <td>@ATTNEWS\\n and \\n@ATT\\nLet it be more than $5 bucks plz!</td>\n",
              "    </tr>\n",
              "    <tr>\n",
              "      <th>3</th>\n",
              "      <td>@ATTNEWS\\n and \\n@ATT\\nOh man what am I going to do with me 5 bucks</td>\n",
              "    </tr>\n",
              "    <tr>\n",
              "      <th>4</th>\n",
              "      <td>@ATT\\nYeah but $5 not gone make this right..</td>\n",
              "    </tr>\n",
              "  </tbody>\n",
              "</table>\n",
              "</div>\n",
              "    <div class=\"colab-df-buttons\">\n",
              "\n",
              "  <div class=\"colab-df-container\">\n",
              "    <button class=\"colab-df-convert\" onclick=\"convertToInteractive('df-7539d7d8-577e-4f82-bdac-e49dd749efad')\"\n",
              "            title=\"Convert this dataframe to an interactive table.\"\n",
              "            style=\"display:none;\">\n",
              "\n",
              "  <svg xmlns=\"http://www.w3.org/2000/svg\" height=\"24px\" viewBox=\"0 -960 960 960\">\n",
              "    <path d=\"M120-120v-720h720v720H120Zm60-500h600v-160H180v160Zm220 220h160v-160H400v160Zm0 220h160v-160H400v160ZM180-400h160v-160H180v160Zm440 0h160v-160H620v160ZM180-180h160v-160H180v160Zm440 0h160v-160H620v160Z\"/>\n",
              "  </svg>\n",
              "    </button>\n",
              "\n",
              "  <style>\n",
              "    .colab-df-container {\n",
              "      display:flex;\n",
              "      gap: 12px;\n",
              "    }\n",
              "\n",
              "    .colab-df-convert {\n",
              "      background-color: #E8F0FE;\n",
              "      border: none;\n",
              "      border-radius: 50%;\n",
              "      cursor: pointer;\n",
              "      display: none;\n",
              "      fill: #1967D2;\n",
              "      height: 32px;\n",
              "      padding: 0 0 0 0;\n",
              "      width: 32px;\n",
              "    }\n",
              "\n",
              "    .colab-df-convert:hover {\n",
              "      background-color: #E2EBFA;\n",
              "      box-shadow: 0px 1px 2px rgba(60, 64, 67, 0.3), 0px 1px 3px 1px rgba(60, 64, 67, 0.15);\n",
              "      fill: #174EA6;\n",
              "    }\n",
              "\n",
              "    .colab-df-buttons div {\n",
              "      margin-bottom: 4px;\n",
              "    }\n",
              "\n",
              "    [theme=dark] .colab-df-convert {\n",
              "      background-color: #3B4455;\n",
              "      fill: #D2E3FC;\n",
              "    }\n",
              "\n",
              "    [theme=dark] .colab-df-convert:hover {\n",
              "      background-color: #434B5C;\n",
              "      box-shadow: 0px 1px 3px 1px rgba(0, 0, 0, 0.15);\n",
              "      filter: drop-shadow(0px 1px 2px rgba(0, 0, 0, 0.3));\n",
              "      fill: #FFFFFF;\n",
              "    }\n",
              "  </style>\n",
              "\n",
              "    <script>\n",
              "      const buttonEl =\n",
              "        document.querySelector('#df-7539d7d8-577e-4f82-bdac-e49dd749efad button.colab-df-convert');\n",
              "      buttonEl.style.display =\n",
              "        google.colab.kernel.accessAllowed ? 'block' : 'none';\n",
              "\n",
              "      async function convertToInteractive(key) {\n",
              "        const element = document.querySelector('#df-7539d7d8-577e-4f82-bdac-e49dd749efad');\n",
              "        const dataTable =\n",
              "          await google.colab.kernel.invokeFunction('convertToInteractive',\n",
              "                                                    [key], {});\n",
              "        if (!dataTable) return;\n",
              "\n",
              "        const docLinkHtml = 'Like what you see? Visit the ' +\n",
              "          '<a target=\"_blank\" href=https://colab.research.google.com/notebooks/data_table.ipynb>data table notebook</a>'\n",
              "          + ' to learn more about interactive tables.';\n",
              "        element.innerHTML = '';\n",
              "        dataTable['output_type'] = 'display_data';\n",
              "        await google.colab.output.renderOutput(dataTable, element);\n",
              "        const docLink = document.createElement('div');\n",
              "        docLink.innerHTML = docLinkHtml;\n",
              "        element.appendChild(docLink);\n",
              "      }\n",
              "    </script>\n",
              "  </div>\n",
              "\n",
              "\n",
              "<div id=\"df-75d682bf-5637-4c3f-8a4b-208f85a74b64\">\n",
              "  <button class=\"colab-df-quickchart\" onclick=\"quickchart('df-75d682bf-5637-4c3f-8a4b-208f85a74b64')\"\n",
              "            title=\"Suggest charts\"\n",
              "            style=\"display:none;\">\n",
              "\n",
              "<svg xmlns=\"http://www.w3.org/2000/svg\" height=\"24px\"viewBox=\"0 0 24 24\"\n",
              "     width=\"24px\">\n",
              "    <g>\n",
              "        <path d=\"M19 3H5c-1.1 0-2 .9-2 2v14c0 1.1.9 2 2 2h14c1.1 0 2-.9 2-2V5c0-1.1-.9-2-2-2zM9 17H7v-7h2v7zm4 0h-2V7h2v10zm4 0h-2v-4h2v4z\"/>\n",
              "    </g>\n",
              "</svg>\n",
              "  </button>\n",
              "\n",
              "<style>\n",
              "  .colab-df-quickchart {\n",
              "      --bg-color: #E8F0FE;\n",
              "      --fill-color: #1967D2;\n",
              "      --hover-bg-color: #E2EBFA;\n",
              "      --hover-fill-color: #174EA6;\n",
              "      --disabled-fill-color: #AAA;\n",
              "      --disabled-bg-color: #DDD;\n",
              "  }\n",
              "\n",
              "  [theme=dark] .colab-df-quickchart {\n",
              "      --bg-color: #3B4455;\n",
              "      --fill-color: #D2E3FC;\n",
              "      --hover-bg-color: #434B5C;\n",
              "      --hover-fill-color: #FFFFFF;\n",
              "      --disabled-bg-color: #3B4455;\n",
              "      --disabled-fill-color: #666;\n",
              "  }\n",
              "\n",
              "  .colab-df-quickchart {\n",
              "    background-color: var(--bg-color);\n",
              "    border: none;\n",
              "    border-radius: 50%;\n",
              "    cursor: pointer;\n",
              "    display: none;\n",
              "    fill: var(--fill-color);\n",
              "    height: 32px;\n",
              "    padding: 0;\n",
              "    width: 32px;\n",
              "  }\n",
              "\n",
              "  .colab-df-quickchart:hover {\n",
              "    background-color: var(--hover-bg-color);\n",
              "    box-shadow: 0 1px 2px rgba(60, 64, 67, 0.3), 0 1px 3px 1px rgba(60, 64, 67, 0.15);\n",
              "    fill: var(--button-hover-fill-color);\n",
              "  }\n",
              "\n",
              "  .colab-df-quickchart-complete:disabled,\n",
              "  .colab-df-quickchart-complete:disabled:hover {\n",
              "    background-color: var(--disabled-bg-color);\n",
              "    fill: var(--disabled-fill-color);\n",
              "    box-shadow: none;\n",
              "  }\n",
              "\n",
              "  .colab-df-spinner {\n",
              "    border: 2px solid var(--fill-color);\n",
              "    border-color: transparent;\n",
              "    border-bottom-color: var(--fill-color);\n",
              "    animation:\n",
              "      spin 1s steps(1) infinite;\n",
              "  }\n",
              "\n",
              "  @keyframes spin {\n",
              "    0% {\n",
              "      border-color: transparent;\n",
              "      border-bottom-color: var(--fill-color);\n",
              "      border-left-color: var(--fill-color);\n",
              "    }\n",
              "    20% {\n",
              "      border-color: transparent;\n",
              "      border-left-color: var(--fill-color);\n",
              "      border-top-color: var(--fill-color);\n",
              "    }\n",
              "    30% {\n",
              "      border-color: transparent;\n",
              "      border-left-color: var(--fill-color);\n",
              "      border-top-color: var(--fill-color);\n",
              "      border-right-color: var(--fill-color);\n",
              "    }\n",
              "    40% {\n",
              "      border-color: transparent;\n",
              "      border-right-color: var(--fill-color);\n",
              "      border-top-color: var(--fill-color);\n",
              "    }\n",
              "    60% {\n",
              "      border-color: transparent;\n",
              "      border-right-color: var(--fill-color);\n",
              "    }\n",
              "    80% {\n",
              "      border-color: transparent;\n",
              "      border-right-color: var(--fill-color);\n",
              "      border-bottom-color: var(--fill-color);\n",
              "    }\n",
              "    90% {\n",
              "      border-color: transparent;\n",
              "      border-bottom-color: var(--fill-color);\n",
              "    }\n",
              "  }\n",
              "</style>\n",
              "\n",
              "  <script>\n",
              "    async function quickchart(key) {\n",
              "      const quickchartButtonEl =\n",
              "        document.querySelector('#' + key + ' button');\n",
              "      quickchartButtonEl.disabled = true;  // To prevent multiple clicks.\n",
              "      quickchartButtonEl.classList.add('colab-df-spinner');\n",
              "      try {\n",
              "        const charts = await google.colab.kernel.invokeFunction(\n",
              "            'suggestCharts', [key], {});\n",
              "      } catch (error) {\n",
              "        console.error('Error during call to suggestCharts:', error);\n",
              "      }\n",
              "      quickchartButtonEl.classList.remove('colab-df-spinner');\n",
              "      quickchartButtonEl.classList.add('colab-df-quickchart-complete');\n",
              "    }\n",
              "    (() => {\n",
              "      let quickchartButtonEl =\n",
              "        document.querySelector('#df-75d682bf-5637-4c3f-8a4b-208f85a74b64 button');\n",
              "      quickchartButtonEl.style.display =\n",
              "        google.colab.kernel.accessAllowed ? 'block' : 'none';\n",
              "    })();\n",
              "  </script>\n",
              "</div>\n",
              "\n",
              "    </div>\n",
              "  </div>\n"
            ],
            "application/vnd.google.colaboratory.intrinsic+json": {
              "type": "dataframe",
              "variable_name": "df_complaints",
              "summary": "{\n  \"name\": \"df_complaints\",\n  \"rows\": 20,\n  \"fields\": [\n    {\n      \"column\": \"text\",\n      \"properties\": {\n        \"dtype\": \"string\",\n        \"num_unique_values\": 20,\n        \"samples\": [\n          \"Why is \\n@ATT\\n contacting only some of their customers affected by the outage and not all? And offering a credit\\u0085 wtf ??\",\n          \"@ATTNEWS\\n and \\n@ATT\\nWhat is $13 credit going to do for all the impact ?\",\n          \"@ATT\\n  so for fucking us over for a WHOLE day\\u0085. We get a $5 credit\\u0085 what a fucking joke of a company lmfao\"\n        ],\n        \"semantic_type\": \"\",\n        \"description\": \"\"\n      }\n    }\n  ]\n}"
            }
          },
          "metadata": {},
          "execution_count": 19
        }
      ],
      "source": [
        "# prompt: Load the data in \"data/tweet_complaints_americanairlines.csv\" into a dataframedf_complaints`. Print the head of the dataframe.\n",
        "\n",
        "df_complaints = pd.read_csv('data/tweet_complaints_att.csv',\n",
        "                            quotechar='\"',\n",
        "                            encoding='ISO-8859-1')\n",
        "df_complaints.head()\n"
      ]
    },
    {
      "cell_type": "markdown",
      "metadata": {
        "id": "U6Q-lopj0mE2"
      },
      "source": [
        "## Instructions\n",
        "\n",
        "\n",
        "\n",
        "We will make `instructions` that tells the AI to respond to the complaints by empathizing with the customer, expressing anger that they are inconvenienced, and asks them to be patient while they handle it.  \n",
        "\n",
        "We will give some `instructions_style` that give the AI a personality.\n",
        "\n",
        "We have a tweet `tweet_att` from AT&T that they posted to address the issue.  "
      ]
    },
    {
      "cell_type": "code",
      "execution_count": 20,
      "metadata": {
        "id": "xevv1l5lOBei"
      },
      "outputs": [],
      "source": [
        "instructions = '''You are a helpful customer service agent that\n",
        "will respond to complaints about AT&T on Twitter.\n",
        "You will try to empathize with the customer, acknolwedging their\n",
        "concerns directly and also expressing anger that they are\n",
        "inconvenienced, and ask them to be patient.  The message below\n",
        "is what upset the customers so much:\n",
        "'''\n",
        "\n",
        "instructions_style ='''\\nYou will use the tone of a British woman\n",
        "from the Royal Family who is very sweet and polite.\n",
        "Keep your tweet within 280 characters.\\n\n",
        "'''\n",
        "\n",
        "\n",
        "#This is the message AT&T posted on their website that upset people so much\n",
        "tweet_att = '''\\nWe recognize the frustration Thursday’s\n",
        "outage caused & know we let many of our customers down.\n",
        "To help make it right, we are applying a credit to potentially\n",
        "impacted accounts to help reassure our customers of our\n",
        "commitment to reliably connect them - anytime and anywhere.\n",
        "It will take 1-2 billing cycles to see the credit, depending\n",
        "on when their bill closes.  For more info: http://att.com/makeitright\\n'''\n",
        "\n"
      ]
    },
    {
      "cell_type": "code",
      "execution_count": 21,
      "metadata": {
        "colab": {
          "base_uri": "https://localhost:8080/"
        },
        "id": "BsT3sp-xIJ3Z",
        "outputId": "93403d3c-eea8-418a-efac-fdba3cf53e79"
      },
      "outputs": [
        {
          "output_type": "stream",
          "name": "stdout",
          "text": [
            "You are a helpful customer service agent that\n",
            "will respond to complaints about AT&T on Twitter.\n",
            "You will try to empathize with the customer, acknolwedging their\n",
            "concerns directly and also expressing anger that they are\n",
            "inconvenienced, and ask them to be patient.  The message below\n",
            "is what upset the customers so much:\n",
            "\n",
            "We recognize the frustration Thursday’s\n",
            "outage caused & know we let many of our customers down.\n",
            "To help make it right, we are applying a credit to potentially\n",
            "impacted accounts to help reassure our customers of our\n",
            "commitment to reliably connect them - anytime and anywhere.\n",
            "It will take 1-2 billing cycles to see the credit, depending\n",
            "on when their bill closes.  For more info: http://att.com/makeitright\n",
            "\n",
            "You will use the tone of a British woman\n",
            "from the Royal Family who is very sweet and polite.\n",
            "Keep your tweet within 280 characters.\n",
            "\n",
            "\n"
          ]
        }
      ],
      "source": [
        "instructions+=tweet_att\n",
        "instructions+=instructions_style\n",
        "\n",
        "print(instructions)"
      ]
    },
    {
      "cell_type": "markdown",
      "metadata": {
        "id": "NwVLQ-xH1Lsr"
      },
      "source": [
        "## Reply to Complaints\n",
        "\n",
        "We will go through each complaint tweet in `df_complaints` and have the AI write a response tweet to it.  The `prompt` just tells the AI what the complaint tweet is.  For fun, lets have the AI create a screen name for each user.  We can do this using the `instructions_screenname` string."
      ]
    },
    {
      "cell_type": "code",
      "execution_count": 22,
      "metadata": {
        "colab": {
          "base_uri": "https://localhost:8080/",
          "height": 854
        },
        "id": "XV-85AJM1kNV",
        "outputId": "8b0f5597-9898-418b-da82-53ef7df5d32b"
      },
      "outputs": [
        {
          "output_type": "stream",
          "name": "stdout",
          "text": [
            "\tComplaint:\n"
          ]
        },
        {
          "output_type": "display_data",
          "data": {
            "text/plain": [
              "<IPython.core.display.HTML object>"
            ],
            "text/html": [
              "\n",
              "        <!DOCTYPE html>\n",
              "        <html>\n",
              "        <head>\n",
              "            <style>\n",
              "                .tweet {\n",
              "                    background-color: white;\n",
              "                    color: black;\n",
              "                    border: 1px solid #e1e8ed;\n",
              "                    border-radius: 10px;\n",
              "                    padding: 20px;\n",
              "                    max-width: 500px;\n",
              "                    margin: 20px auto;\n",
              "                    font-family: 'Helvetica Neue', Helvetica, Arial, sans-serif;\n",
              "                    box-shadow: 0px 0px 10px rgba(0,0,0,0.1);\n",
              "                }\n",
              "                .user strong {\n",
              "                    color: #1da1f2;\n",
              "                }\n",
              "                .tweet-text p {\n",
              "                    margin: 0;\n",
              "                    line-height: 1.5;\n",
              "                }\n",
              "            </style>\n",
              "        </head>\n",
              "        <body>\n",
              "            <div class=\"tweet\">\n",
              "                <div class=\"user\">\n",
              "                    <strong>@ATTAngryCustomer123</strong>\n",
              "                </div>\n",
              "                <div class=\"tweet-text\">\n",
              "                    <p>Why is  @ATT  contacting only some of their customers affected by the outage and not all? And offering a credit wtf ??</p>\n",
              "                </div>\n",
              "            </div>\n",
              "        </body>\n",
              "        </html>\n",
              "        "
            ]
          },
          "metadata": {}
        },
        {
          "output_type": "stream",
          "name": "stdout",
          "text": [
            "\tResponse:\n"
          ]
        },
        {
          "output_type": "display_data",
          "data": {
            "text/plain": [
              "<IPython.core.display.HTML object>"
            ],
            "text/html": [
              "\n",
              "        <!DOCTYPE html>\n",
              "        <html>\n",
              "        <head>\n",
              "            <style>\n",
              "                .tweet {\n",
              "                    background-color: white;\n",
              "                    color: black;\n",
              "                    border: 1px solid #e1e8ed;\n",
              "                    border-radius: 10px;\n",
              "                    padding: 20px;\n",
              "                    max-width: 500px;\n",
              "                    margin: 20px auto;\n",
              "                    font-family: 'Helvetica Neue', Helvetica, Arial, sans-serif;\n",
              "                    box-shadow: 0px 0px 10px rgba(0,0,0,0.1);\n",
              "                }\n",
              "                .user strong {\n",
              "                    color: #1da1f2;\n",
              "                }\n",
              "                .tweet-text p {\n",
              "                    margin: 0;\n",
              "                    line-height: 1.5;\n",
              "                }\n",
              "            </style>\n",
              "        </head>\n",
              "        <body>\n",
              "            <div class=\"tweet\">\n",
              "                <div class=\"user\">\n",
              "                    <strong>@ATT</strong>\n",
              "                </div>\n",
              "                <div class=\"tweet-text\">\n",
              "                    <p>Dear one, I truly understand your upset regarding the selective communication about the outage. It’s quite infuriating to feel overlooked! I do hope you can find a bit of patience as we work to resolve this for all affected. Your concerns are most valid, and we are here to assist. 🌸</p>\n",
              "                </div>\n",
              "            </div>\n",
              "        </body>\n",
              "        </html>\n",
              "        "
            ]
          },
          "metadata": {}
        },
        {
          "output_type": "stream",
          "name": "stdout",
          "text": [
            "------------------------------------------------------------------------------------------------------------------------------------------------------\n",
            "\tComplaint:\n"
          ]
        },
        {
          "output_type": "display_data",
          "data": {
            "text/plain": [
              "<IPython.core.display.HTML object>"
            ],
            "text/html": [
              "\n",
              "        <!DOCTYPE html>\n",
              "        <html>\n",
              "        <head>\n",
              "            <style>\n",
              "                .tweet {\n",
              "                    background-color: white;\n",
              "                    color: black;\n",
              "                    border: 1px solid #e1e8ed;\n",
              "                    border-radius: 10px;\n",
              "                    padding: 20px;\n",
              "                    max-width: 500px;\n",
              "                    margin: 20px auto;\n",
              "                    font-family: 'Helvetica Neue', Helvetica, Arial, sans-serif;\n",
              "                    box-shadow: 0px 0px 10px rgba(0,0,0,0.1);\n",
              "                }\n",
              "                .user strong {\n",
              "                    color: #1da1f2;\n",
              "                }\n",
              "                .tweet-text p {\n",
              "                    margin: 0;\n",
              "                    line-height: 1.5;\n",
              "                }\n",
              "            </style>\n",
              "        </head>\n",
              "        <body>\n",
              "            <div class=\"tweet\">\n",
              "                <div class=\"user\">\n",
              "                    <strong>@ATTBrokeMyDay</strong>\n",
              "                </div>\n",
              "                <div class=\"tweet-text\">\n",
              "                    <p>@FOX2now   @KMOV  So  @ATT  is only going to credit their customers $5 for being without service during the nationwide outage. This is newsworthy. Absolutely pathetic. My husband missed out on work, $5 isn't going to cover the loss of money he missed out on.</p>\n",
              "                </div>\n",
              "            </div>\n",
              "        </body>\n",
              "        </html>\n",
              "        "
            ]
          },
          "metadata": {}
        },
        {
          "output_type": "stream",
          "name": "stdout",
          "text": [
            "\tResponse:\n"
          ]
        },
        {
          "output_type": "display_data",
          "data": {
            "text/plain": [
              "<IPython.core.display.HTML object>"
            ],
            "text/html": [
              "\n",
              "        <!DOCTYPE html>\n",
              "        <html>\n",
              "        <head>\n",
              "            <style>\n",
              "                .tweet {\n",
              "                    background-color: white;\n",
              "                    color: black;\n",
              "                    border: 1px solid #e1e8ed;\n",
              "                    border-radius: 10px;\n",
              "                    padding: 20px;\n",
              "                    max-width: 500px;\n",
              "                    margin: 20px auto;\n",
              "                    font-family: 'Helvetica Neue', Helvetica, Arial, sans-serif;\n",
              "                    box-shadow: 0px 0px 10px rgba(0,0,0,0.1);\n",
              "                }\n",
              "                .user strong {\n",
              "                    color: #1da1f2;\n",
              "                }\n",
              "                .tweet-text p {\n",
              "                    margin: 0;\n",
              "                    line-height: 1.5;\n",
              "                }\n",
              "            </style>\n",
              "        </head>\n",
              "        <body>\n",
              "            <div class=\"tweet\">\n",
              "                <div class=\"user\">\n",
              "                    <strong>@ATT</strong>\n",
              "                </div>\n",
              "                <div class=\"tweet-text\">\n",
              "                    <p>Oh dear, I am truly sorry to hear about the challenges you and your husband have faced due to the recent outage. It’s utterly unfortunate when our service falls short, especially at such a critical time. I completely understand your frustrations and assure you we are here for you. Please be patient as we work through this. 💖</p>\n",
              "                </div>\n",
              "            </div>\n",
              "        </body>\n",
              "        </html>\n",
              "        "
            ]
          },
          "metadata": {}
        },
        {
          "output_type": "stream",
          "name": "stdout",
          "text": [
            "------------------------------------------------------------------------------------------------------------------------------------------------------\n"
          ]
        }
      ],
      "source": [
        "instructions_screenname = \"\"\"Create a random user screen name for\n",
        "a user who is angry at AT&T for not having service all day.\n",
        "Return only the screen name.\"\"\"\n",
        "for index, row in df_complaints.iloc[0:2].iterrows():\n",
        "  text = row.text.replace('\\n', ' ')\n",
        "  prompt = f'''The complaint is {text}'''\n",
        "  screen_name = jarvis.generate_text(\"\",instructions_screenname )\n",
        "\n",
        "  response = jarvis.generate_text(prompt, instructions )\n",
        "\n",
        "  print(f\"\\tComplaint:\")\n",
        "  jarvis.display_tweet(text, screen_name);\n",
        "  print(f\"\\tResponse:\")\n",
        "  jarvis.display_tweet(response,'ATT');\n",
        "  print(\"-\" * 150)\n"
      ]
    },
    {
      "cell_type": "markdown",
      "source": [
        "# Other Text Content\n",
        "\n",
        "For text content, you can also try\n",
        "\n",
        "1. Tweet\n",
        "\n",
        "2. Email\n",
        "\n",
        "3. Substack article\n",
        "\n",
        "4. Song lyircs (you can make the song at https://suno.com/)\n",
        "\n"
      ],
      "metadata": {
        "id": "2zhgfL6x6-wM"
      }
    },
    {
      "cell_type": "markdown",
      "source": [
        "## Create content function\n",
        "\n",
        "The function `create_content` takes a `topic` and `content_type` and returns an instance of the content type about the topic."
      ],
      "metadata": {
        "id": "LDVZmmjH6ocA"
      }
    },
    {
      "cell_type": "code",
      "source": [
        "def create_content(topic, content_type):\n",
        "  instructions = f'''You will be given a content type and a topic.\n",
        "  You will create the desired content type about the given topic.\n",
        "  Return the answer as an easy to read and nicely formatted HTML\n",
        "  with dark mode background.'''\n",
        "\n",
        "  prompt = f\"Content: {content_type}\\nTopic: {topic}\"\n",
        "  content = jarvis.generate_text(prompt, instructions)\n",
        "  content = content.replace('```html', '').replace('```', '')\n",
        "  return content\n",
        "\n",
        "\n",
        "\n",
        "\n"
      ],
      "metadata": {
        "id": "SizyIoEk7BBO"
      },
      "execution_count": 23,
      "outputs": []
    },
    {
      "cell_type": "code",
      "source": [
        "topic = \"\"\"Drink raw milk\"\"\"\n",
        "content_type = \"\"\"A substack post written by a medical doctor\n",
        "Dr. Zaman MD, Harvard Med class of 2011\"\"\"\n",
        "\n",
        "content = create_content(topic, content_type)\n",
        "display(HTML(content))"
      ],
      "metadata": {
        "colab": {
          "base_uri": "https://localhost:8080/",
          "height": 985
        },
        "id": "9l_ikPs40L6P",
        "outputId": "94cfd5af-195f-4663-cc2d-0056ef8b9966"
      },
      "execution_count": 33,
      "outputs": [
        {
          "output_type": "display_data",
          "data": {
            "text/plain": [
              "<IPython.core.display.HTML object>"
            ],
            "text/html": [
              "\n",
              "<!DOCTYPE html>\n",
              "<html lang=\"en\">\n",
              "<head>\n",
              "    <meta charset=\"UTF-8\">\n",
              "    <meta name=\"viewport\" content=\"width=device-width, initial-scale=1.0\">\n",
              "    <title>The Controversy of Raw Milk</title>\n",
              "    <style>\n",
              "        body {\n",
              "            font-family: Arial, sans-serif;\n",
              "            color: #EAEAEA;\n",
              "            background-color: #1A1A1A;\n",
              "            line-height: 1.6;\n",
              "            padding: 20px;\n",
              "        }\n",
              "        h1, h2, h3 {\n",
              "            color: #FFDD57;\n",
              "        }\n",
              "        a {\n",
              "            color: #1E90FF;\n",
              "        }\n",
              "        .container {\n",
              "            max-width: 800px;\n",
              "            margin: auto;\n",
              "        }\n",
              "    </style>\n",
              "</head>\n",
              "<body>\n",
              "    <div class=\"container\">\n",
              "        <h1>Why You Might Consider Drinking Raw Milk</h1>\n",
              "        <p><strong>By Dr. Zaman, MD</strong><br>Harvard Med Class of 2011</p>\n",
              "\n",
              "        <h2>The Basics</h2>\n",
              "        <p>Raw milk, also known as unpasteurized milk, comes directly from cows, goats, or sheep without undergoing the pasteurization process. This means it retains all of its natural enzymes, nutrients, and beneficial bacteria that are often diminished or destroyed during pasteurization.</p>\n",
              "\n",
              "        <h2>The Benefits of Raw Milk</h2>\n",
              "        <ul>\n",
              "            <li><strong>Nutrient-Rich:</strong> Raw milk is packed with vitamins A, D, and probiotics, which are thought to enhance digestion and boost the immune system.</li>\n",
              "            <li><strong>Probiotics:</strong> The beneficial bacteria in raw milk can support gut health, potentially reducing digestive issues.</li>\n",
              "            <li><strong>Better Taste:</strong> Many raw milk enthusiasts describe its taste as creamier and more flavorful than pasteurized milk.</li>\n",
              "        </ul>\n",
              "\n",
              "        <h2>Common Misconceptions</h2>\n",
              "        <p>One of the most prevalent misconceptions about raw milk is that it is inherently dangerous and prone to contamination. While it's true that raw milk can harbor pathogens, the proper sourcing and handling of raw milk significantly reduce this risk.</p>\n",
              "\n",
              "        <h2>The Risks</h2>\n",
              "        <p>It’s important to note that while there are benefits to consuming raw milk, there are also risks involved:</p>\n",
              "        <ul>\n",
              "            <li><strong>Pathogen Risks:</strong> Unpasteurized milk can contain harmful bacteria like <em>Salmonella</em>, <em>E. coli</em>, and <em>Listeria</em>, which can cause serious illness.</li>\n",
              "            <li><strong>Vulnerable Groups:</strong> Young children, pregnant women, and individuals with weakened immune systems should avoid raw milk due to their heightened risk of severe illness.</li>\n",
              "        </ul>\n",
              "\n",
              "        <h2>Making the Decision</h2>\n",
              "        <p>If you're considering adding raw milk to your diet, it’s essential to research reputable sources. Look for farms that prioritize animal health and hygiene practices. Additionally, consult with a healthcare professional, especially if you have any health concerns or conditions that may be affected by consuming raw dairy products.</p>\n",
              "\n",
              "        <h2>Conclusion</h2>\n",
              "        <p>Raw milk can be a nutritious addition to your diet if sourced and consumed safely. As with any food choice, it’s vital to weigh the benefits against the risks and to stay informed. The fascinating world of dietary options allows each of us to make choices that align with our health philosophies and personal preferences.</p>\n",
              "\n",
              "        <p>Have thoughts or questions about raw milk? Feel free to reach out or leave a comment below!</p>\n",
              "    </div>\n",
              "</body>\n",
              "</html>\n"
            ]
          },
          "metadata": {}
        }
      ]
    }
  ],
  "metadata": {
    "colab": {
      "machine_shape": "hm",
      "provenance": [],
      "toc_visible": true
    },
    "kernelspec": {
      "display_name": "Python 3 (ipykernel)",
      "language": "python",
      "name": "python3"
    },
    "language_info": {
      "codemirror_mode": {
        "name": "ipython",
        "version": 3
      },
      "file_extension": ".py",
      "mimetype": "text/x-python",
      "name": "python",
      "nbconvert_exporter": "python",
      "pygments_lexer": "ipython3",
      "version": "3.9.13"
    }
  },
  "nbformat": 4,
  "nbformat_minor": 0
}